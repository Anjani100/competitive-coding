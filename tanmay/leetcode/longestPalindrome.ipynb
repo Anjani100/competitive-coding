{
 "cells": [
  {
   "cell_type": "code",
   "execution_count": 81,
   "metadata": {},
   "outputs": [],
   "source": [
    "class Solution:\n",
    "    def longestPalindrome(self, s: str) -> str:\n",
    "        if s == None or len(s)<0:\n",
    "            return None\n",
    "        start = 0\n",
    "        end = 0\n",
    "        for i in range(len(s)):\n",
    "            len1 = self.__longestPalindromeLenght(s,i,i)\n",
    "            len2 = self.__longestPalindromeLenght(s,i,i+1)\n",
    "            lens = max(len1,len2)\n",
    "            if lens > end - start :\n",
    "                start = i -int((lens-1)/2)\n",
    "                end = i + int(lens/2)\n",
    "#         print(start,end+1)\n",
    "        return s[start:end+1]\n",
    "    \n",
    "    def __longestPalindromeLenght(self,s,left,right) -> int:\n",
    "        if len(s) <= 0:\n",
    "            return 0\n",
    "        print(\"Before: \",s,left,right)\n",
    "        while(left<=0 and right<len(s) and s[left] == s[right]):\n",
    "            left-=1\n",
    "            right+=1\n",
    "        print(\"After: \",s,left,right)\n",
    "        return right-left-1"
   ]
  },
  {
   "cell_type": "code",
   "execution_count": 82,
   "metadata": {},
   "outputs": [],
   "source": [
    "s = Solution()"
   ]
  },
  {
   "cell_type": "code",
   "execution_count": 83,
   "metadata": {},
   "outputs": [
    {
     "name": "stdout",
     "output_type": "stream",
     "text": [
      "Before:  tat 0 0\n",
      "After:  tat -1 1\n",
      "Before:  tat 0 1\n",
      "After:  tat 0 1\n",
      "Before:  tat 1 1\n",
      "After:  tat 1 1\n",
      "Before:  tat 1 2\n",
      "After:  tat 1 2\n",
      "Before:  tat 2 2\n",
      "After:  tat 2 2\n",
      "Before:  tat 2 3\n",
      "After:  tat 2 3\n"
     ]
    },
    {
     "data": {
      "text/plain": [
       "'t'"
      ]
     },
     "execution_count": 83,
     "metadata": {},
     "output_type": "execute_result"
    }
   ],
   "source": [
    "s.longestPalindrome(\"tat\")"
   ]
  },
  {
   "cell_type": "code",
   "execution_count": 85,
   "metadata": {},
   "outputs": [
    {
     "name": "stdout",
     "output_type": "stream",
     "text": [
      "a a\n"
     ]
    }
   ],
   "source": [
    "a = \"tat\"\n",
    "print(a[1],a[1])"
   ]
  },
  {
   "cell_type": "code",
   "execution_count": null,
   "metadata": {},
   "outputs": [],
   "source": []
  }
 ],
 "metadata": {
  "kernelspec": {
   "display_name": "Python 3",
   "language": "python",
   "name": "python3"
  },
  "language_info": {
   "codemirror_mode": {
    "name": "ipython",
    "version": 3
   },
   "file_extension": ".py",
   "mimetype": "text/x-python",
   "name": "python",
   "nbconvert_exporter": "python",
   "pygments_lexer": "ipython3",
   "version": "3.6.9"
  }
 },
 "nbformat": 4,
 "nbformat_minor": 4
}
