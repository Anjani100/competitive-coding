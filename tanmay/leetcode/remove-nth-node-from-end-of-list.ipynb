{
 "cells": [
  {
   "cell_type": "code",
   "execution_count": null,
   "metadata": {},
   "outputs": [],
   "source": [
    "# https://leetcode.com/problems/remove-nth-node-from-end-of-list/submissions/\n",
    "# Definition for singly-linked list.\n",
    "# class ListNode:\n",
    "#     def __init__(self, val=0, next=None):\n",
    "#         self.val = val\n",
    "#         self.next = next\n",
    "class Solution:\n",
    "    def removeNthFromEnd(self, head: ListNode, n: int) -> ListNode:\n",
    "        if n == 0:\n",
    "            return head\n",
    "        temp = head\n",
    "        i  = 0\n",
    "        while(temp):\n",
    "            globals()[\"temp_node\"+str(i)] = temp\n",
    "            i+=1\n",
    "            temp = temp.next\n",
    "        globals()[\"temp_node\"+str(i)] = None\n",
    "        replace_index = i-n-1\n",
    "        if i == n:\n",
    "            head = head.next\n",
    "            return head\n",
    "        \n",
    "        globals()[\"temp_node\"+str(replace_index)].next = globals()[\"temp_node\"+str(replace_index+2)]\n",
    "        return head\n",
    "        "
   ]
  }
 ],
 "metadata": {
  "kernelspec": {
   "display_name": "Python 3",
   "language": "python",
   "name": "python3"
  },
  "language_info": {
   "codemirror_mode": {
    "name": "ipython",
    "version": 3
   },
   "file_extension": ".py",
   "mimetype": "text/x-python",
   "name": "python",
   "nbconvert_exporter": "python",
   "pygments_lexer": "ipython3",
   "version": "3.6.9"
  }
 },
 "nbformat": 4,
 "nbformat_minor": 4
}
