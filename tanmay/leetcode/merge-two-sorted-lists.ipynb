{
 "cells": [
  {
   "cell_type": "code",
   "execution_count": null,
   "metadata": {},
   "outputs": [],
   "source": [
    "# https://leetcode.com/problems/merge-two-sorted-lists/submissions/\n",
    "# Definition for singly-linked list.\n",
    "# class ListNode:\n",
    "#     def __init__(self, val=0, next=None):\n",
    "#         self.val = val\n",
    "#         self.next = next\n",
    "class Solution:\n",
    "    def mergeTwoLists(self, l1: ListNode, l2: ListNode) -> ListNode:\n",
    "        \n",
    "        if not l1 and not l2:\n",
    "            return None\n",
    "    \n",
    "        if l1 and not l2:\n",
    "            return l1\n",
    "        \n",
    "        if not l1 and l2:\n",
    "            return l2\n",
    "        \n",
    "        \n",
    "        temp_1 = l1\n",
    "        temp_2 = l2\n",
    "        \n",
    "        if temp_1.val < temp_2.val:\n",
    "            main_head = temp_1\n",
    "            temp_1 = temp_1.next\n",
    "        else:\n",
    "            main_head = temp_2\n",
    "            temp_2 = temp_2.next\n",
    "        \n",
    "        main_temp = main_head\n",
    "        \n",
    "        while(temp_1 and temp_2):\n",
    "            if temp_1.val < temp_2.val:\n",
    "                main_temp.next = ListNode(temp_1.val)\n",
    "                main_temp = main_temp.next\n",
    "                temp_1 = temp_1.next\n",
    "            else:\n",
    "                main_temp.next = ListNode(temp_2.val)\n",
    "                main_temp = main_temp.next\n",
    "                temp_2 = temp_2.next\n",
    "        if temp_1 and not temp_2:\n",
    "            main_temp.next = temp_1\n",
    "        if temp_2 and not temp_1:\n",
    "            main_temp.next = temp_2\n",
    "        \n",
    "        return main_head"
   ]
  }
 ],
 "metadata": {
  "kernelspec": {
   "display_name": "Python 3",
   "language": "python",
   "name": "python3"
  },
  "language_info": {
   "codemirror_mode": {
    "name": "ipython",
    "version": 3
   },
   "file_extension": ".py",
   "mimetype": "text/x-python",
   "name": "python",
   "nbconvert_exporter": "python",
   "pygments_lexer": "ipython3",
   "version": "3.6.9"
  }
 },
 "nbformat": 4,
 "nbformat_minor": 4
}
