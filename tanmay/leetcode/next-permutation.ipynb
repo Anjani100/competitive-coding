{
 "cells": [
  {
   "cell_type": "code",
   "execution_count": 1,
   "metadata": {},
   "outputs": [],
   "source": [
    "# https://leetcode.com/problems/next-permutation/\n",
    "# Input: nums = [1,2,3]\n",
    "# Output: [1,3,2]"
   ]
  },
  {
   "cell_type": "code",
   "execution_count": 76,
   "metadata": {},
   "outputs": [],
   "source": [
    "class Solution:\n",
    "    def nextPermutation(self, nums) -> None:\n",
    "        \"\"\"\n",
    "        Do not return anything, modify nums in-place instead.\n",
    "        \"\"\"\n",
    "        i = len(nums)-2\n",
    "        while(i>=0 and nums[i+1]<=nums[i]):\n",
    "            i-=1\n",
    "        if i>=0:\n",
    "            j = len(nums)-1\n",
    "            while(j>=0 and nums[j]<=nums[i]):\n",
    "                j-=1\n",
    "            self.__swap(nums,i,j)\n",
    "        self.__reverse(nums,i+1)\n",
    "        \n",
    "    def __reverse(self,nums,start):\n",
    "        i = start\n",
    "        j = len(nums)-1\n",
    "        while(i<j):\n",
    "            self.__swap(nums,i,j)\n",
    "            i+=1\n",
    "            j-=1\n",
    "        \n",
    "    def __swap(self,nums,i,j):\n",
    "        nums[i],nums[j] = nums[j],nums[i]"
   ]
  },
  {
   "cell_type": "code",
   "execution_count": 77,
   "metadata": {},
   "outputs": [],
   "source": [
    "s = Solution()"
   ]
  },
  {
   "cell_type": "code",
   "execution_count": 79,
   "metadata": {},
   "outputs": [
    {
     "name": "stdout",
     "output_type": "stream",
     "text": [
      "[1, 3, 2]\n"
     ]
    }
   ],
   "source": [
    "nums = [1,2,3]\n",
    "s.nextPermutation(nums)\n",
    "print(nums)"
   ]
  },
  {
   "cell_type": "code",
   "execution_count": null,
   "metadata": {},
   "outputs": [],
   "source": []
  }
 ],
 "metadata": {
  "kernelspec": {
   "display_name": "Python 3",
   "language": "python",
   "name": "python3"
  },
  "language_info": {
   "codemirror_mode": {
    "name": "ipython",
    "version": 3
   },
   "file_extension": ".py",
   "mimetype": "text/x-python",
   "name": "python",
   "nbconvert_exporter": "python",
   "pygments_lexer": "ipython3",
   "version": "3.6.9"
  }
 },
 "nbformat": 4,
 "nbformat_minor": 4
}
