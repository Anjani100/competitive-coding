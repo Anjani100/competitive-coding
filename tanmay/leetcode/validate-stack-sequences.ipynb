{
 "cells": [
  {
   "cell_type": "code",
   "execution_count": null,
   "metadata": {},
   "outputs": [],
   "source": [
    "# https://leetcode.com/problems/validate-stack-sequences/submissions/\n",
    "class Solution:\n",
    "    def validateStackSequences(self, pushed: List[int], popped: List[int]) -> bool:\n",
    "        if not pushed:\n",
    "            if not popped:\n",
    "                return True\n",
    "            return False\n",
    "        \n",
    "        mid = []\n",
    "        while pushed or mid:\n",
    "            mid.insert(0,pushed.pop(0))\n",
    "            while len(mid) and mid[0] == popped[0]:\n",
    "                mid.pop(0)\n",
    "                popped.pop(0)\n",
    "            if  len(pushed) == 0:\n",
    "                if (len(mid)>0) and (mid[0] != popped[0]):\n",
    "                    return False\n",
    "            if not popped:\n",
    "                return True\n",
    "            \n",
    "        return False\n",
    "            "
   ]
  },
  {
   "cell_type": "code",
   "execution_count": null,
   "metadata": {},
   "outputs": [],
   "source": [
    "pushed = [1,2,3,4,5]\n",
    "popped = [4,5,3,2,1]"
   ]
  },
  {
   "cell_type": "code",
   "execution_count": null,
   "metadata": {},
   "outputs": [],
   "source": [
    "def a(pushed,popped):\n",
    "    mid = []\n",
    "    while pushed or mid:\n",
    "        mid.insert(0,pushed.pop(0))\n",
    "        while len(mid) and mid[0] == popped[0]:\n",
    "            mid.pop(0)\n",
    "            popped.pop(0)\n",
    "        if  len(pushed) == 0:\n",
    "            if (len(mid)>0) and (mid[0] != popped[0]):\n",
    "                return False\n",
    "        if not popped:\n",
    "            return True\n",
    "    return False"
   ]
  },
  {
   "cell_type": "code",
   "execution_count": null,
   "metadata": {},
   "outputs": [],
   "source": [
    "a(pushed,popped)"
   ]
  },
  {
   "cell_type": "code",
   "execution_count": null,
   "metadata": {},
   "outputs": [],
   "source": []
  }
 ],
 "metadata": {
  "kernelspec": {
   "display_name": "Python 3",
   "language": "python",
   "name": "python3"
  },
  "language_info": {
   "codemirror_mode": {
    "name": "ipython",
    "version": 3
   },
   "file_extension": ".py",
   "mimetype": "text/x-python",
   "name": "python",
   "nbconvert_exporter": "python",
   "pygments_lexer": "ipython3",
   "version": "3.6.9"
  }
 },
 "nbformat": 4,
 "nbformat_minor": 4
}
