{
 "cells": [
  {
   "cell_type": "code",
   "execution_count": 24,
   "metadata": {},
   "outputs": [],
   "source": [
    "class Solution:\n",
    "    def lengthOfLongestSubstring(self, s: str) -> int:\n",
    "        seen = {} \n",
    "        maximum_length = 0\n",
    "   \n",
    "        start = 0 \n",
    "       \n",
    "        for end in range(len(s)): \n",
    "            if s[end] in seen: \n",
    "                start = max(start, seen[s[end]] + 1) \n",
    "   \n",
    "            seen[s[end]] = end \n",
    "            maximum_length = max(maximum_length, end-start + 1) \n",
    "        return maximum_length"
   ]
  }
 ],
 "metadata": {
  "kernelspec": {
   "display_name": "Python 3",
   "language": "python",
   "name": "python3"
  },
  "language_info": {
   "codemirror_mode": {
    "name": "ipython",
    "version": 3
   },
   "file_extension": ".py",
   "mimetype": "text/x-python",
   "name": "python",
   "nbconvert_exporter": "python",
   "pygments_lexer": "ipython3",
   "version": "3.6.9"
  }
 },
 "nbformat": 4,
 "nbformat_minor": 4
}
