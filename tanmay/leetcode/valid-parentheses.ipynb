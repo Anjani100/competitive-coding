{
 "cells": [
  {
   "cell_type": "code",
   "execution_count": null,
   "metadata": {},
   "outputs": [],
   "source": [
    "# https://leetcode.com/problems/valid-parentheses/submissions/\n",
    "class Solution:\n",
    "    def isValid(self, s: str) -> bool:\n",
    "        arr = []\n",
    "        for i in s:\n",
    "            if i == \"(\":\n",
    "                arr.append(i)\n",
    "            if i == \"{\":\n",
    "                arr.append(i)\n",
    "            if i == \"[\":\n",
    "                arr.append(i)\n",
    "            if i == \")\":\n",
    "                if not len(arr):\n",
    "                    return False\n",
    "                a = arr.pop()\n",
    "                if a != \"(\":\n",
    "                    return False\n",
    "            if i == \"}\":\n",
    "                \n",
    "                if not len(arr):\n",
    "                    return False\n",
    "                a = arr.pop()\n",
    "                if a != \"{\":\n",
    "                    return False\n",
    "            if i == \"]\":\n",
    "                \n",
    "                if not len(arr):\n",
    "                    return False\n",
    "                a = arr.pop()\n",
    "                if a != \"[\":\n",
    "                    return False\n",
    "        if len(arr):\n",
    "            return False\n",
    "        return True"
   ]
  }
 ],
 "metadata": {
  "kernelspec": {
   "display_name": "Python 3",
   "language": "python",
   "name": "python3"
  },
  "language_info": {
   "codemirror_mode": {
    "name": "ipython",
    "version": 3
   },
   "file_extension": ".py",
   "mimetype": "text/x-python",
   "name": "python",
   "nbconvert_exporter": "python",
   "pygments_lexer": "ipython3",
   "version": "3.6.9"
  }
 },
 "nbformat": 4,
 "nbformat_minor": 4
}
