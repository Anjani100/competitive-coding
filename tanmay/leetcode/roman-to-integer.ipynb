{
 "cells": [
  {
   "cell_type": "code",
   "execution_count": 1,
   "metadata": {},
   "outputs": [],
   "source": [
    "# https://leetcode.com/problems/roman-to-integer/\n",
    "# Symbol       Value\n",
    "# I             1\n",
    "# V             5\n",
    "# X             10\n",
    "# L             50\n",
    "# C             100\n",
    "# D             500\n",
    "# M             1000\n",
    "# I can be placed before V (5) and X (10) to make 4 and 9. \n",
    "# X can be placed before L (50) and C (100) to make 40 and 90. \n",
    "# C can be placed before D (500) and M (1000) to make 400 and 900.\n",
    "# Input: s = \"LVIII\"\n",
    "# Output: 58\n",
    "# Explanation: L = 50, V= 5, III = 3."
   ]
  },
  {
   "cell_type": "code",
   "execution_count": 25,
   "metadata": {},
   "outputs": [],
   "source": [
    "class Solution:\n",
    "    def romanToInt(self, s: str) -> int:\n",
    "        num = 0\n",
    "        \n",
    "        while s[0] == \"M\":\n",
    "            num+=1000\n",
    "            if len(s) < 2:\n",
    "                return num\n",
    "            s = s[1:]\n",
    "        while s[0:2] == \"CM\":\n",
    "            num+=900\n",
    "            if len(s) < 3:\n",
    "                return num\n",
    "            s = s[2:]\n",
    "        \n",
    "        while s[0] == \"D\":\n",
    "            num+=500\n",
    "            if len(s) < 2:\n",
    "                return num\n",
    "            s = s[1:]\n",
    "        while s[0:2] == \"CD\":\n",
    "            num+=400\n",
    "            if len(s) < 3:\n",
    "                return num\n",
    "            s = s[2:]\n",
    "        \n",
    "        while s[0] == \"C\":\n",
    "            num+=100\n",
    "            if len(s) < 2:\n",
    "                return num\n",
    "            s = s[1:]\n",
    "        while s[0:2] == \"XC\":\n",
    "            num+=90\n",
    "            if len(s) < 3:\n",
    "                return num\n",
    "            s = s[2:]\n",
    "        \n",
    "        while s[0] == \"L\":\n",
    "            num+=50\n",
    "            if len(s) < 2:\n",
    "                return num\n",
    "            s = s[1:]\n",
    "        while s[0:2] == \"XL\":\n",
    "            num+=40\n",
    "            if len(s) < 3:\n",
    "                return num\n",
    "            s = s[2:]\n",
    "        \n",
    "        while s[0] == \"X\":\n",
    "            num+=10\n",
    "            if len(s) < 2:\n",
    "                return num\n",
    "            s = s[1:]\n",
    "        while s[0:2] == \"IX\":\n",
    "            num+=9\n",
    "            if len(s) < 3:\n",
    "                return num\n",
    "            s = s[2:]\n",
    "        \n",
    "        while s[0] == \"V\":\n",
    "            num+=5\n",
    "            if len(s) < 2:\n",
    "                return num\n",
    "            s = s[1:]\n",
    "        while s[0:2] == \"IV\":\n",
    "            num+=4\n",
    "            if len(s) < 3:\n",
    "                return num\n",
    "            s = s[2:]\n",
    "        \n",
    "        while s[0:1] == \"I\":\n",
    "            num+=1\n",
    "            if len(s) < 1:\n",
    "                return num\n",
    "            s = s[1:]\n",
    "        \n",
    "        return num\n",
    "        "
   ]
  },
  {
   "cell_type": "code",
   "execution_count": 26,
   "metadata": {},
   "outputs": [],
   "source": [
    "s = Solution()"
   ]
  },
  {
   "cell_type": "code",
   "execution_count": 27,
   "metadata": {},
   "outputs": [
    {
     "data": {
      "text/plain": [
       "1994"
      ]
     },
     "execution_count": 27,
     "metadata": {},
     "output_type": "execute_result"
    }
   ],
   "source": [
    "s.romanToInt(\"MCMXCIV\")"
   ]
  },
  {
   "cell_type": "code",
   "execution_count": null,
   "metadata": {},
   "outputs": [],
   "source": []
  }
 ],
 "metadata": {
  "kernelspec": {
   "display_name": "Python 3",
   "language": "python",
   "name": "python3"
  },
  "language_info": {
   "codemirror_mode": {
    "name": "ipython",
    "version": 3
   },
   "file_extension": ".py",
   "mimetype": "text/x-python",
   "name": "python",
   "nbconvert_exporter": "python",
   "pygments_lexer": "ipython3",
   "version": "3.6.9"
  }
 },
 "nbformat": 4,
 "nbformat_minor": 4
}
