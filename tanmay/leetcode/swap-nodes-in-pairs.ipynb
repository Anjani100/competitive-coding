{
 "cells": [
  {
   "cell_type": "code",
   "execution_count": null,
   "metadata": {},
   "outputs": [],
   "source": [
    "# https://leetcode.com/problems/swap-nodes-in-pairs/submissions/\n",
    "# Definition for singly-linked list.\n",
    "# class ListNode:\n",
    "#     def __init__(self, val=0, next=None):\n",
    "#         self.val = val\n",
    "#         self.next = next\n",
    "class Solution:\n",
    "    def swapPairs(self, head: ListNode) -> ListNode:\n",
    "        if head == None:\n",
    "            return None\n",
    "        if head.next == None:\n",
    "            return head\n",
    "        \n",
    "        if head.next.next == None:\n",
    "            temp = head\n",
    "            head = temp.next\n",
    "            temp.next = head.next\n",
    "            head.next = temp\n",
    "            return head\n",
    "        \n",
    "        temp = head\n",
    "        while(temp and temp.next):\n",
    "            if temp.val == temp.next.val:\n",
    "                temp = temp.next.next\n",
    "            else:\n",
    "                temp.val,temp.next.val = temp.next.val,temp.val\n",
    "                temp = temp.next.next\n",
    "        \n",
    "        return head\n",
    "            "
   ]
  }
 ],
 "metadata": {
  "kernelspec": {
   "display_name": "Python 3",
   "language": "python",
   "name": "python3"
  },
  "language_info": {
   "codemirror_mode": {
    "name": "ipython",
    "version": 3
   },
   "file_extension": ".py",
   "mimetype": "text/x-python",
   "name": "python",
   "nbconvert_exporter": "python",
   "pygments_lexer": "ipython3",
   "version": "3.6.9"
  }
 },
 "nbformat": 4,
 "nbformat_minor": 4
}
