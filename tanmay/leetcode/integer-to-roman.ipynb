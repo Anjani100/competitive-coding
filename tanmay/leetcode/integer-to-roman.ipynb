{
 "cells": [
  {
   "cell_type": "code",
   "execution_count": null,
   "metadata": {},
   "outputs": [],
   "source": [
    "# https://leetcode.com/problems/integer-to-roman/\n",
    "# Symbol       Value\n",
    "# I             1\n",
    "# V             5\n",
    "# X             10\n",
    "# L             50\n",
    "# C             100\n",
    "# D             500\n",
    "# M             1000\n",
    "# Input: num = 58\n",
    "# Output: \"LVIII\"\n",
    "# Explanation: L = 50, V = 5, III = 3."
   ]
  },
  {
   "cell_type": "code",
   "execution_count": 24,
   "metadata": {},
   "outputs": [],
   "source": [
    "class Solution:\n",
    "    def intToRoman(self, num: int) -> str:\n",
    "        numList = [1, 4, 5, 9, 10, 40, 50, 90,  \n",
    "               100, 400, 500, 900, 1000] \n",
    "        sym = [\"I\", \"IV\", \"V\", \"IX\", \"X\", \"XL\",  \n",
    "               \"L\", \"XC\", \"C\", \"CD\", \"D\", \"CM\", \"M\"] \n",
    "        i = 12\n",
    "        ans = \"\"\n",
    "        while num: \n",
    "            div = num // numList[i] \n",
    "            num %= numList[i] \n",
    "\n",
    "            while div:  \n",
    "                ans+=sym[i]\n",
    "                div -= 1\n",
    "            i -= 1\n",
    "        return ans"
   ]
  },
  {
   "cell_type": "code",
   "execution_count": 25,
   "metadata": {},
   "outputs": [],
   "source": [
    "s = Solution()"
   ]
  },
  {
   "cell_type": "code",
   "execution_count": 26,
   "metadata": {},
   "outputs": [
    {
     "data": {
      "text/plain": [
       "'IV'"
      ]
     },
     "execution_count": 26,
     "metadata": {},
     "output_type": "execute_result"
    }
   ],
   "source": [
    "s.intToRoman(4)"
   ]
  },
  {
   "cell_type": "code",
   "execution_count": null,
   "metadata": {},
   "outputs": [],
   "source": [
    "1000"
   ]
  }
 ],
 "metadata": {
  "kernelspec": {
   "display_name": "Python 3",
   "language": "python",
   "name": "python3"
  },
  "language_info": {
   "codemirror_mode": {
    "name": "ipython",
    "version": 3
   },
   "file_extension": ".py",
   "mimetype": "text/x-python",
   "name": "python",
   "nbconvert_exporter": "python",
   "pygments_lexer": "ipython3",
   "version": "3.6.9"
  }
 },
 "nbformat": 4,
 "nbformat_minor": 4
}
