{
 "cells": [
  {
   "cell_type": "code",
   "execution_count": null,
   "metadata": {},
   "outputs": [],
   "source": [
    "# https://leetcode.com/problems/3sum/submissions/\n",
    "class Solution:\n",
    "    def threeSum(self, nums: List[int]) -> List[List[int]]:\n",
    "        result = []\n",
    "        nums.sort()\n",
    "        size = len(nums)\n",
    "        for i in range(0,size-2):\n",
    "            if i > 0 and nums[i] == nums[i-1]:\n",
    "                continue\n",
    "            l = i+1\n",
    "            r = size-1\n",
    "            while(l<r):\n",
    "                temp_sum = nums[i]+nums[l]+nums[r]\n",
    "                temp = [nums[i],nums[l],nums[r]]\n",
    "                if temp_sum == 0:\n",
    "                    result.append(temp)\n",
    "                    l+=1\n",
    "                    while nums[l] == nums[l-1] and l < r :\n",
    "                        l+=1\n",
    "                elif temp_sum < 0:\n",
    "                    l+=1\n",
    "                else:\n",
    "                    r-=1\n",
    "        return result"
   ]
  }
 ],
 "metadata": {
  "kernelspec": {
   "display_name": "Python 3",
   "language": "python",
   "name": "python3"
  },
  "language_info": {
   "codemirror_mode": {
    "name": "ipython",
    "version": 3
   },
   "file_extension": ".py",
   "mimetype": "text/x-python",
   "name": "python",
   "nbconvert_exporter": "python",
   "pygments_lexer": "ipython3",
   "version": "3.6.9"
  }
 },
 "nbformat": 4,
 "nbformat_minor": 4
}
