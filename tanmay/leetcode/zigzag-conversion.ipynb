{
 "cells": [
  {
   "cell_type": "code",
   "execution_count": null,
   "metadata": {},
   "outputs": [],
   "source": [
    "# Input: s = \"PAYPALISHIRING\", numRows = 4\n",
    "# Output: \"PINALSIGYAHRPI\"\n",
    "# Explanation:\n",
    "# P     I    N\n",
    "# A   L S  I G\n",
    "# Y A   H R\n",
    "# P     I"
   ]
  },
  {
   "cell_type": "code",
   "execution_count": 45,
   "metadata": {},
   "outputs": [],
   "source": [
    "class Solution:\n",
    "    def convert(self, s: str, numRows: int) -> str:\n",
    "        if numRows == 1:\n",
    "            return s\n",
    "        arr = [\"\"]*len(s)\n",
    "        row = 0\n",
    "        down = True\n",
    "        for i in range (len(s)):\n",
    "            arr[row]+=s[i]\n",
    "            if row == (numRows-1):\n",
    "                down = False\n",
    "            elif row == 0:\n",
    "                down = True\n",
    "            if down:\n",
    "                row+=1\n",
    "            else:\n",
    "                row-=1\n",
    "        print(arr)\n",
    "        ans = \"\".join(str(i) for i in arr)\n",
    "        return ans"
   ]
  },
  {
   "cell_type": "code",
   "execution_count": 46,
   "metadata": {},
   "outputs": [],
   "source": [
    "s = Solution()"
   ]
  },
  {
   "cell_type": "code",
   "execution_count": 47,
   "metadata": {},
   "outputs": [
    {
     "name": "stdout",
     "output_type": "stream",
     "text": [
      "['PAHN', 'APLSIIG', 'YIR', '', '', '', '', '', '', '', '', '', '', '']\n"
     ]
    },
    {
     "data": {
      "text/plain": [
       "'PAHNAPLSIIGYIR'"
      ]
     },
     "execution_count": 47,
     "metadata": {},
     "output_type": "execute_result"
    }
   ],
   "source": [
    "s.convert(\"PAYPALISHIRING\",3)"
   ]
  },
  {
   "cell_type": "code",
   "execution_count": null,
   "metadata": {},
   "outputs": [],
   "source": []
  }
 ],
 "metadata": {
  "kernelspec": {
   "display_name": "Python 3",
   "language": "python",
   "name": "python3"
  },
  "language_info": {
   "codemirror_mode": {
    "name": "ipython",
    "version": 3
   },
   "file_extension": ".py",
   "mimetype": "text/x-python",
   "name": "python",
   "nbconvert_exporter": "python",
   "pygments_lexer": "ipython3",
   "version": "3.6.9"
  }
 },
 "nbformat": 4,
 "nbformat_minor": 4
}
