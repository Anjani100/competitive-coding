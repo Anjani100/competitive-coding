{
 "cells": [
  {
   "cell_type": "code",
   "execution_count": null,
   "metadata": {},
   "outputs": [],
   "source": [
    "# https://leetcode.com/problems/string-to-integer-atoi/\n",
    "# Input: str = \"4193 with words\"\n",
    "# Output: 4193\n",
    "# Explanation: Conversion stops at digit '3' as the next character is not a numerical digit."
   ]
  },
  {
   "cell_type": "code",
   "execution_count": 55,
   "metadata": {},
   "outputs": [],
   "source": [
    "class Solution:\n",
    "    def myAtoi(self, s: str) -> int:\n",
    "        pos = True\n",
    "        data = \"\"\n",
    "        flag = False\n",
    "        sign = False\n",
    "        for i in s:\n",
    "            if i == \"-\" and not flag:\n",
    "                if sign:\n",
    "                    break\n",
    "                pos = False\n",
    "                sign = True\n",
    "                flag = True\n",
    "            elif i == \"+\" and not flag:\n",
    "                if sign:\n",
    "                    break\n",
    "                pos = True\n",
    "                sign = True\n",
    "                \n",
    "            elif ord(i) == 32:\n",
    "                if flag:\n",
    "                    break\n",
    "                continue\n",
    "            elif ord(i)<58 and ord(i)>47:\n",
    "                data+=i\n",
    "                flag = True\n",
    "            else:\n",
    "                break\n",
    "        if data == \"\":\n",
    "            data = \"0\"\n",
    "        if pos == False:\n",
    "            data = -1*int(data)\n",
    "        else:\n",
    "            data = int(data)\n",
    "        if data>2147483647:\n",
    "            data = 2147483647\n",
    "        if data<-2147483648:\n",
    "            data = -2147483648\n",
    "        return data"
   ]
  },
  {
   "cell_type": "code",
   "execution_count": 56,
   "metadata": {},
   "outputs": [],
   "source": [
    "s = Solution()"
   ]
  },
  {
   "cell_type": "code",
   "execution_count": 57,
   "metadata": {},
   "outputs": [
    {
     "name": "stdout",
     "output_type": "stream",
     "text": [
      "12121\n"
     ]
    },
    {
     "data": {
      "text/plain": [
       "-12121"
      ]
     },
     "execution_count": 57,
     "metadata": {},
     "output_type": "execute_result"
    }
   ],
   "source": [
    "s.myAtoi(\"   -12121 12 \")"
   ]
  },
  {
   "cell_type": "code",
   "execution_count": null,
   "metadata": {},
   "outputs": [],
   "source": []
  }
 ],
 "metadata": {
  "kernelspec": {
   "display_name": "Python 3",
   "language": "python",
   "name": "python3"
  },
  "language_info": {
   "codemirror_mode": {
    "name": "ipython",
    "version": 3
   },
   "file_extension": ".py",
   "mimetype": "text/x-python",
   "name": "python",
   "nbconvert_exporter": "python",
   "pygments_lexer": "ipython3",
   "version": "3.6.9"
  }
 },
 "nbformat": 4,
 "nbformat_minor": 4
}
