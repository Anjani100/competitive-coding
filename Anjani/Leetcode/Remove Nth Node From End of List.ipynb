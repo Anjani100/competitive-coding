{
 "cells": [
  {
   "cell_type": "code",
   "execution_count": 70,
   "metadata": {},
   "outputs": [
    {
     "name": "stdout",
     "output_type": "stream",
     "text": [
      "1 -> 2 -> 4 -> 5 -> X\n"
     ]
    }
   ],
   "source": [
    "# Definition for singly-linked list.\n",
    "class ListNode:\n",
    "    def __init__(self, val=0, next=None):\n",
    "        self.val = val\n",
    "        self.next = next\n",
    "def removeNthFromEnd(head, n):\n",
    "    if not head.next:\n",
    "        head = None\n",
    "        return head\n",
    "    temp = head\n",
    "    ptr = head\n",
    "    t = 0\n",
    "    if n == 1:\n",
    "        while temp.next.next is not None:\n",
    "            temp = temp.next\n",
    "        ptr = temp.next\n",
    "        temp.next = ptr.next\n",
    "        ptr = None\n",
    "        return head\n",
    "    while temp.next is not None:\n",
    "        temp = temp.next\n",
    "        t += 1\n",
    "        if t == n:\n",
    "            t = 0\n",
    "            ptr = ptr.next\n",
    "    if ptr.next is None:\n",
    "        return head\n",
    "    remove_node = ptr.next\n",
    "    ptr.next = remove_node.next\n",
    "    remove_node = None\n",
    "    return head\n",
    "\n",
    "head = ListNode(1)\n",
    "head.next = ListNode(2)\n",
    "head.next.next = ListNode(3)\n",
    "head.next.next.next = ListNode(4)\n",
    "head.next.next.next.next = ListNode(5)\n",
    "head = removeNthFromEnd(head, 3)\n",
    "while head is not None:\n",
    "    print(head.val, end = \" -> \")\n",
    "    head = head.next\n",
    "print('X')"
   ]
  },
  {
   "cell_type": "code",
   "execution_count": null,
   "metadata": {},
   "outputs": [],
   "source": []
  }
 ],
 "metadata": {
  "kernelspec": {
   "display_name": "Python 3",
   "language": "python",
   "name": "python3"
  },
  "language_info": {
   "codemirror_mode": {
    "name": "ipython",
    "version": 3
   },
   "file_extension": ".py",
   "mimetype": "text/x-python",
   "name": "python",
   "nbconvert_exporter": "python",
   "pygments_lexer": "ipython3",
   "version": "3.6.8"
  }
 },
 "nbformat": 4,
 "nbformat_minor": 2
}
