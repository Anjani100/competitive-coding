{
 "cells": [
  {
   "cell_type": "code",
   "execution_count": 41,
   "metadata": {},
   "outputs": [
    {
     "name": "stdout",
     "output_type": "stream",
     "text": [
      "2 -> 3 -> 4 -> 5 -> X\n"
     ]
    }
   ],
   "source": [
    "# Definition for singly-linked list.\n",
    "class ListNode:\n",
    "    def __init__(self, val=0, next=None):\n",
    "        self.val = val\n",
    "        self.next = next\n",
    "def removeNthFromEnd(head, n):\n",
    "    if not head.next:\n",
    "        head = None\n",
    "        return head\n",
    "    temp = ListNode(0)\n",
    "    temp.next = head\n",
    "    first = temp\n",
    "    second = temp\n",
    "    for i in range(n + 1):\n",
    "        first = first.next\n",
    "    while first is not None:\n",
    "        first = first.next\n",
    "        second = second.next\n",
    "    remove_node = second.next\n",
    "    second.next = second.next.next\n",
    "    remove_node = None\n",
    "    return temp.next\n",
    "\n",
    "head = ListNode(1)\n",
    "head.next = ListNode(2)\n",
    "head.next.next = ListNode(3)\n",
    "head.next.next.next = ListNode(4)\n",
    "head.next.next.next.next = ListNode(5)\n",
    "head = removeNthFromEnd(head, 5)\n",
    "while head is not None:\n",
    "    print(head.val, end = \" -> \")\n",
    "    head = head.next\n",
    "print('X')"
   ]
  },
  {
   "cell_type": "code",
   "execution_count": null,
   "metadata": {},
   "outputs": [],
   "source": []
  }
 ],
 "metadata": {
  "kernelspec": {
   "display_name": "Python 3",
   "language": "python",
   "name": "python3"
  },
  "language_info": {
   "codemirror_mode": {
    "name": "ipython",
    "version": 3
   },
   "file_extension": ".py",
   "mimetype": "text/x-python",
   "name": "python",
   "nbconvert_exporter": "python",
   "pygments_lexer": "ipython3",
   "version": "3.6.8"
  }
 },
 "nbformat": 4,
 "nbformat_minor": 2
}
