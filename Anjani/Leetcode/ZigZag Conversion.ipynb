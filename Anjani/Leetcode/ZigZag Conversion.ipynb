{
 "cells": [
  {
   "cell_type": "code",
   "execution_count": 20,
   "metadata": {},
   "outputs": [
    {
     "data": {
      "text/plain": [
       "'PAHNAPLSIIGYIR'"
      ]
     },
     "execution_count": 20,
     "metadata": {},
     "output_type": "execute_result"
    }
   ],
   "source": [
    "class Solution:\n",
    "    def convert(self, s: str, numRows: int) -> str:\n",
    "        if numRows == 1:\n",
    "            return s\n",
    "        str_index = [\"\" for x in range(len(s))]\n",
    "        row = 0\n",
    "        r = ''\n",
    "        for i in range(len(s)):\n",
    "            str_index[row] += s[i]\n",
    "            if row == 0:\n",
    "                down = True\n",
    "            elif row == numRows - 1:\n",
    "                down = False\n",
    "            if down:\n",
    "                row += 1\n",
    "            else:\n",
    "                row -= 1\n",
    "        i = 0\n",
    "        while i < len(str_index):\n",
    "            r += str_index[i]\n",
    "            i += 1\n",
    "        return r"
   ]
  },
  {
   "cell_type": "code",
   "execution_count": null,
   "metadata": {},
   "outputs": [],
   "source": []
  }
 ],
 "metadata": {
  "kernelspec": {
   "display_name": "Python 3",
   "language": "python",
   "name": "python3"
  },
  "language_info": {
   "codemirror_mode": {
    "name": "ipython",
    "version": 3
   },
   "file_extension": ".py",
   "mimetype": "text/x-python",
   "name": "python",
   "nbconvert_exporter": "python",
   "pygments_lexer": "ipython3",
   "version": "3.6.8"
  }
 },
 "nbformat": 4,
 "nbformat_minor": 2
}
