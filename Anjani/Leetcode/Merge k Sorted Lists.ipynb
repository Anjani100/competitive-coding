{
 "cells": [
  {
   "cell_type": "code",
   "execution_count": 2,
   "metadata": {},
   "outputs": [],
   "source": [
    "# Brute-force Algorithm\n",
    "# Definition for singly-linked list.\n",
    "# class ListNode:\n",
    "#     def __init__(self, val=0, next=None):\n",
    "#         self.val = val\n",
    "#         self.next = next\n",
    "class Solution:\n",
    "    def mergeKLists(self, lists: List[ListNode]) -> ListNode:\n",
    "        arr = []\n",
    "        for llist in lists:\n",
    "            temp = llist\n",
    "            while temp is not None:\n",
    "                arr.append(temp.val)\n",
    "                temp = temp.next\n",
    "        if len(arr) == 0:\n",
    "            return None\n",
    "        arr.sort()\n",
    "        llist = ListNode(arr[0])\n",
    "        temp = llist\n",
    "        for i in range(1, len(arr)):\n",
    "            node = ListNode(arr[i])\n",
    "            temp.next = node\n",
    "            temp = temp.next\n",
    "        return llist"
   ]
  },
  {
   "cell_type": "code",
   "execution_count": null,
   "metadata": {},
   "outputs": [],
   "source": []
  }
 ],
 "metadata": {
  "kernelspec": {
   "display_name": "Python 3",
   "language": "python",
   "name": "python3"
  },
  "language_info": {
   "codemirror_mode": {
    "name": "ipython",
    "version": 3
   },
   "file_extension": ".py",
   "mimetype": "text/x-python",
   "name": "python",
   "nbconvert_exporter": "python",
   "pygments_lexer": "ipython3",
   "version": "3.6.8"
  }
 },
 "nbformat": 4,
 "nbformat_minor": 2
}
