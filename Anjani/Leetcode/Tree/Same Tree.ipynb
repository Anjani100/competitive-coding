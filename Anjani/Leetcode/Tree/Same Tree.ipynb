{
 "cells": [
  {
   "cell_type": "code",
   "execution_count": null,
   "metadata": {},
   "outputs": [],
   "source": [
    "## Brute-force approach\n",
    "# Definition for a binary tree node.\n",
    "# class TreeNode:\n",
    "#     def __init__(self, val=0, left=None, right=None):\n",
    "#         self.val = val\n",
    "#         self.left = left\n",
    "#         self.right = right\n",
    "class Solution:\n",
    "    def isSameTree(self, p: TreeNode, q: TreeNode) -> bool:\n",
    "        def inorder(root, count, s = [], min_count = 9999999):\n",
    "            count += 1\n",
    "            if root:\n",
    "                s, count, min_count = inorder(root.left, count, s, min_count)\n",
    "                s.append(root.val)\n",
    "                s, count, min_count = inorder(root.right, count, s, min_count)\n",
    "            min_count = min(count, min_count)\n",
    "            return s, count, min_count\n",
    "        p, count1, min_count1 = inorder(p, 0, [])\n",
    "        q, count2, min_count2 = inorder(q, 0, [])\n",
    "        sp = ''\n",
    "        sq = ''\n",
    "        for i in p:\n",
    "            sp += str(i)\n",
    "        for i in q:\n",
    "            sq += str(i)\n",
    "        if sp == sq and min_count1 == min_count2:\n",
    "            return True\n",
    "        return False"
   ]
  },
  {
   "cell_type": "code",
   "execution_count": null,
   "metadata": {},
   "outputs": [],
   "source": [
    "# Definition for a binary tree node.\n",
    "# class TreeNode:\n",
    "#     def __init__(self, val=0, left=None, right=None):\n",
    "#         self.val = val\n",
    "#         self.left = left\n",
    "#         self.right = right\n",
    "class Solution:\n",
    "    def isSameTree(self, p: TreeNode, q: TreeNode) -> bool:\n",
    "        if not p:\n",
    "            if not q:\n",
    "                return True\n",
    "            return False\n",
    "        if not q:\n",
    "            if not p:\n",
    "                return True\n",
    "            return False\n",
    "        if p.val == q.val:\n",
    "            return self.isSameTree(p.left, q.left) and self.isSameTree(p.right, q.right)"
   ]
  }
 ],
 "metadata": {
  "kernelspec": {
   "display_name": "Python 3",
   "language": "python",
   "name": "python3"
  },
  "language_info": {
   "codemirror_mode": {
    "name": "ipython",
    "version": 3
   },
   "file_extension": ".py",
   "mimetype": "text/x-python",
   "name": "python",
   "nbconvert_exporter": "python",
   "pygments_lexer": "ipython3",
   "version": "3.6.8"
  }
 },
 "nbformat": 4,
 "nbformat_minor": 2
}
