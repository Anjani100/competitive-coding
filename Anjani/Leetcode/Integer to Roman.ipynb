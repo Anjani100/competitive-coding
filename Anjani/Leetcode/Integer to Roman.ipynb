{
 "cells": [
  {
   "cell_type": "code",
   "execution_count": 19,
   "metadata": {},
   "outputs": [
    {
     "name": "stdout",
     "output_type": "stream",
     "text": [
      "MCMXCIV\n"
     ]
    }
   ],
   "source": [
    "class Solution:\n",
    "    def intToRoman(self, num: int) -> str:\n",
    "        r = \"\"\n",
    "        if num >= 1000:\n",
    "            x = int(num / 1000)\n",
    "            r += ('M' * x)\n",
    "            num = num % 1000\n",
    "        if num >= 900 and num < 1000:\n",
    "            r += 'CM'\n",
    "            num = num % 100\n",
    "        if num >= 500 and num < 900:\n",
    "            x = int(num / 500)\n",
    "            r += ('D' * x)\n",
    "            num = num % 500\n",
    "        if num >= 400 and num < 500:\n",
    "            r += 'CD'\n",
    "            num = num % 100\n",
    "        if num >= 100 and num < 400:\n",
    "            x = int(num / 100)\n",
    "            r += ('C' * x)\n",
    "            num = num % 100\n",
    "        if num >= 90 and num < 100:\n",
    "            r += 'XC'\n",
    "            num = num % 10\n",
    "        if num >= 50 and num < 90:\n",
    "            x = int(num / 50)\n",
    "            r += ('L' * x)\n",
    "            num = num % 50\n",
    "        if num >= 40 and num < 50:\n",
    "            r += 'XL'\n",
    "            num = num % 10\n",
    "        if num >= 10 and num != 40:\n",
    "            x = int(num / 10)\n",
    "            r += ('X' * x)\n",
    "            num = num % 10\n",
    "        if num == 9:\n",
    "            r += 'IX'\n",
    "        if num >= 5 and num < 9:\n",
    "            x = int(num / 5)\n",
    "            r += ('V' * x)\n",
    "            num = num % 5\n",
    "        if num == 4:\n",
    "            r += 'IV'\n",
    "        if num >= 1 and num < 4:\n",
    "            x = int(num / 1)\n",
    "            r += ('I' * x)\n",
    "            num = num % 1\n",
    "        return r"
   ]
  },
  {
   "cell_type": "code",
   "execution_count": 3,
   "metadata": {},
   "outputs": [
    {
     "name": "stdout",
     "output_type": "stream",
     "text": [
      "aaaaaaaaaaaaaaaaaaaaaaaaaaaaaaaaaaaaaaaaaaaaaaaaaaaaaaaaaaaaaaaaaaaaaaaaaaaaaaaaaaaaaaaaaaaaaaaaaaaaaaaaaaaaaaaaaaaaaaaaaaaaaaaaaaaaaaaaaaaaaaaaaaaaaaaaaaaaaaaaaaaaaaaaaaaaaaaaaaaaaaaaaaaaaaaaaaaaaaaa\n"
     ]
    }
   ],
   "source": [
    "print(\"a\" * 200)"
   ]
  },
  {
   "cell_type": "code",
   "execution_count": null,
   "metadata": {},
   "outputs": [],
   "source": []
  }
 ],
 "metadata": {
  "kernelspec": {
   "display_name": "Python 3",
   "language": "python",
   "name": "python3"
  },
  "language_info": {
   "codemirror_mode": {
    "name": "ipython",
    "version": 3
   },
   "file_extension": ".py",
   "mimetype": "text/x-python",
   "name": "python",
   "nbconvert_exporter": "python",
   "pygments_lexer": "ipython3",
   "version": "3.6.8"
  }
 },
 "nbformat": 4,
 "nbformat_minor": 2
}
