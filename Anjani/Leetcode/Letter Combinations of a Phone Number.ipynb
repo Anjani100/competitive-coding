{
 "cells": [
  {
   "cell_type": "code",
   "execution_count": 20,
   "metadata": {},
   "outputs": [
    {
     "name": "stdout",
     "output_type": "stream",
     "text": [
      "['ad', 'ae', 'af', 'bd', 'be', 'bf', 'cd', 'ce', 'cf']\n"
     ]
    }
   ],
   "source": [
    "class Solution:\n",
    "    def letterCombinations(self, digits: str) -> List[str]:\n",
    "        num_to_str = {'2': ['a', 'b', 'c'], '3': ['d', 'e', 'f'],\n",
    "                      '4': ['g', 'h', 'i'], '5': ['j', 'k', 'l'],\n",
    "                      '6': ['m', 'n', 'o'], '7': ['p', 'q', 'r', 's'],\n",
    "                      '8': ['t', 'u', 'v'], '9': ['w', 'x', 'y', 'z']}\n",
    "    \n",
    "        def recursive(comb, partial_digits):\n",
    "            if len(partial_digits) == 0:\n",
    "                result.append(comb)\n",
    "            else:\n",
    "                for i in num_to_str[partial_digits[0]]:\n",
    "                    recursive(comb + i, partial_digits[1:])\n",
    "\n",
    "        result = []\n",
    "        if digits:\n",
    "            recursive(\"\", digits)\n",
    "        return result"
   ]
  },
  {
   "cell_type": "code",
   "execution_count": null,
   "metadata": {},
   "outputs": [],
   "source": []
  }
 ],
 "metadata": {
  "kernelspec": {
   "display_name": "Python 3",
   "language": "python",
   "name": "python3"
  },
  "language_info": {
   "codemirror_mode": {
    "name": "ipython",
    "version": 3
   },
   "file_extension": ".py",
   "mimetype": "text/x-python",
   "name": "python",
   "nbconvert_exporter": "python",
   "pygments_lexer": "ipython3",
   "version": "3.6.8"
  }
 },
 "nbformat": 4,
 "nbformat_minor": 2
}
