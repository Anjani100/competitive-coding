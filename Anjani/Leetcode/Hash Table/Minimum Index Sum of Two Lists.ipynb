{
 "cells": [
  {
   "cell_type": "code",
   "execution_count": null,
   "metadata": {},
   "outputs": [],
   "source": [
    "class Solution:\n",
    "    def findRestaurant(self, list1: List[str], list2: List[str]) -> List[str]:\n",
    "        dict1 = defaultdict(list)\n",
    "        dict2 = defaultdict(list)\n",
    "        res = []\n",
    "        min_len = float('inf')\n",
    "        for i in range(len(list1)):\n",
    "            dict1[list1[i]] = [i]\n",
    "        for i in range(len(list2)):\n",
    "            if dict1[list2[i]] != []:\n",
    "                if dict1[list2[i]][0] + i < min_len:\n",
    "                    min_len = dict1[list2[i]][0] + i\n",
    "                    res = [list2[i]]\n",
    "                elif dict1[list2[i]][0] + i == min_len:\n",
    "                    res.append(list2[i])\n",
    "        return res"
   ]
  }
 ],
 "metadata": {
  "kernelspec": {
   "display_name": "Python 3",
   "language": "python",
   "name": "python3"
  },
  "language_info": {
   "codemirror_mode": {
    "name": "ipython",
    "version": 3
   },
   "file_extension": ".py",
   "mimetype": "text/x-python",
   "name": "python",
   "nbconvert_exporter": "python",
   "pygments_lexer": "ipython3",
   "version": "3.6.8"
  }
 },
 "nbformat": 4,
 "nbformat_minor": 2
}
