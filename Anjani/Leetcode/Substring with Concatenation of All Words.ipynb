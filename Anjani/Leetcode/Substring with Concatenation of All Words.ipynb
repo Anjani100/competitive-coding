{
 "cells": [
  {
   "cell_type": "code",
   "execution_count": 3,
   "metadata": {},
   "outputs": [
    {
     "name": "stdout",
     "output_type": "stream",
     "text": [
      "foobarthe\n",
      "barfoothe\n",
      "thefoobar\n"
     ]
    }
   ],
   "source": [
    "def findSubstring(s, words):\n",
    "    res = []\n",
    "    for i in words:\n",
    "        s = i\n",
    "        for j in words:\n",
    "            if i != j:\n",
    "                s += j\n",
    "        print(s)\n",
    "\n",
    "findSubstring(\"barfoothefoobarman\", [\"foo\",\"bar\",\"the\"])"
   ]
  },
  {
   "cell_type": "code",
   "execution_count": null,
   "metadata": {},
   "outputs": [],
   "source": []
  }
 ],
 "metadata": {
  "kernelspec": {
   "display_name": "Python 3",
   "language": "python",
   "name": "python3"
  },
  "language_info": {
   "codemirror_mode": {
    "name": "ipython",
    "version": 3
   },
   "file_extension": ".py",
   "mimetype": "text/x-python",
   "name": "python",
   "nbconvert_exporter": "python",
   "pygments_lexer": "ipython3",
   "version": "3.6.8"
  }
 },
 "nbformat": 4,
 "nbformat_minor": 2
}
