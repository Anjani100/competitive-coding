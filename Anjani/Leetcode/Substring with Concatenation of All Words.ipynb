{
 "cells": [
  {
   "cell_type": "code",
   "execution_count": null,
   "metadata": {},
   "outputs": [],
   "source": [
    "def findSubstring(s, words):\n",
    "    arr = []\n",
    "    def permute(words, l, r):\n",
    "        if l == r:\n",
    "            arr.append(''.join(words))\n",
    "        else:\n",
    "            for i in range(l, r + 1):\n",
    "                words[i], words[l] = words[l], words[i]\n",
    "                permute(words, l + 1, r)\n",
    "                words[i], words[l] = words[l], words[i]\n",
    "    l = 0\n",
    "    r = len(words) - 1\n",
    "    permute(words, l, r)\n",
    "    res = []\n",
    "    for i in range(len(arr)):\n",
    "        j = 0\n",
    "        while j < len(s) - len(arr[0]) + 1:\n",
    "            if arr[i] in s[j:]:\n",
    "                res.append(s.index(arr[i], j, len(s)))\n",
    "            j += 1\n",
    "    return list(set(res))\n",
    "\n",
    "print(findSubstring(\"foobarfoobar\", [\"foo\",\"bar\"]))"
   ]
  },
  {
   "cell_type": "code",
   "execution_count": 5,
   "metadata": {},
   "outputs": [
    {
     "name": "stdout",
     "output_type": "stream",
     "text": [
      "[]\n",
      "[]\n"
     ]
    },
    {
     "ename": "TypeError",
     "evalue": "unhashable type: 'list'",
     "output_type": "error",
     "traceback": [
      "\u001b[1;31m---------------------------------------------------------------------------\u001b[0m",
      "\u001b[1;31mTypeError\u001b[0m                                 Traceback (most recent call last)",
      "\u001b[1;32m<ipython-input-5-245438cf9f28>\u001b[0m in \u001b[0;36m<module>\u001b[1;34m\u001b[0m\n\u001b[0;32m     21\u001b[0m     \u001b[1;32mreturn\u001b[0m \u001b[0mlist\u001b[0m\u001b[1;33m(\u001b[0m\u001b[0mset\u001b[0m\u001b[1;33m(\u001b[0m\u001b[0mres\u001b[0m\u001b[1;33m)\u001b[0m\u001b[1;33m)\u001b[0m\u001b[1;33m\u001b[0m\u001b[1;33m\u001b[0m\u001b[0m\n\u001b[0;32m     22\u001b[0m \u001b[1;33m\u001b[0m\u001b[0m\n\u001b[1;32m---> 23\u001b[1;33m \u001b[0mprint\u001b[0m\u001b[1;33m(\u001b[0m\u001b[0mfindSubstring\u001b[0m\u001b[1;33m(\u001b[0m\u001b[1;34m\"foobarfoobar\"\u001b[0m\u001b[1;33m,\u001b[0m \u001b[1;33m[\u001b[0m\u001b[1;34m\"foo\"\u001b[0m\u001b[1;33m,\u001b[0m\u001b[1;34m\"bar\"\u001b[0m\u001b[1;33m]\u001b[0m\u001b[1;33m)\u001b[0m\u001b[1;33m)\u001b[0m\u001b[1;33m\u001b[0m\u001b[1;33m\u001b[0m\u001b[0m\n\u001b[0m",
      "\u001b[1;32m<ipython-input-5-245438cf9f28>\u001b[0m in \u001b[0;36mfindSubstring\u001b[1;34m(s, words)\u001b[0m\n\u001b[0;32m     19\u001b[0m             \u001b[0mres\u001b[0m\u001b[1;33m.\u001b[0m\u001b[0mappend\u001b[0m\u001b[1;33m(\u001b[0m\u001b[0mk\u001b[0m\u001b[1;33m)\u001b[0m\u001b[1;33m\u001b[0m\u001b[1;33m\u001b[0m\u001b[0m\n\u001b[0;32m     20\u001b[0m \u001b[1;33m\u001b[0m\u001b[0m\n\u001b[1;32m---> 21\u001b[1;33m     \u001b[1;32mreturn\u001b[0m \u001b[0mlist\u001b[0m\u001b[1;33m(\u001b[0m\u001b[0mset\u001b[0m\u001b[1;33m(\u001b[0m\u001b[0mres\u001b[0m\u001b[1;33m)\u001b[0m\u001b[1;33m)\u001b[0m\u001b[1;33m\u001b[0m\u001b[1;33m\u001b[0m\u001b[0m\n\u001b[0m\u001b[0;32m     22\u001b[0m \u001b[1;33m\u001b[0m\u001b[0m\n\u001b[0;32m     23\u001b[0m \u001b[0mprint\u001b[0m\u001b[1;33m(\u001b[0m\u001b[0mfindSubstring\u001b[0m\u001b[1;33m(\u001b[0m\u001b[1;34m\"foobarfoobar\"\u001b[0m\u001b[1;33m,\u001b[0m \u001b[1;33m[\u001b[0m\u001b[1;34m\"foo\"\u001b[0m\u001b[1;33m,\u001b[0m\u001b[1;34m\"bar\"\u001b[0m\u001b[1;33m]\u001b[0m\u001b[1;33m)\u001b[0m\u001b[1;33m)\u001b[0m\u001b[1;33m\u001b[0m\u001b[1;33m\u001b[0m\u001b[0m\n",
      "\u001b[1;31mTypeError\u001b[0m: unhashable type: 'list'"
     ]
    }
   ],
   "source": [
    "def findSubstring(s, words):\n",
    "    arr = []\n",
    "    def permute(words, l, r):\n",
    "        if l == r:\n",
    "            arr.append(''.join(words))\n",
    "        else:\n",
    "            for i in range(l, r + 1):\n",
    "                words[i], words[l] = words[l], words[i]\n",
    "                permute(words, l + 1, r)\n",
    "                words[i], words[l] = words[l], words[i]\n",
    "    l = 0\n",
    "    r = len(words) - 1\n",
    "    permute(words, l, r)\n",
    "    res = []\n",
    "    for i in arr:\n",
    "        if i in s:\n",
    "            k = [index for index, value in enumerate(s) if value == i]\n",
    "            print(k)\n",
    "            res.append(k)\n",
    "    \n",
    "    return list(set(res))\n",
    "\n",
    "print(findSubstring(\"foobarfoobar\", [\"foo\",\"bar\"]))"
   ]
  },
  {
   "cell_type": "code",
   "execution_count": null,
   "metadata": {},
   "outputs": [],
   "source": []
  }
 ],
 "metadata": {
  "kernelspec": {
   "display_name": "Python 3",
   "language": "python",
   "name": "python3"
  },
  "language_info": {
   "codemirror_mode": {
    "name": "ipython",
    "version": 3
   },
   "file_extension": ".py",
   "mimetype": "text/x-python",
   "name": "python",
   "nbconvert_exporter": "python",
   "pygments_lexer": "ipython3",
   "version": "3.6.8"
  }
 },
 "nbformat": 4,
 "nbformat_minor": 2
}
