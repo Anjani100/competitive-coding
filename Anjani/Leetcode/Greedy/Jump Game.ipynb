{
 "cells": [
  {
   "cell_type": "code",
   "execution_count": 114,
   "metadata": {},
   "outputs": [
    {
     "name": "stdout",
     "output_type": "stream",
     "text": [
      "True\n"
     ]
    }
   ],
   "source": [
    "# Recursive approach\n",
    "def canJump(nums):\n",
    "    if len(nums) == 1:\n",
    "        return True\n",
    "    flag = False\n",
    "    def indexJump(nums, k, flag):\n",
    "        if flag:\n",
    "            return True\n",
    "        for i in range(k, len(nums)):\n",
    "            if nums[i] == 0:\n",
    "                return flag\n",
    "            for j in range(1, nums[i] + 1):\n",
    "                k += j\n",
    "                if k >= len(nums) - 1:\n",
    "                    flag = True\n",
    "                    return flag\n",
    "                flag = indexJump(nums, k, flag)\n",
    "                if flag:\n",
    "                    return True\n",
    "                k -= j\n",
    "    flag = indexJump(nums, 0, flag)\n",
    "    return flag\n",
    "\n",
    "print(canJump([1, 2, 2, 0, 4]))"
   ]
  },
  {
   "cell_type": "code",
   "execution_count": 122,
   "metadata": {},
   "outputs": [
    {
     "name": "stdout",
     "output_type": "stream",
     "text": [
      "True\n"
     ]
    }
   ],
   "source": [
    "# Iterative Approach (Faster than Recursive)\n",
    "def canJump(nums):\n",
    "    last = len(nums) - 1\n",
    "    for i in range(len(nums) - 1, -1, -1):\n",
    "        if nums[i] + i >= last:\n",
    "            last = i\n",
    "    if last == 0:\n",
    "        return True\n",
    "    return False\n",
    "\n",
    "print(canJump([2, 3, 1, 1, 4]))"
   ]
  },
  {
   "cell_type": "code",
   "execution_count": null,
   "metadata": {},
   "outputs": [],
   "source": [
    "[2, 3, 1, 1, 4]\n",
    "[3, 2, 1, 0, 4]\n",
    "[1, 2, 2, 0, 4]"
   ]
  }
 ],
 "metadata": {
  "kernelspec": {
   "display_name": "Python 3",
   "language": "python",
   "name": "python3"
  },
  "language_info": {
   "codemirror_mode": {
    "name": "ipython",
    "version": 3
   },
   "file_extension": ".py",
   "mimetype": "text/x-python",
   "name": "python",
   "nbconvert_exporter": "python",
   "pygments_lexer": "ipython3",
   "version": "3.6.8"
  }
 },
 "nbformat": 4,
 "nbformat_minor": 2
}
