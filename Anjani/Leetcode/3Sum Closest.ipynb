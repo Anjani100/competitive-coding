{
 "cells": [
  {
   "cell_type": "code",
   "execution_count": null,
   "metadata": {},
   "outputs": [],
   "source": [
    "def threeSum(nums, target):\n",
    "    res = 9999\n",
    "    nums.sort()\n",
    "\n",
    "    for i, a in enumerate(nums):\n",
    "        if i > 0 and a == nums[i - 1]:\n",
    "            continue\n",
    "\n",
    "        l, r = i + 1, len(nums) - 1\n",
    "        while l < r:\n",
    "            threeSum = a + nums[l] + nums[r]\n",
    "            print(threeSum)\n",
    "            if threeSum - target > res:\n",
    "                r -= 1\n",
    "            elif threeSum - target < res:\n",
    "                l += 1\n",
    "            if threeSum < res:\n",
    "                res = threeSum\n",
    "                print(res)\n",
    "            while nums[l] == nums[l - 1] and l < r:\n",
    "                l += 1\n",
    "    return res\n",
    "print(threeSum([-1,2,1,-4], 2))"
   ]
  },
  {
   "cell_type": "code",
   "execution_count": null,
   "metadata": {},
   "outputs": [],
   "source": []
  }
 ],
 "metadata": {
  "kernelspec": {
   "display_name": "Python 3",
   "language": "python",
   "name": "python3"
  },
  "language_info": {
   "codemirror_mode": {
    "name": "ipython",
    "version": 3
   },
   "file_extension": ".py",
   "mimetype": "text/x-python",
   "name": "python",
   "nbconvert_exporter": "python",
   "pygments_lexer": "ipython3",
   "version": "3.6.8"
  }
 },
 "nbformat": 4,
 "nbformat_minor": 2
}
