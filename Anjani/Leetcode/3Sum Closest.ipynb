{
 "cells": [
  {
   "cell_type": "code",
   "execution_count": 26,
   "metadata": {},
   "outputs": [
    {
     "name": "stdout",
     "output_type": "stream",
     "text": [
      "-1\n"
     ]
    }
   ],
   "source": [
    "def threeSum(nums, target):\n",
    "    res = 9999\n",
    "    nums.sort()\n",
    "\n",
    "    for i in range(len(nums)):\n",
    "        l, r = i + 1, len(nums) - 1\n",
    "        while l < r:\n",
    "            threeSum = nums[i] + nums[l] + nums[r]\n",
    "            if abs(target - threeSum) < abs(res):\n",
    "                res = target - threeSum\n",
    "            if threeSum < target:\n",
    "                l += 1\n",
    "            else:\n",
    "                r -= 1\n",
    "            if res == 0:\n",
    "                break\n",
    "    return target - res\n",
    "print(threeSum([1, 1, -1, -1, 3], -1))"
   ]
  },
  {
   "cell_type": "code",
   "execution_count": null,
   "metadata": {},
   "outputs": [],
   "source": []
  }
 ],
 "metadata": {
  "kernelspec": {
   "display_name": "Python 3",
   "language": "python",
   "name": "python3"
  },
  "language_info": {
   "codemirror_mode": {
    "name": "ipython",
    "version": 3
   },
   "file_extension": ".py",
   "mimetype": "text/x-python",
   "name": "python",
   "nbconvert_exporter": "python",
   "pygments_lexer": "ipython3",
   "version": "3.6.8"
  }
 },
 "nbformat": 4,
 "nbformat_minor": 2
}
