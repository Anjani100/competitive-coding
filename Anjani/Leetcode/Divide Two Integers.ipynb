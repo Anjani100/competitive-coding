{
 "cells": [
  {
   "cell_type": "code",
   "execution_count": 1,
   "metadata": {},
   "outputs": [
    {
     "name": "stdout",
     "output_type": "stream",
     "text": [
      "143165576\n"
     ]
    }
   ],
   "source": [
    "# Brute-force approach (O(n))\n",
    "def divide(dividend, divisor):\n",
    "    count = 0\n",
    "    flag = 0\n",
    "    if divisor < 0 and dividend < 0:\n",
    "        divisor *= -1\n",
    "        dividend *= -1\n",
    "    elif dividend < 0:\n",
    "        flag = 1\n",
    "        dividend *= -1\n",
    "    elif divisor < 0:\n",
    "        flag = 1\n",
    "        divisor *= -1\n",
    "    if divisor == 1:\n",
    "        count = dividend\n",
    "    else:\n",
    "        while dividend >= divisor:\n",
    "            dividend -= divisor\n",
    "            count += 1\n",
    "    if flag:\n",
    "        count *= -1\n",
    "    if count > 2147483647:\n",
    "        count = 2147483647\n",
    "    elif count < -2147483648:\n",
    "        count = -2147483648\n",
    "    return count\n",
    "\n",
    "print(divide(-2147483648, -15))"
   ]
  },
  {
   "cell_type": "code",
   "execution_count": 12,
   "metadata": {},
   "outputs": [
    {
     "name": "stdout",
     "output_type": "stream",
     "text": [
      "8\n"
     ]
    }
   ],
   "source": [
    "# Optimized-approach (O(logn^2))\n",
    "def divide(dividend, divisor):\n",
    "    positive = (dividend >= 0) == (divisor >= 0)    # Positive if both signs are same\n",
    "    INT_MAX = pow(2, 31) - 1\n",
    "    dividend = abs(dividend)\n",
    "    divisor = abs(divisor)\n",
    "    res = 0\n",
    "    while dividend >= divisor:\n",
    "        multiply = 1    # 1 2 4 8 16\n",
    "        rem_sum = divisor\n",
    "        while (rem_sum + rem_sum) < dividend:\n",
    "            multiply += multiply\n",
    "            rem_sum += rem_sum\n",
    "        res += multiply\n",
    "        dividend -= rem_sum\n",
    "    res = res if positive else -res\n",
    "    return min(res, INT_MAX)\n",
    "\n",
    "print(divide(16, 2))"
   ]
  },
  {
   "cell_type": "code",
   "execution_count": null,
   "metadata": {},
   "outputs": [],
   "source": []
  }
 ],
 "metadata": {
  "kernelspec": {
   "display_name": "Python 3",
   "language": "python",
   "name": "python3"
  },
  "language_info": {
   "codemirror_mode": {
    "name": "ipython",
    "version": 3
   },
   "file_extension": ".py",
   "mimetype": "text/x-python",
   "name": "python",
   "nbconvert_exporter": "python",
   "pygments_lexer": "ipython3",
   "version": "3.6.8"
  }
 },
 "nbformat": 4,
 "nbformat_minor": 2
}
