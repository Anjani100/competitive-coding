{
 "cells": [
  {
   "cell_type": "code",
   "execution_count": 17,
   "metadata": {},
   "outputs": [
    {
     "name": "stdout",
     "output_type": "stream",
     "text": [
      "3\n"
     ]
    }
   ],
   "source": [
    "# Brute-Force Solution (O(n^3))\n",
    "class Solution:\n",
    "    def lengthOfLongestSubstring(self, s: str) -> int:\n",
    "        longest = []\n",
    "        max_len = 0\n",
    "        for i in range(len(s)):\n",
    "            longest.append(s[i])\n",
    "            for j in range(i + 1, len(s)):\n",
    "                if s[j] in longest:\n",
    "                    break\n",
    "                longest.append(s[j])\n",
    "            length = len(longest)\n",
    "            longest = []\n",
    "            if length > max_len:\n",
    "                max_len = length\n",
    "        return max_len"
   ]
  },
  {
   "cell_type": "code",
   "execution_count": 60,
   "metadata": {},
   "outputs": [
    {
     "name": "stdout",
     "output_type": "stream",
     "text": [
      "95\n"
     ]
    }
   ],
   "source": [
    "# Window-Sliding Method (O(n^2))\n",
    "class Solution:\n",
    "    def lengthOfLongestSubstring(self, s: str) -> int:\n",
    "        max_len = 0\n",
    "        dict_s = {}\n",
    "        for k in range(len(s)):\n",
    "            dict_s[s[k]] = False\n",
    "        for i in range(len(s)):\n",
    "            dict_s = {x:False for x in dict_s}\n",
    "            for j in range(i, len(s)):\n",
    "                if dict_s[s[j]] == True:\n",
    "                    break\n",
    "                else:\n",
    "                    dict_s[s[j]] = True\n",
    "                    max_len = max(max_len, j - i + 1)\n",
    "            dict_s[s[i]] = False\n",
    "        return max_len"
   ]
  },
  {
   "cell_type": "code",
   "execution_count": 69,
   "metadata": {},
   "outputs": [
    {
     "name": "stdout",
     "output_type": "stream",
     "text": [
      "1\n"
     ]
    }
   ],
   "source": [
    "# Optimized Window-Sliding Method (O(n))\n",
    "class Solution:\n",
    "    def lengthOfLongestSubstring(self, s: str) -> int:\n",
    "        max_len = 0\n",
    "        i = 0\n",
    "        last_index = [-1] * 256\n",
    "        for j in range(i, len(s)):\n",
    "            i = max(i, last_index[ord(s[j])] + 1)\n",
    "            max_len = max(max_len, j - i + 1)\n",
    "            last_index[ord(s[j])] = j\n",
    "        return max_len"
   ]
  },
  {
   "cell_type": "code",
   "execution_count": null,
   "metadata": {},
   "outputs": [],
   "source": []
  }
 ],
 "metadata": {
  "kernelspec": {
   "display_name": "Python 3",
   "language": "python",
   "name": "python3"
  },
  "language_info": {
   "codemirror_mode": {
    "name": "ipython",
    "version": 3
   },
   "file_extension": ".py",
   "mimetype": "text/x-python",
   "name": "python",
   "nbconvert_exporter": "python",
   "pygments_lexer": "ipython3",
   "version": "3.6.8"
  }
 },
 "nbformat": 4,
 "nbformat_minor": 2
}
