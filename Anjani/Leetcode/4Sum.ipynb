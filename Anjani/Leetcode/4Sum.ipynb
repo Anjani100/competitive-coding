{
 "cells": [
  {
   "cell_type": "code",
   "execution_count": 11,
   "metadata": {},
   "outputs": [
    {
     "name": "stdout",
     "output_type": "stream",
     "text": [
      "[[-3, -2, 2, 3], [-3, -1, 1, 3], [-3, 0, 0, 3], [-3, 0, 1, 2], [-2, -1, 0, 3], [-2, -1, 1, 2], [-2, 0, 0, 2], [-1, 0, 0, 1]]\n"
     ]
    }
   ],
   "source": [
    "# Brute-Force Approach\n",
    "def fourSum(nums, target):\n",
    "    res = []\n",
    "    res_set = []\n",
    "    for i in range(len(nums) - 3):\n",
    "        for j in range(i + 1, len(nums) - 2):\n",
    "            for k in range(j + 1, len(nums) - 1):\n",
    "                for l in range(k + 1, len(nums)):\n",
    "                    if nums[i] + nums[j] + nums[k] + nums[l] == target:\n",
    "                        if set([nums[i], nums[j], nums[k], nums[l]]) not in res_set:\n",
    "                            res.append([nums[i], nums[j], nums[k], nums[l]])\n",
    "                            res_set.append(set([nums[i], nums[j], nums[k], nums[l]]))\n",
    "    return res\n",
    "\n",
    "print(fourSum([-3,-2,-1,0,0,1,2,3], 0))"
   ]
  },
  {
   "cell_type": "code",
   "execution_count": 14,
   "metadata": {},
   "outputs": [
    {
     "name": "stdout",
     "output_type": "stream",
     "text": [
      "[[-2, -1, 1, 2], [-2, 0, 0, 2], [-1, 0, 0, 1]]\n"
     ]
    }
   ],
   "source": [
    "# Optimized Solution\n",
    "def fourSum(nums, target):\n",
    "    res = []\n",
    "    res_set = []\n",
    "    nums.sort()\n",
    "    for i in range(len(nums) - 3):\n",
    "        for j in range(i + 1, len(nums) - 2):\n",
    "            l, r = j + 1, len(nums) - 1\n",
    "            while l < r:\n",
    "                fourSum = nums[i] + nums[j] + nums[l] + nums[r]\n",
    "                if fourSum > target:\n",
    "                    r -= 1\n",
    "                elif fourSum < target:\n",
    "                    l += 1\n",
    "                else:\n",
    "                    if set([nums[i], nums[j], nums[l], nums[r]]) not in res_set:\n",
    "                        res.append([nums[i], nums[j], nums[l], nums[r]])\n",
    "                        res_set.append(set([nums[i], nums[j], nums[l], nums[r]]))\n",
    "                    l += 1\n",
    "                    while nums[l] == nums[l - 1] and l < r:\n",
    "                        l += 1\n",
    "    return res\n",
    "\n",
    "print(fourSum([1,0,-1,0,-2,2], 0))"
   ]
  },
  {
   "cell_type": "code",
   "execution_count": null,
   "metadata": {},
   "outputs": [],
   "source": []
  }
 ],
 "metadata": {
  "kernelspec": {
   "display_name": "Python 3",
   "language": "python",
   "name": "python3"
  },
  "language_info": {
   "codemirror_mode": {
    "name": "ipython",
    "version": 3
   },
   "file_extension": ".py",
   "mimetype": "text/x-python",
   "name": "python",
   "nbconvert_exporter": "python",
   "pygments_lexer": "ipython3",
   "version": "3.6.8"
  }
 },
 "nbformat": 4,
 "nbformat_minor": 2
}
