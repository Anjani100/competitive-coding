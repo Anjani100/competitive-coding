{
 "cells": [
  {
   "cell_type": "code",
   "execution_count": 68,
   "metadata": {},
   "outputs": [
    {
     "name": "stdout",
     "output_type": "stream",
     "text": [
      "4\n"
     ]
    }
   ],
   "source": [
    "# Brute-force approach (Time: O(n^2); Space: O(n))\n",
    "def findLeastNumOfUniqueInts(arr, k):\n",
    "    count = {}\n",
    "    s = set(arr)\n",
    "    for i in s:\n",
    "        count[i] = arr.count(i)\n",
    "    count = sorted(count.items(), key = lambda kv:(kv[1], kv[0]))\n",
    "    i = 0\n",
    "    res = len(s)\n",
    "    while k > 0:\n",
    "        k -= count[i][1]\n",
    "        if k >= 0:\n",
    "            res -= 1\n",
    "        i += 1\n",
    "    return res\n",
    "\n",
    "print(findLeastNumOfUniqueInts([4,3,1,1,3,3,2], 0))"
   ]
  },
  {
   "cell_type": "code",
   "execution_count": 69,
   "metadata": {},
   "outputs": [
    {
     "name": "stdout",
     "output_type": "stream",
     "text": [
      "[1, 1, 2, 3]\n",
      "2\n"
     ]
    }
   ],
   "source": [
    "# Brute-force approach (Time: O(n^2); Space: O(n))\n",
    "from collections import Counter\n",
    "def findLeastNumOfUniqueInts(arr, k):\n",
    "    count = []\n",
    "    s = set(arr)\n",
    "    for i in s:\n",
    "        count.append(arr.count(i))\n",
    "    count.sort()\n",
    "    print(count)\n",
    "    i = 0\n",
    "    res = len(s)\n",
    "    while k > 0:\n",
    "        k -= count[i]\n",
    "        if k >= 0:\n",
    "            res -= 1\n",
    "        i += 1\n",
    "    return res\n",
    "\n",
    "print(findLeastNumOfUniqueInts([4,3,1,1,3,3,2], 3))"
   ]
  },
  {
   "cell_type": "code",
   "execution_count": 93,
   "metadata": {},
   "outputs": [
    {
     "name": "stdout",
     "output_type": "stream",
     "text": [
      "3\n"
     ]
    }
   ],
   "source": [
    "# Brute-force approach (Time: O(n^2); Space: O(n))\n",
    "from collections import Counter\n",
    "def findLeastNumOfUniqueInts(arr, k):\n",
    "    a = Counter(arr)\n",
    "    count = []\n",
    "    for i in a.most_common():\n",
    "        count.append(i[1])\n",
    "    i = len(count) - 1\n",
    "    res = len(set(arr))\n",
    "    while k > 0:\n",
    "        k -= count[i]\n",
    "        if k >= 0:\n",
    "            res -= 1\n",
    "        i -= 1\n",
    "    return res\n",
    "    \n",
    "\n",
    "print(findLeastNumOfUniqueInts([24,119,157,446,251,117,22,168,374,373,323,311,441,213,120,412,200,236,328,24,164,104,331,32,19,223,89,114,152,82,456,381,355,343,157,245,443,368,229,49,82,16,373,142,240,125,8], 41))\n"
   ]
  },
  {
   "cell_type": "code",
   "execution_count": 98,
   "metadata": {},
   "outputs": [
    {
     "name": "stdout",
     "output_type": "stream",
     "text": [
      "2\n"
     ]
    }
   ],
   "source": [
    "# Optimized approach (Time: O(nlogn); Space: O(n))\n",
    "from collections import Counter\n",
    "def findLeastNumOfUniqueInts(arr, k):\n",
    "    a = Counter(arr)\n",
    "    count = []\n",
    "    for i in a.most_common():\n",
    "        count.append(i[1])\n",
    "    i = len(count) - 1\n",
    "    res = len(set(arr))\n",
    "    while k > 0:\n",
    "        k -= count[i]\n",
    "        if k >= 0:\n",
    "            res -= 1\n",
    "        i -= 1\n",
    "    return res\n",
    "\n",
    "print(findLeastNumOfUniqueInts([4,3,1,1,3,1,3,2], 3))"
   ]
  },
  {
   "cell_type": "code",
   "execution_count": null,
   "metadata": {},
   "outputs": [],
   "source": []
  }
 ],
 "metadata": {
  "kernelspec": {
   "display_name": "Python 3",
   "language": "python",
   "name": "python3"
  },
  "language_info": {
   "codemirror_mode": {
    "name": "ipython",
    "version": 3
   },
   "file_extension": ".py",
   "mimetype": "text/x-python",
   "name": "python",
   "nbconvert_exporter": "python",
   "pygments_lexer": "ipython3",
   "version": "3.6.8"
  }
 },
 "nbformat": 4,
 "nbformat_minor": 2
}
