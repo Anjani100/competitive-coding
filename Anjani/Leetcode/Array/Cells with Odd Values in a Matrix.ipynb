{
 "cells": [
  {
   "cell_type": "code",
   "execution_count": 9,
   "metadata": {},
   "outputs": [
    {
     "name": "stdout",
     "output_type": "stream",
     "text": [
      "6\n"
     ]
    }
   ],
   "source": [
    "def oddCells(n, m, indices):\n",
    "    a = []\n",
    "    count = 0\n",
    "    for _ in range(n):\n",
    "        s = [0] * m\n",
    "        a.append(s)\n",
    "    for i in range(len(indices)):\n",
    "        for j in range(m):\n",
    "            a[indices[i][0]][j] += 1\n",
    "            if a[indices[i][0]][j] % 2 == 1:\n",
    "                count += 1\n",
    "            else:\n",
    "                count -= 1\n",
    "        for j in range(n):\n",
    "            a[j][indices[i][1]] += 1\n",
    "            if a[j][indices[i][1]] % 2 == 1:\n",
    "                count += 1\n",
    "            else:\n",
    "                count -= 1\n",
    "    return count\n",
    "\n",
    "print(oddCells(2, 3, [[0,1],[1,1]]))"
   ]
  },
  {
   "cell_type": "code",
   "execution_count": null,
   "metadata": {},
   "outputs": [],
   "source": []
  }
 ],
 "metadata": {
  "kernelspec": {
   "display_name": "Python 3",
   "language": "python",
   "name": "python3"
  },
  "language_info": {
   "codemirror_mode": {
    "name": "ipython",
    "version": 3
   },
   "file_extension": ".py",
   "mimetype": "text/x-python",
   "name": "python",
   "nbconvert_exporter": "python",
   "pygments_lexer": "ipython3",
   "version": "3.6.8"
  }
 },
 "nbformat": 4,
 "nbformat_minor": 2
}
