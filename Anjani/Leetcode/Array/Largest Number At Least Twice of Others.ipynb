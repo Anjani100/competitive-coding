{
 "cells": [
  {
   "cell_type": "code",
   "execution_count": 34,
   "metadata": {},
   "outputs": [
    {
     "name": "stdout",
     "output_type": "stream",
     "text": [
      "0\n"
     ]
    }
   ],
   "source": [
    "def dominantIndex(nums):\n",
    "    if len(nums) == 1:\n",
    "        return 0\n",
    "    largest = max(nums)\n",
    "    index = nums.index(largest)\n",
    "    nums.remove(largest)\n",
    "    second_largest = max(nums)\n",
    "    if second_largest * 2 <= largest:\n",
    "        return index\n",
    "    return -1\n",
    "\n",
    "print(dominantIndex([4]))"
   ]
  },
  {
   "cell_type": "code",
   "execution_count": 29,
   "metadata": {},
   "outputs": [
    {
     "name": "stdout",
     "output_type": "stream",
     "text": [
      "4 1\n",
      "5 4\n",
      "-1\n"
     ]
    }
   ],
   "source": [
    "def dominantIndex(nums):\n",
    "    if len(nums) == 1:\n",
    "        return 0\n",
    "    largest = nums[0]\n",
    "    second_largest = -pow(2, 31)\n",
    "    for i in range(1, len(nums)):\n",
    "        if nums[i] >= largest:\n",
    "            second_largest = largest\n",
    "            largest = nums[i]\n",
    "        if nums[i] > second_largest and nums[i] < largest:\n",
    "            second_largest = nums[i]\n",
    "        print(largest, second_largest)\n",
    "    if second_largest * 2 <= largest:\n",
    "        return nums.index(largest)\n",
    "    return -1\n",
    "\n",
    "print(dominantIndex([4, 1, 5]))"
   ]
  },
  {
   "cell_type": "code",
   "execution_count": 37,
   "metadata": {},
   "outputs": [
    {
     "name": "stdout",
     "output_type": "stream",
     "text": [
      "1\n"
     ]
    }
   ],
   "source": [
    "def dominantIndex(nums):\n",
    "    if len(nums) == 1:\n",
    "        return 0\n",
    "    num = sorted(nums)\n",
    "    if num[-2] * 2 <= num[-1]:\n",
    "        return nums.index(num[-1])\n",
    "    return -1\n",
    "\n",
    "print(dominantIndex([1, 4, 1, 2]))"
   ]
  },
  {
   "cell_type": "code",
   "execution_count": null,
   "metadata": {},
   "outputs": [],
   "source": []
  }
 ],
 "metadata": {
  "kernelspec": {
   "display_name": "Python 3",
   "language": "python",
   "name": "python3"
  },
  "language_info": {
   "codemirror_mode": {
    "name": "ipython",
    "version": 3
   },
   "file_extension": ".py",
   "mimetype": "text/x-python",
   "name": "python",
   "nbconvert_exporter": "python",
   "pygments_lexer": "ipython3",
   "version": "3.6.8"
  }
 },
 "nbformat": 4,
 "nbformat_minor": 2
}
