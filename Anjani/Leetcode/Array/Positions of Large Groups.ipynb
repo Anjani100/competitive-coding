{
 "cells": [
  {
   "cell_type": "code",
   "execution_count": 17,
   "metadata": {},
   "outputs": [
    {
     "name": "stdout",
     "output_type": "stream",
     "text": [
      "[]\n"
     ]
    }
   ],
   "source": [
    "def largeGroupPositions(s):\n",
    "    start = 0\n",
    "    count = 1\n",
    "    res = []\n",
    "    for i in range(len(s) - 1):\n",
    "        if s[i] == s[i + 1]:\n",
    "            count += 1\n",
    "        else:\n",
    "            if count > 2:\n",
    "                a = [start, i]\n",
    "                res.append(a)\n",
    "            start = i + 1\n",
    "            count = 1\n",
    "    if count > 2:\n",
    "        a = [start, i + 1]\n",
    "        res.append(a)\n",
    "    return res\n",
    "\n",
    "print(largeGroupPositions(\"abc\"))"
   ]
  },
  {
   "cell_type": "code",
   "execution_count": null,
   "metadata": {},
   "outputs": [],
   "source": []
  }
 ],
 "metadata": {
  "kernelspec": {
   "display_name": "Python 3",
   "language": "python",
   "name": "python3"
  },
  "language_info": {
   "codemirror_mode": {
    "name": "ipython",
    "version": 3
   },
   "file_extension": ".py",
   "mimetype": "text/x-python",
   "name": "python",
   "nbconvert_exporter": "python",
   "pygments_lexer": "ipython3",
   "version": "3.6.8"
  }
 },
 "nbformat": 4,
 "nbformat_minor": 2
}
