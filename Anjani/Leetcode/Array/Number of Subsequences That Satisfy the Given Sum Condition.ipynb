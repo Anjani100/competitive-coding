{
 "cells": [
  {
   "cell_type": "code",
   "execution_count": 24,
   "metadata": {},
   "outputs": [
    {
     "name": "stdout",
     "output_type": "stream",
     "text": [
      "127\n"
     ]
    }
   ],
   "source": [
    "# Brute-force approach\n",
    "def numSubseq(nums, target):\n",
    "    nums.sort()\n",
    "    count = 0\n",
    "    j = len(nums) - 1\n",
    "    for i in range(len(nums)):\n",
    "        while j >= i and nums[i] + nums[j] > target:\n",
    "            j -= 1\n",
    "        if j > i:\n",
    "            count += (2 ** (j - i) - 1) + 1\n",
    "        elif j == i:\n",
    "            count += 1\n",
    "            break\n",
    "    return count % (10**9 + 7)\n",
    "\n",
    "print(numSubseq([5,2,4,1,7,6,8], 16))"
   ]
  },
  {
   "cell_type": "code",
   "execution_count": null,
   "metadata": {},
   "outputs": [],
   "source": []
  }
 ],
 "metadata": {
  "kernelspec": {
   "display_name": "Python 3",
   "language": "python",
   "name": "python3"
  },
  "language_info": {
   "codemirror_mode": {
    "name": "ipython",
    "version": 3
   },
   "file_extension": ".py",
   "mimetype": "text/x-python",
   "name": "python",
   "nbconvert_exporter": "python",
   "pygments_lexer": "ipython3",
   "version": "3.6.8"
  }
 },
 "nbformat": 4,
 "nbformat_minor": 2
}
