{
 "cells": [
  {
   "cell_type": "code",
   "execution_count": 18,
   "metadata": {},
   "outputs": [
    {
     "name": "stdout",
     "output_type": "stream",
     "text": [
      "[5, -1, 4, 4, -6, -6, 1, 1, 1]\n"
     ]
    }
   ],
   "source": [
    "def frequencySort(nums):\n",
    "    res = []\n",
    "    nums = sorted(nums, reverse = True)\n",
    "    dict_nums = {}\n",
    "    for i in nums:\n",
    "        if i in dict_nums:\n",
    "            dict_nums[i] += 1\n",
    "        else:\n",
    "            dict_nums[i] = 1\n",
    "    dict_nums = sorted(dict_nums.items(), key = lambda kv:(kv[1]))\n",
    "    for i in dict_nums:\n",
    "        for j in range(i[1]):\n",
    "            res.append(i[0])\n",
    "    return res\n",
    "\n",
    "print(frequencySort([-1,1,-6,4,5,-6,1,4,1]))"
   ]
  },
  {
   "cell_type": "code",
   "execution_count": 5,
   "metadata": {},
   "outputs": [
    {
     "name": "stdout",
     "output_type": "stream",
     "text": [
      "[5, -1, 4, 4, -6, -6, 1, 1, 1]\n"
     ]
    }
   ],
   "source": [
    "def frequencySort(nums):\n",
    "    res = []\n",
    "    dict_nums = {}\n",
    "    for i in nums:\n",
    "        if i in dict_nums:\n",
    "            dict_nums[i] += 1\n",
    "        else:\n",
    "            dict_nums[i] = 1\n",
    "    dict_nums = sorted(dict_nums.items(), key = lambda kv:(kv[1], -kv[0]))\n",
    "    for i in dict_nums:\n",
    "        l = [i[0]] * i[1]\n",
    "        res += l\n",
    "    return res\n",
    "\n",
    "print(frequencySort([-1,1,-6,4,5,-6,1,4,1]))"
   ]
  },
  {
   "cell_type": "code",
   "execution_count": null,
   "metadata": {},
   "outputs": [],
   "source": []
  }
 ],
 "metadata": {
  "kernelspec": {
   "display_name": "Python 3",
   "language": "python",
   "name": "python3"
  },
  "language_info": {
   "codemirror_mode": {
    "name": "ipython",
    "version": 3
   },
   "file_extension": ".py",
   "mimetype": "text/x-python",
   "name": "python",
   "nbconvert_exporter": "python",
   "pygments_lexer": "ipython3",
   "version": "3.6.8"
  }
 },
 "nbformat": 4,
 "nbformat_minor": 2
}
