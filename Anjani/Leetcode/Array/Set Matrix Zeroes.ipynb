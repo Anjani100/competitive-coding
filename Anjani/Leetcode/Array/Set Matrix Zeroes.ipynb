{
 "cells": [
  {
   "cell_type": "code",
   "execution_count": 20,
   "metadata": {},
   "outputs": [
    {
     "name": "stdout",
     "output_type": "stream",
     "text": [
      "[[0, 0, 0, 0], [0, 4, 5, 0], [0, 3, 1, 0]]\n"
     ]
    }
   ],
   "source": [
    "def setZeroes(matrix):\n",
    "    \"\"\"\n",
    "    Do not return anything, modify matrix in-place instead.\n",
    "    \"\"\"\n",
    "    indexes = []\n",
    "    for i in range(len(matrix)):\n",
    "        for j in range(len(matrix[0])):\n",
    "            if matrix[i][j] == 0:\n",
    "                indexes.append([i, j])\n",
    "    \n",
    "    for index in indexes:\n",
    "        for i in range(len(matrix)):\n",
    "            matrix[i][index[1]] = 0\n",
    "    \n",
    "    for index in indexes:\n",
    "        for i in range(len(matrix[0])):\n",
    "            matrix[index[0]][i] = 0\n",
    "\n",
    "matrix = [[0, 1, 2, 0], [3, 4, 5, 2], [1, 3, 1, 5]]\n",
    "setZeroes(matrix)\n",
    "print(matrix)"
   ]
  },
  {
   "cell_type": "code",
   "execution_count": null,
   "metadata": {},
   "outputs": [],
   "source": []
  }
 ],
 "metadata": {
  "kernelspec": {
   "display_name": "Python 3",
   "language": "python",
   "name": "python3"
  },
  "language_info": {
   "codemirror_mode": {
    "name": "ipython",
    "version": 3
   },
   "file_extension": ".py",
   "mimetype": "text/x-python",
   "name": "python",
   "nbconvert_exporter": "python",
   "pygments_lexer": "ipython3",
   "version": "3.6.8"
  }
 },
 "nbformat": 4,
 "nbformat_minor": 2
}
