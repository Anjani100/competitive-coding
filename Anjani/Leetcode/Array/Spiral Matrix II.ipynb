{
 "cells": [
  {
   "cell_type": "code",
   "execution_count": 39,
   "metadata": {},
   "outputs": [
    {
     "name": "stdout",
     "output_type": "stream",
     "text": [
      "[[1, 2, 3, 4, 5, 6, 7, 8, 9, 10, 11, 12], [44, 45, 46, 47, 48, 49, 50, 51, 52, 53, 54, 13], [43, 80, 81, 82, 83, 84, 85, 86, 87, 88, 55, 14], [42, 79, 108, 109, 110, 111, 112, 113, 114, 89, 56, 15], [41, 78, 107, 128, 129, 130, 131, 132, 115, 90, 57, 16], [40, 77, 106, 127, 140, 141, 142, 133, 116, 91, 58, 17], [39, 76, 105, 126, 139, 144, 143, 134, 117, 92, 59, 18], [38, 75, 104, 125, 138, 137, 136, 135, 118, 93, 60, 19], [37, 74, 103, 124, 123, 122, 121, 120, 119, 94, 61, 20], [36, 73, 102, 101, 100, 99, 98, 97, 96, 95, 62, 21], [35, 72, 71, 70, 69, 68, 67, 66, 65, 64, 63, 22], [34, 33, 32, 31, 30, 29, 28, 27, 26, 25, 24, 23]]\n"
     ]
    }
   ],
   "source": [
    "def generateMatrix(n):\n",
    "    a = [[0 for i in range(n)] for j in range(n)]\n",
    "    count = 1\n",
    "    visited = []\n",
    "    # Edge Cases\n",
    "    for i in range(n):\n",
    "        a[0][i] = count\n",
    "        count += 1\n",
    "        visited.append(str(0) + '-' + str(i))\n",
    "    for i in range(1, n):\n",
    "        a[i][n - 1] = count\n",
    "        count += 1\n",
    "        visited.append(str(i) + '-' + str(n - 1))\n",
    "    for i in range(n - 2, -1, -1):\n",
    "        a[n - 1][i] = count\n",
    "        count += 1\n",
    "        visited.append(str(n - 1) + '-' + str(i))\n",
    "    # Not so edge cases\n",
    "    if n > 2:\n",
    "        i = n - 2\n",
    "        j = 0\n",
    "        left = False\n",
    "        right = False\n",
    "        down = False\n",
    "        up = True\n",
    "        while True:\n",
    "            a[i][j] = count\n",
    "            count += 1\n",
    "            visited.append(str(i) + '-' + str(j))\n",
    "            if up:\n",
    "                if (str(i - 1) + '-' + str(j)) not in visited:\n",
    "                    i -= 1\n",
    "                else:\n",
    "                    up = False\n",
    "                    right = True\n",
    "                    j += 1\n",
    "            elif right:\n",
    "                if (str(i) + '-' + str(j + 1)) not in visited:\n",
    "                    j += 1\n",
    "                else:\n",
    "                    right = False\n",
    "                    down = True\n",
    "                    i += 1\n",
    "            elif down:\n",
    "                if (str(i + 1) + '-' + str(j)) not in visited:\n",
    "                    i += 1\n",
    "                else:\n",
    "                    down = False\n",
    "                    left = True\n",
    "                    j -= 1\n",
    "            elif left:\n",
    "                if (str(i) + '-' + str(j - 1)) not in visited:\n",
    "                    j -= 1\n",
    "                else:\n",
    "                    left = False\n",
    "                    up = True\n",
    "                    i -= 1\n",
    "            \n",
    "            if len(visited) == n * n:\n",
    "                break\n",
    "\n",
    "    return a\n",
    "\n",
    "print(generateMatrix(12))"
   ]
  },
  {
   "cell_type": "code",
   "execution_count": null,
   "metadata": {},
   "outputs": [],
   "source": []
  }
 ],
 "metadata": {
  "kernelspec": {
   "display_name": "Python 3",
   "language": "python",
   "name": "python3"
  },
  "language_info": {
   "codemirror_mode": {
    "name": "ipython",
    "version": 3
   },
   "file_extension": ".py",
   "mimetype": "text/x-python",
   "name": "python",
   "nbconvert_exporter": "python",
   "pygments_lexer": "ipython3",
   "version": "3.6.8"
  }
 },
 "nbformat": 4,
 "nbformat_minor": 2
}
