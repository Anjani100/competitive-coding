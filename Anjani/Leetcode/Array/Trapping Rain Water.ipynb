{
 "cells": [
  {
   "cell_type": "code",
   "execution_count": 2,
   "metadata": {},
   "outputs": [
    {
     "name": "stdout",
     "output_type": "stream",
     "text": [
      "6\n"
     ]
    }
   ],
   "source": [
    "# Brute-force approach (Time: O(n^2); Space: O(1))\n",
    "def trap(height):\n",
    "    count = 0\n",
    "    for i in range(1, len(height) - 1):\n",
    "        left = height[i]\n",
    "        for j in range(i):\n",
    "            left = max(left, height[j])\n",
    "        \n",
    "        right = height[i]\n",
    "        for j in range(i + 1, len(height)):\n",
    "            right = max(right, height[j])\n",
    "        \n",
    "        count += min(left, right) - height[i]\n",
    "    return count\n",
    "\n",
    "print(trap([0,1,0,2,1,0,1,3,2,1,2,1]))"
   ]
  },
  {
   "cell_type": "code",
   "execution_count": 11,
   "metadata": {},
   "outputs": [
    {
     "name": "stdout",
     "output_type": "stream",
     "text": [
      "6\n"
     ]
    }
   ],
   "source": [
    "# Optimized approach (Time: O(n); Space: O(n))\n",
    "def trap(height):\n",
    "    if height == []:\n",
    "        return 0\n",
    "    count = 0\n",
    "    left = [0] * len(height)\n",
    "    right = [0] * len(height)\n",
    "    \n",
    "    left[0] = height[0]\n",
    "    right[len(height) - 1] = height[len(height) - 1]\n",
    "    \n",
    "    for i in range(len(height) - 1):\n",
    "        left[i] = max(left[i - 1], height[i])\n",
    "    \n",
    "    for i in range(len(height) - 2, -1, -1):\n",
    "        right[i] = max(right[i + 1], height[i])\n",
    "    \n",
    "    for i in range(1, len(height) - 1):\n",
    "        count += min(left[i], right[i]) - height[i]\n",
    "    \n",
    "    return count\n",
    "\n",
    "print(trap([0,1,0,2,1,0,1,3,2,1,2,1]))"
   ]
  },
  {
   "cell_type": "code",
   "execution_count": null,
   "metadata": {},
   "outputs": [],
   "source": []
  }
 ],
 "metadata": {
  "kernelspec": {
   "display_name": "Python 3",
   "language": "python",
   "name": "python3"
  },
  "language_info": {
   "codemirror_mode": {
    "name": "ipython",
    "version": 3
   },
   "file_extension": ".py",
   "mimetype": "text/x-python",
   "name": "python",
   "nbconvert_exporter": "python",
   "pygments_lexer": "ipython3",
   "version": "3.6.8"
  }
 },
 "nbformat": 4,
 "nbformat_minor": 2
}
