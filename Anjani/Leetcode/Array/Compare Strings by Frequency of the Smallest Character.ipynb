{
 "cells": [
  {
   "cell_type": "code",
   "execution_count": 4,
   "metadata": {},
   "outputs": [
    {
     "name": "stdout",
     "output_type": "stream",
     "text": [
      "[1, 2]\n"
     ]
    }
   ],
   "source": [
    "# Brute-force approach (Time: O(n^2); Space: O(1))\n",
    "def numSmallerByFrequency(queries, words):\n",
    "    res = []\n",
    "    for i in range(len(queries)):\n",
    "        count = 0\n",
    "        c = queries[i].count(min(queries[i]))\n",
    "        for j in range(len(words)):\n",
    "            d = words[j].count(min(words[j]))\n",
    "            if c < d:\n",
    "                count += 1\n",
    "        res.append(count)\n",
    "    return res\n",
    "    \n",
    "print(numSmallerByFrequency([\"bbb\",\"cc\"], [\"a\",\"aa\",\"aaa\",\"aaaa\"]))"
   ]
  },
  {
   "cell_type": "code",
   "execution_count": 10,
   "metadata": {},
   "outputs": [
    {
     "name": "stdout",
     "output_type": "stream",
     "text": [
      "[1, 2]\n"
     ]
    }
   ],
   "source": [
    "# Optimized approach (Time: O(nlogn); Space: O(n))\n",
    "def numSmallerByFrequency(queries, words):\n",
    "    a = []\n",
    "    res = []\n",
    "    for i in range(len(words)):\n",
    "        a.append(words[i].count(min(words[i])))\n",
    "    a = sorted(a, reverse = True)\n",
    "    for i in range(len(queries)):\n",
    "        c = queries[i].count(min(queries[i]))\n",
    "        count = j = 0\n",
    "        while j < len(a):\n",
    "            if c < a[j]:\n",
    "                count += 1\n",
    "            j += 1\n",
    "        res.append(count)\n",
    "    return res\n",
    "\n",
    "print(numSmallerByFrequency([\"bbb\",\"cc\"], [\"a\",\"aa\",\"aaa\",\"aaaa\"]))"
   ]
  },
  {
   "cell_type": "code",
   "execution_count": null,
   "metadata": {},
   "outputs": [],
   "source": []
  }
 ],
 "metadata": {
  "kernelspec": {
   "display_name": "Python 3",
   "language": "python",
   "name": "python3"
  },
  "language_info": {
   "codemirror_mode": {
    "name": "ipython",
    "version": 3
   },
   "file_extension": ".py",
   "mimetype": "text/x-python",
   "name": "python",
   "nbconvert_exporter": "python",
   "pygments_lexer": "ipython3",
   "version": "3.6.8"
  }
 },
 "nbformat": 4,
 "nbformat_minor": 2
}
