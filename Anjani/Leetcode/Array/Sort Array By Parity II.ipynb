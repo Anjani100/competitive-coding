{
 "cells": [
  {
   "cell_type": "code",
   "execution_count": 21,
   "metadata": {},
   "outputs": [
    {
     "name": "stdout",
     "output_type": "stream",
     "text": [
      "[888, 627, 846, 505]\n"
     ]
    }
   ],
   "source": [
    "def sortArrayByParityII(A):\n",
    "    odd = 1\n",
    "    i = 0\n",
    "    while i < len(A):\n",
    "        if (A[i] % 2 != 0 and odd < len(A)) and (i % 2 == 0):\n",
    "            A[i], A[odd] = A[odd], A[i]\n",
    "            odd += 2\n",
    "            i -= 1\n",
    "        i += 1\n",
    "    return A\n",
    "\n",
    "print(sortArrayByParityII([888,505,627,846]))"
   ]
  },
  {
   "cell_type": "code",
   "execution_count": null,
   "metadata": {},
   "outputs": [],
   "source": []
  }
 ],
 "metadata": {
  "kernelspec": {
   "display_name": "Python 3",
   "language": "python",
   "name": "python3"
  },
  "language_info": {
   "codemirror_mode": {
    "name": "ipython",
    "version": 3
   },
   "file_extension": ".py",
   "mimetype": "text/x-python",
   "name": "python",
   "nbconvert_exporter": "python",
   "pygments_lexer": "ipython3",
   "version": "3.6.8"
  }
 },
 "nbformat": 4,
 "nbformat_minor": 2
}
