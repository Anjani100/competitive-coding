{
 "cells": [
  {
   "cell_type": "code",
   "execution_count": 4,
   "metadata": {},
   "outputs": [
    {
     "name": "stdout",
     "output_type": "stream",
     "text": [
      "[1, 2, 2, 3, 5, 6]\n"
     ]
    }
   ],
   "source": [
    "# Using Python's sort function (Time: O(nlogn); Space: O(1))\n",
    "def merge(nums1, m, nums2, n):\n",
    "    \"\"\"\n",
    "    Do not return anything, modify nums1 in-place instead.\n",
    "    \"\"\"\n",
    "    for _ in range(n):\n",
    "        nums1.pop()\n",
    "    for i in range(n):\n",
    "        nums1.append(nums2[i])\n",
    "    nums1.sort()\n",
    "\n",
    "nums1 = [1, 2, 3, 0, 0, 0]\n",
    "nums2 = [2, 5, 6]\n",
    "merge(nums1, len(nums1), nums2, len(nums2))\n",
    "print(nums1)"
   ]
  },
  {
   "cell_type": "code",
   "execution_count": 16,
   "metadata": {},
   "outputs": [
    {
     "name": "stdout",
     "output_type": "stream",
     "text": [
      "[1]\n"
     ]
    }
   ],
   "source": [
    "# Brute-force (Time: O(n^2))\n",
    "def merge(nums1, m, nums2, n):\n",
    "    \"\"\"\n",
    "    Do not return anything, modify nums1 in-place instead.\n",
    "    \"\"\"\n",
    "    for _ in range(n):\n",
    "        nums1.pop()\n",
    "    for i in range(n):\n",
    "        if nums2[i] in nums1:\n",
    "            index = nums1.index(nums2[i])\n",
    "            nums1.insert(index, nums2[i])\n",
    "        elif len(nums1) == 0 or nums2[i] >= nums1[-1]:\n",
    "            nums1.append(nums2[i])\n",
    "        else:\n",
    "            for j in range(len(nums1)):\n",
    "                if nums2[i] <= nums1[j]:\n",
    "                    nums1.insert(j, nums2[i])\n",
    "                    break\n",
    "\n",
    "nums1 = [0]\n",
    "nums2 = [1]\n",
    "merge(nums1, len(nums1), nums2, len(nums2))\n",
    "print(nums1)"
   ]
  },
  {
   "cell_type": "code",
   "execution_count": 23,
   "metadata": {},
   "outputs": [
    {
     "name": "stdout",
     "output_type": "stream",
     "text": [
      "[1, 2, 3, 4, 5, 6]\n"
     ]
    }
   ],
   "source": [
    "# Brute-force (Time: O(n^2))\n",
    "def merge(nums1, m, nums2, n):\n",
    "    \"\"\"\n",
    "    Do not return anything, modify nums1 in-place instead.\n",
    "    \"\"\"\n",
    "    for _ in range(n):\n",
    "        nums1.pop()\n",
    "    j = 0\n",
    "    for i in range(len(nums1)):\n",
    "        if j == n:\n",
    "            break\n",
    "        if nums1[i] >= nums2[j]:\n",
    "            nums1.insert(i, nums2[j])\n",
    "            j += 1\n",
    "    \n",
    "    for i in range(j, n):\n",
    "        nums1.append(nums2[i])\n",
    "\n",
    "nums1 = [4, 5, 6, 0, 0, 0]\n",
    "nums2 = [1, 2, 3]\n",
    "merge(nums1, len(nums1), nums2, len(nums2))\n",
    "print(nums1)"
   ]
  },
  {
   "cell_type": "code",
   "execution_count": null,
   "metadata": {},
   "outputs": [],
   "source": []
  }
 ],
 "metadata": {
  "kernelspec": {
   "display_name": "Python 3",
   "language": "python",
   "name": "python3"
  },
  "language_info": {
   "codemirror_mode": {
    "name": "ipython",
    "version": 3
   },
   "file_extension": ".py",
   "mimetype": "text/x-python",
   "name": "python",
   "nbconvert_exporter": "python",
   "pygments_lexer": "ipython3",
   "version": "3.6.8"
  }
 },
 "nbformat": 4,
 "nbformat_minor": 2
}
