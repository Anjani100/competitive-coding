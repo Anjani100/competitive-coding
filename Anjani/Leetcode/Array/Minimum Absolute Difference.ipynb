{
 "cells": [
  {
   "cell_type": "code",
   "execution_count": 11,
   "metadata": {},
   "outputs": [
    {
     "name": "stdout",
     "output_type": "stream",
     "text": [
      "[[26, 27]]\n"
     ]
    }
   ],
   "source": [
    "def minimumAbsDifference(arr):\n",
    "    res = []\n",
    "    arr.sort()\n",
    "    a = [arr[0], arr[1]]\n",
    "    best_diff = arr[1] - arr[0]\n",
    "    res.append(a)\n",
    "    for i in range(1, len(arr) - 1):\n",
    "        curr_diff = arr[i + 1] - arr[i]\n",
    "        if curr_diff < best_diff:\n",
    "            best_diff = curr_diff\n",
    "            res = []\n",
    "            res.append([arr[i], arr[i + 1]])\n",
    "        elif arr[i + 1] - arr[i] == best_diff:\n",
    "            a = [arr[i], arr[i + 1]]\n",
    "            res.append(a)\n",
    "    return res\n",
    "\n",
    "print(minimumAbsDifference([40,11,26,27,-20]))"
   ]
  },
  {
   "cell_type": "code",
   "execution_count": null,
   "metadata": {},
   "outputs": [],
   "source": []
  }
 ],
 "metadata": {
  "kernelspec": {
   "display_name": "Python 3",
   "language": "python",
   "name": "python3"
  },
  "language_info": {
   "codemirror_mode": {
    "name": "ipython",
    "version": 3
   },
   "file_extension": ".py",
   "mimetype": "text/x-python",
   "name": "python",
   "nbconvert_exporter": "python",
   "pygments_lexer": "ipython3",
   "version": "3.6.8"
  }
 },
 "nbformat": 4,
 "nbformat_minor": 2
}
