{
 "cells": [
  {
   "cell_type": "code",
   "execution_count": 1,
   "metadata": {},
   "outputs": [
    {
     "name": "stdout",
     "output_type": "stream",
     "text": [
      "[1, 2]\n"
     ]
    }
   ],
   "source": [
    "def mostVisited(n, rounds):\n",
    "    dict_r = {}\n",
    "    res = []\n",
    "    for i in range(len(rounds) - 1):\n",
    "        m = rounds[i]\n",
    "        while m != rounds[i + 1]:\n",
    "            if m in dict_r:\n",
    "                dict_r[m] += 1\n",
    "            else:\n",
    "                dict_r[m] = 1\n",
    "            m += 1\n",
    "            if m == n + 1:\n",
    "                m = 1\n",
    "    if m in dict_r:\n",
    "        dict_r[m] += 1\n",
    "    else:\n",
    "        dict_r[m] = 1\n",
    "    a = max(dict_r.values())\n",
    "    for r in dict_r:\n",
    "        if dict_r[r] == a:\n",
    "            res.append(r)\n",
    "    res.sort()\n",
    "    return res\n",
    "\n",
    "print(mostVisited(2, [1,2]))"
   ]
  },
  {
   "cell_type": "code",
   "execution_count": 2,
   "metadata": {},
   "outputs": [
    {
     "name": "stdout",
     "output_type": "stream",
     "text": [
      "[1, 2]\n"
     ]
    }
   ],
   "source": [
    "def mostVisited(n, rounds):\n",
    "    s, e = rounds[0], rounds[-1]\n",
    "    if s <= e:\n",
    "        return list(range(s, e + 1))\n",
    "    else:\n",
    "        return list(range(1, e + 1)) + list(range(s, n + 1))\n",
    "\n",
    "print(mostVisited(2, [1,2]))"
   ]
  },
  {
   "cell_type": "code",
   "execution_count": null,
   "metadata": {},
   "outputs": [],
   "source": []
  }
 ],
 "metadata": {
  "kernelspec": {
   "display_name": "Python 3",
   "language": "python",
   "name": "python3"
  },
  "language_info": {
   "codemirror_mode": {
    "name": "ipython",
    "version": 3
   },
   "file_extension": ".py",
   "mimetype": "text/x-python",
   "name": "python",
   "nbconvert_exporter": "python",
   "pygments_lexer": "ipython3",
   "version": "3.6.8"
  }
 },
 "nbformat": 4,
 "nbformat_minor": 2
}
