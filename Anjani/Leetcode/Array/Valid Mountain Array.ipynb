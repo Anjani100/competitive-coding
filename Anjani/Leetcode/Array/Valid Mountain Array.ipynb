{
 "cells": [
  {
   "cell_type": "code",
   "execution_count": 10,
   "metadata": {},
   "outputs": [
    {
     "name": "stdout",
     "output_type": "stream",
     "text": [
      "False\n"
     ]
    }
   ],
   "source": [
    "def validMountainArray(A):\n",
    "    if len(A) < 3:\n",
    "        return False\n",
    "    flag = 0\n",
    "    for i in range(len(A) - 1):\n",
    "        if flag == 0:\n",
    "            if A[i] >= A[i + 1]:\n",
    "                return False\n",
    "        else:\n",
    "            if A[i] <= A[i + 1]:\n",
    "                return False\n",
    "        if (i < len(A) - 2) and A[i] < A[i + 1] and A[i + 1] > A[i + 2]:\n",
    "            flag = 1\n",
    "    return True\n",
    "\n",
    "print(validMountainArray([0, 2, 3, 3, 5, 2, 1, 0]))"
   ]
  },
  {
   "cell_type": "code",
   "execution_count": null,
   "metadata": {},
   "outputs": [],
   "source": []
  }
 ],
 "metadata": {
  "kernelspec": {
   "display_name": "Python 3",
   "language": "python",
   "name": "python3"
  },
  "language_info": {
   "codemirror_mode": {
    "name": "ipython",
    "version": 3
   },
   "file_extension": ".py",
   "mimetype": "text/x-python",
   "name": "python",
   "nbconvert_exporter": "python",
   "pygments_lexer": "ipython3",
   "version": "3.6.8"
  }
 },
 "nbformat": 4,
 "nbformat_minor": 2
}
