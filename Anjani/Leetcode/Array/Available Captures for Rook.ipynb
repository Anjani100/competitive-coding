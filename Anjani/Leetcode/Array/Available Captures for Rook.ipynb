{
 "cells": [
  {
   "cell_type": "code",
   "execution_count": 13,
   "metadata": {},
   "outputs": [
    {
     "name": "stdout",
     "output_type": "stream",
     "text": [
      "3\n"
     ]
    }
   ],
   "source": [
    "def numRookCaptures(board):\n",
    "    for i in range(len(board)):\n",
    "        if 'R' in board[i]:\n",
    "            m = i\n",
    "            n = board[i].index('R')\n",
    "            break\n",
    "    count = 0\n",
    "    for i in range(n - 1, -1, -1):\n",
    "        if board[m][i] == '.':\n",
    "            pass\n",
    "        elif board[m][i] == 'p':\n",
    "            count += 1\n",
    "            break\n",
    "        else:\n",
    "            break\n",
    "    \n",
    "    for i in range(n + 1, len(board[0])):\n",
    "        if board[m][i] == '.':\n",
    "            pass\n",
    "        elif board[m][i] == 'p':\n",
    "            count += 1\n",
    "            break\n",
    "        else:\n",
    "            break\n",
    "    \n",
    "    for i in range(m - 1, -1, -1):\n",
    "        if board[i][n] == '.':\n",
    "            pass\n",
    "        elif board[i][n] == 'p':\n",
    "            count += 1\n",
    "            break\n",
    "        else:\n",
    "            break\n",
    "    \n",
    "    for i in range(m + 1, len(board)):\n",
    "        if board[i][n] == '.':\n",
    "            pass\n",
    "        elif board[i][n] == 'p':\n",
    "            count += 1\n",
    "            break\n",
    "        else:\n",
    "            break\n",
    "    \n",
    "    return count\n",
    "\n",
    "print(numRookCaptures([[\".\",\".\",\".\",\".\",\".\",\".\",\".\",\".\"],[\".\",\".\",\".\",\"p\",\".\",\".\",\".\",\".\"],[\".\",\".\",\".\",\"R\",\".\",\".\",\".\",\"p\"],[\".\",\".\",\".\",\".\",\".\",\".\",\".\",\".\"],[\".\",\".\",\".\",\".\",\".\",\".\",\".\",\".\"],[\".\",\".\",\".\",\"p\",\".\",\".\",\".\",\".\"],[\".\",\".\",\".\",\".\",\".\",\".\",\".\",\".\"],[\".\",\".\",\".\",\".\",\".\",\".\",\".\",\".\"]]))\n"
   ]
  },
  {
   "cell_type": "code",
   "execution_count": null,
   "metadata": {},
   "outputs": [],
   "source": []
  }
 ],
 "metadata": {
  "kernelspec": {
   "display_name": "Python 3",
   "language": "python",
   "name": "python3"
  },
  "language_info": {
   "codemirror_mode": {
    "name": "ipython",
    "version": 3
   },
   "file_extension": ".py",
   "mimetype": "text/x-python",
   "name": "python",
   "nbconvert_exporter": "python",
   "pygments_lexer": "ipython3",
   "version": "3.6.8"
  }
 },
 "nbformat": 4,
 "nbformat_minor": 2
}
