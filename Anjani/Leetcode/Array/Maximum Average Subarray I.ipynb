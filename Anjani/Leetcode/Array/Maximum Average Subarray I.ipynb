{
 "cells": [
  {
   "cell_type": "code",
   "execution_count": 17,
   "metadata": {},
   "outputs": [
    {
     "name": "stdout",
     "output_type": "stream",
     "text": [
      "12.75\n"
     ]
    }
   ],
   "source": [
    "# Brute-force approach (Time: O(n * k); Space: O(1))\n",
    "def findMaxAverage(nums, k):\n",
    "    max_avg = -pow(2, 31)\n",
    "    for i in range(len(nums) - k + 1):\n",
    "        sum_nums = 0\n",
    "        for j in range(i, i + k):\n",
    "            sum_nums += nums[j]\n",
    "        max_avg = max(max_avg, sum_nums/k)\n",
    "    return max_avg\n",
    "\n",
    "print(findMaxAverage([1, 12, -5, -6, 50, 3], 4))"
   ]
  },
  {
   "cell_type": "code",
   "execution_count": 45,
   "metadata": {},
   "outputs": [
    {
     "name": "stdout",
     "output_type": "stream",
     "text": [
      "15.5\n"
     ]
    }
   ],
   "source": [
    "# Brute-force approach (Time: O(n); Space: O(1))\n",
    "def findMaxAverage(nums, k):\n",
    "    sum_nums = sum(nums[:k])\n",
    "    max_avg = sum_nums/k\n",
    "    for i in range(1, len(nums) - k + 1):\n",
    "        sum_nums += nums[i + k - 1]\n",
    "        sum_nums -= nums[i - 1]\n",
    "        max_avg = max(max_avg, sum_nums/k)\n",
    "    return max_avg\n",
    "\n",
    "print(findMaxAverage([-1, 12, -5, -6, 50, 3, 5, 4], 4))"
   ]
  },
  {
   "cell_type": "code",
   "execution_count": null,
   "metadata": {},
   "outputs": [],
   "source": []
  }
 ],
 "metadata": {
  "kernelspec": {
   "display_name": "Python 3",
   "language": "python",
   "name": "python3"
  },
  "language_info": {
   "codemirror_mode": {
    "name": "ipython",
    "version": 3
   },
   "file_extension": ".py",
   "mimetype": "text/x-python",
   "name": "python",
   "nbconvert_exporter": "python",
   "pygments_lexer": "ipython3",
   "version": "3.6.8"
  }
 },
 "nbformat": 4,
 "nbformat_minor": 2
}
