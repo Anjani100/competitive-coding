{
 "cells": [
  {
   "cell_type": "code",
   "execution_count": 32,
   "metadata": {},
   "outputs": [
    {
     "name": "stdout",
     "output_type": "stream",
     "text": [
      "[[1, 3, 5, 7], [2, 0, 6, 8]]\n"
     ]
    }
   ],
   "source": [
    "def transpose(A):\n",
    "    m = len(A)\n",
    "    n = len(A[0])\n",
    "    if m > n:\n",
    "        for i in range(m):\n",
    "            for _ in range(m - n):\n",
    "                A[i].append(0)\n",
    "    elif m < n:\n",
    "        for i in range(n - m):\n",
    "            s = [0] * n\n",
    "            A.append(s)\n",
    "            \n",
    "    for i in range(len(A)):\n",
    "        for j in range(len(A[i])):\n",
    "            if j > i:\n",
    "                A[i][j], A[j][i] = A[j][i], A[i][j]\n",
    "    \n",
    "    if m < n:\n",
    "        for i in range(len(A)):\n",
    "            for _ in range(n - m):\n",
    "                A[i].pop()\n",
    "    elif m > n:\n",
    "        for _ in range(m - n):\n",
    "            A.pop()\n",
    "    return A\n",
    "\n",
    "print(transpose([[1,2], [3,0], [5,6], [7,8]]))"
   ]
  },
  {
   "cell_type": "code",
   "execution_count": 34,
   "metadata": {},
   "outputs": [
    {
     "name": "stdout",
     "output_type": "stream",
     "text": [
      "[[1, 3, 5, 7], [2, 0, 6, 8]]\n"
     ]
    }
   ],
   "source": [
    "# Faster approach (Time: O(n^2); Space: O(n^2)) (Using extra space)\n",
    "def transpose(A):\n",
    "    m, n = len(A), len(A[0])\n",
    "    res = [[0]*m for _ in range(n)]\n",
    "    for i in range(m):\n",
    "        for j in range(n):\n",
    "            res[j][i] = A[i][j]\n",
    "    return res\n",
    "\n",
    "print(transpose([[1,2], [3,0], [5,6], [7,8]]))"
   ]
  },
  {
   "cell_type": "code",
   "execution_count": null,
   "metadata": {},
   "outputs": [],
   "source": []
  }
 ],
 "metadata": {
  "kernelspec": {
   "display_name": "Python 3",
   "language": "python",
   "name": "python3"
  },
  "language_info": {
   "codemirror_mode": {
    "name": "ipython",
    "version": 3
   },
   "file_extension": ".py",
   "mimetype": "text/x-python",
   "name": "python",
   "nbconvert_exporter": "python",
   "pygments_lexer": "ipython3",
   "version": "3.6.8"
  }
 },
 "nbformat": 4,
 "nbformat_minor": 2
}
