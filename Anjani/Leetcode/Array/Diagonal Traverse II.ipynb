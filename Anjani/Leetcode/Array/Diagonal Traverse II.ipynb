{
 "cells": [
  {
   "cell_type": "code",
   "execution_count": 24,
   "metadata": {},
   "outputs": [
    {
     "name": "stdout",
     "output_type": "stream",
     "text": [
      "[14, 13, 12, 11, 14, 19, 13, 15, 16, 1, 8, 9, 11]\n"
     ]
    }
   ],
   "source": [
    "def findDiagonalOrder(nums):\n",
    "    if len(nums) == 1:\n",
    "        return nums[0]\n",
    "    max_len = len(nums[0])\n",
    "    for i in range(1, len(nums)):\n",
    "        max_len = max(len(nums[i]), max_len)\n",
    "    res = []\n",
    "    for i in range(len(nums)):\n",
    "        j = 0\n",
    "        while i >= 0:\n",
    "            if len(nums[i]) > j:\n",
    "                res.append(nums[i][j])\n",
    "            i -= 1\n",
    "            j += 1\n",
    "    for j in range(1, max_len):\n",
    "        i = len(nums) - 1\n",
    "        while i >= 0:\n",
    "            if len(nums[i]) > j:\n",
    "                res.append(nums[i][j])\n",
    "            j += 1\n",
    "            i -= 1\n",
    "    return res\n",
    "    \n",
    "print(findDiagonalOrder([[14,12,19,16,9],[13,14,15,8,11],[11,13,1]]))"
   ]
  },
  {
   "cell_type": "code",
   "execution_count": 36,
   "metadata": {},
   "outputs": [
    {
     "name": "stdout",
     "output_type": "stream",
     "text": [
      "[14, 13, 12, 11, 14, 19, 13, 15, 16, 1, 8, 9, 11]\n"
     ]
    }
   ],
   "source": [
    "from collections import defaultdict\n",
    "def findDiagonalOrder(nums):\n",
    "    dic = defaultdict(list)\n",
    "    ans = []\n",
    "    for i in range(len(nums)):\n",
    "        for j in range(len(nums[i])):\n",
    "            dic[i + j].append(nums[i][j])\n",
    "    \n",
    "    for elements in dic:\n",
    "        dic[elements].reverse()\n",
    "        for i in dic[elements]:\n",
    "            ans.append(i)\n",
    "    return ans\n",
    "\n",
    "print(findDiagonalOrder([[14,12,19,16,9],[13,14,15,8,11],[11,13,1]]))"
   ]
  },
  {
   "cell_type": "code",
   "execution_count": 38,
   "metadata": {},
   "outputs": [
    {
     "name": "stdout",
     "output_type": "stream",
     "text": [
      "[14, 13, 12, 11, 14, 19, 13, 15, 16, 1, 8, 9, 11]\n"
     ]
    }
   ],
   "source": [
    "def findDiagonalOrder(nums):\n",
    "    dic = {}\n",
    "    ans = []\n",
    "    for i in range(len(nums)):\n",
    "        for j in range(len(nums[i])):\n",
    "            if i + j in dic:\n",
    "                dic[i + j].append(nums[i][j])\n",
    "            else:\n",
    "                dic[i + j] = [nums[i][j]]\n",
    "    \n",
    "    for elements in dic:\n",
    "        dic[elements].reverse()\n",
    "        for i in dic[elements]:\n",
    "            ans.append(i)\n",
    "    return ans\n",
    "\n",
    "print(findDiagonalOrder([[14,12,19,16,9],[13,14,15,8,11],[11,13,1]]))"
   ]
  },
  {
   "cell_type": "code",
   "execution_count": null,
   "metadata": {},
   "outputs": [],
   "source": []
  }
 ],
 "metadata": {
  "kernelspec": {
   "display_name": "Python 3",
   "language": "python",
   "name": "python3"
  },
  "language_info": {
   "codemirror_mode": {
    "name": "ipython",
    "version": 3
   },
   "file_extension": ".py",
   "mimetype": "text/x-python",
   "name": "python",
   "nbconvert_exporter": "python",
   "pygments_lexer": "ipython3",
   "version": "3.6.8"
  }
 },
 "nbformat": 4,
 "nbformat_minor": 2
}
