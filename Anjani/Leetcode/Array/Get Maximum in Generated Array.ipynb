{
 "cells": [
  {
   "cell_type": "code",
   "execution_count": 19,
   "metadata": {},
   "outputs": [
    {
     "name": "stdout",
     "output_type": "stream",
     "text": [
      "3\n"
     ]
    }
   ],
   "source": [
    "def getMaximumGenerated(n):\n",
    "    if n == 0 or n == 1:\n",
    "        return n\n",
    "    a = [0, 1]\n",
    "    for i in range(1, n):\n",
    "        a.append(a[i])\n",
    "        a.append(a[i] + a[i + 1])\n",
    "    return max(a[:n + 1])\n",
    "\n",
    "print(getMaximumGenerated(7))"
   ]
  },
  {
   "cell_type": "code",
   "execution_count": 20,
   "metadata": {},
   "outputs": [
    {
     "name": "stdout",
     "output_type": "stream",
     "text": [
      "3\n"
     ]
    }
   ],
   "source": [
    "def getMaximumGenerated(n):\n",
    "    if n == 0 or n == 1:\n",
    "        return n\n",
    "    a = [0, 1]\n",
    "    for i in range(2, n + 1):\n",
    "        k, mod = divmod(i, 2)\n",
    "        if mod == 0:\n",
    "            a.append(a[k])\n",
    "        else:\n",
    "            a.append(a[k] + a[k + 1])\n",
    "    return max(a)\n",
    "\n",
    "print(getMaximumGenerated(7))"
   ]
  },
  {
   "cell_type": "code",
   "execution_count": null,
   "metadata": {},
   "outputs": [],
   "source": []
  }
 ],
 "metadata": {
  "kernelspec": {
   "display_name": "Python 3",
   "language": "python",
   "name": "python3"
  },
  "language_info": {
   "codemirror_mode": {
    "name": "ipython",
    "version": 3
   },
   "file_extension": ".py",
   "mimetype": "text/x-python",
   "name": "python",
   "nbconvert_exporter": "python",
   "pygments_lexer": "ipython3",
   "version": "3.6.8"
  }
 },
 "nbformat": 4,
 "nbformat_minor": 2
}
