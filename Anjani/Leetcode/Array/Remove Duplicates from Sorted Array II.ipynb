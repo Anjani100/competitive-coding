{
 "cells": [
  {
   "cell_type": "code",
   "execution_count": 4,
   "metadata": {},
   "outputs": [
    {
     "name": "stdout",
     "output_type": "stream",
     "text": [
      "7\n",
      "[0, 0, 1, 1, 2, 3, 3]\n"
     ]
    }
   ],
   "source": [
    "def removeDuplicates(nums):\n",
    "    a = set(nums)\n",
    "    count = {}\n",
    "    for i in a:\n",
    "        count[i] = 0\n",
    "    i = 0\n",
    "    while i < len(nums):\n",
    "        if count[nums[i]] == 2:\n",
    "            nums.pop(i)\n",
    "            i -= 1\n",
    "        else:\n",
    "            count[nums[i]] += 1\n",
    "        i += 1\n",
    "    return len(nums)\n",
    "\n",
    "nums = [0, 0, 1, 1, 1, 1, 2, 3, 3]\n",
    "print(removeDuplicates(nums))\n",
    "print(nums)"
   ]
  },
  {
   "cell_type": "code",
   "execution_count": null,
   "metadata": {},
   "outputs": [],
   "source": []
  }
 ],
 "metadata": {
  "kernelspec": {
   "display_name": "Python 3",
   "language": "python",
   "name": "python3"
  },
  "language_info": {
   "codemirror_mode": {
    "name": "ipython",
    "version": 3
   },
   "file_extension": ".py",
   "mimetype": "text/x-python",
   "name": "python",
   "nbconvert_exporter": "python",
   "pygments_lexer": "ipython3",
   "version": "3.6.8"
  }
 },
 "nbformat": 4,
 "nbformat_minor": 2
}
