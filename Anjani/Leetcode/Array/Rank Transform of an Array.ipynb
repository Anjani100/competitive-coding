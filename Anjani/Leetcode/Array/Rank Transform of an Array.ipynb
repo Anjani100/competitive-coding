{
 "cells": [
  {
   "cell_type": "code",
   "execution_count": 5,
   "metadata": {},
   "outputs": [
    {
     "name": "stdout",
     "output_type": "stream",
     "text": [
      "[5, 3, 4, 2, 8, 6, 7, 1, 3]\n"
     ]
    }
   ],
   "source": [
    "# Brute-force approach (Time: O(n^2); Space: O(n))\n",
    "def arrayRankTransform(arr):\n",
    "    res = []\n",
    "    s = set(arr)\n",
    "    for i in range(len(arr)):\n",
    "        count = 0\n",
    "        for j in s:\n",
    "            if arr[i] > j:\n",
    "                count += 1\n",
    "        res.append(count + 1)\n",
    "    return res\n",
    "\n",
    "print(arrayRankTransform([37,12,28,9,100,56,80,5,12]))"
   ]
  },
  {
   "cell_type": "code",
   "execution_count": 18,
   "metadata": {},
   "outputs": [
    {
     "name": "stdout",
     "output_type": "stream",
     "text": [
      "[5, 3, 4, 2, 8, 6, 7, 1, 3]\n"
     ]
    }
   ],
   "source": [
    "# Optimized approach (Time: O(nlogn); Space: O(n))\n",
    "def arrayRankTransform(arr):\n",
    "    res = []\n",
    "    s = sorted(set(arr))\n",
    "    for i in range(len(arr)):\n",
    "        res.append(s.index(arr[i]) + 1)\n",
    "    return res\n",
    "\n",
    "print(arrayRankTransform([37,12,28,9,100,56,80,5,12]))"
   ]
  },
  {
   "cell_type": "code",
   "execution_count": 29,
   "metadata": {},
   "outputs": [
    {
     "name": "stdout",
     "output_type": "stream",
     "text": [
      "[5, 3, 4, 2, 8, 6, 7, 1, 3]\n"
     ]
    }
   ],
   "source": [
    "# Optimized approach (Time: O(nlogn); Space: O(n))\n",
    "def arrayRankTransform(arr):\n",
    "    res = []\n",
    "    s = sorted(list(set(arr)))\n",
    "    d = {}\n",
    "    for i in range(len(s)):\n",
    "        d[s[i]] = i + 1\n",
    "    for i in arr:\n",
    "        res.append(d[i])\n",
    "    return res\n",
    "\n",
    "print(arrayRankTransform([37,12,28,9,100,56,80,5,12]))"
   ]
  },
  {
   "cell_type": "code",
   "execution_count": null,
   "metadata": {},
   "outputs": [],
   "source": []
  }
 ],
 "metadata": {
  "kernelspec": {
   "display_name": "Python 3",
   "language": "python",
   "name": "python3"
  },
  "language_info": {
   "codemirror_mode": {
    "name": "ipython",
    "version": 3
   },
   "file_extension": ".py",
   "mimetype": "text/x-python",
   "name": "python",
   "nbconvert_exporter": "python",
   "pygments_lexer": "ipython3",
   "version": "3.6.8"
  }
 },
 "nbformat": 4,
 "nbformat_minor": 2
}
