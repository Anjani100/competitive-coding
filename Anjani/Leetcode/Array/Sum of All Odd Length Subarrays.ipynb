{
 "cells": [
  {
   "cell_type": "code",
   "execution_count": 9,
   "metadata": {},
   "outputs": [
    {
     "name": "stdout",
     "output_type": "stream",
     "text": [
      "66\n"
     ]
    }
   ],
   "source": [
    "def sumOddLengthSubarrays(arr):\n",
    "    sum_odd = 0\n",
    "    for i in range(len(arr)):\n",
    "        s = 0\n",
    "        for j in range(i, len(arr)):\n",
    "            s += arr[j]\n",
    "            if (j - i + 1) % 2 == 1:\n",
    "                sum_odd += s\n",
    "    return sum_odd\n",
    "\n",
    "print(sumOddLengthSubarrays([10,11,12]))"
   ]
  },
  {
   "cell_type": "code",
   "execution_count": 10,
   "metadata": {},
   "outputs": [
    {
     "name": "stdout",
     "output_type": "stream",
     "text": [
      "66\n"
     ]
    }
   ],
   "source": [
    "def sumOddLengthSubarrays(arr):\n",
    "    sum_odd = 0\n",
    "    n = len(arr)\n",
    "    for i in range(n):\n",
    "        sum_odd += ((((i + 1) * (n - i) + 1) // 2) * arr[i])\n",
    "    return sum_odd\n",
    "\n",
    "print(sumOddLengthSubarrays([10,11,12]))"
   ]
  },
  {
   "cell_type": "code",
   "execution_count": null,
   "metadata": {},
   "outputs": [],
   "source": []
  }
 ],
 "metadata": {
  "kernelspec": {
   "display_name": "Python 3",
   "language": "python",
   "name": "python3"
  },
  "language_info": {
   "codemirror_mode": {
    "name": "ipython",
    "version": 3
   },
   "file_extension": ".py",
   "mimetype": "text/x-python",
   "name": "python",
   "nbconvert_exporter": "python",
   "pygments_lexer": "ipython3",
   "version": "3.6.8"
  }
 },
 "nbformat": 4,
 "nbformat_minor": 2
}
