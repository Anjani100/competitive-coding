{
 "cells": [
  {
   "cell_type": "code",
   "execution_count": 9,
   "metadata": {},
   "outputs": [
    {
     "name": "stdout",
     "output_type": "stream",
     "text": [
      "True\n"
     ]
    }
   ],
   "source": [
    "def checkStraightLine(coordinates):\n",
    "    m = (coordinates[1][1] - coordinates[0][1]) // (coordinates[1][0] - coordinates[0][0])\n",
    "    c = coordinates[0][1] - (m * coordinates[0][0])\n",
    "    for i in range(2, len(coordinates)):\n",
    "        if coordinates[i][1] != (m * coordinates[i][0] + c):\n",
    "            return False\n",
    "    return True\n",
    "\n",
    "print(checkStraightLine([[1,2],[2,3],[3,4],[4,5],[5,6],[6,7]]))"
   ]
  },
  {
   "cell_type": "code",
   "execution_count": null,
   "metadata": {},
   "outputs": [],
   "source": []
  }
 ],
 "metadata": {
  "kernelspec": {
   "display_name": "Python 3",
   "language": "python",
   "name": "python3"
  },
  "language_info": {
   "codemirror_mode": {
    "name": "ipython",
    "version": 3
   },
   "file_extension": ".py",
   "mimetype": "text/x-python",
   "name": "python",
   "nbconvert_exporter": "python",
   "pygments_lexer": "ipython3",
   "version": "3.6.8"
  }
 },
 "nbformat": 4,
 "nbformat_minor": 2
}
