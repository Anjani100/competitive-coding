{
 "cells": [
  {
   "cell_type": "code",
   "execution_count": 27,
   "metadata": {},
   "outputs": [
    {
     "name": "stdout",
     "output_type": "stream",
     "text": [
      "False\n"
     ]
    }
   ],
   "source": [
    "def canFormArray(arr, pieces):\n",
    "    i = 0\n",
    "    while i < len(arr):\n",
    "        flag = True\n",
    "        for j in range(len(pieces)):\n",
    "            if arr[i] == pieces[j][0]:\n",
    "                flag = False\n",
    "                for k in range(len(pieces[j])):\n",
    "                    if pieces[j][k] != arr[i]:\n",
    "                        return False\n",
    "                    i += 1\n",
    "                break\n",
    "        if flag:\n",
    "            return False\n",
    "    return True\n",
    "\n",
    "print(canFormArray([1,3,5,7], [[2,4,6,8]]))"
   ]
  },
  {
   "cell_type": "code",
   "execution_count": 10,
   "metadata": {},
   "outputs": [
    {
     "name": "stdout",
     "output_type": "stream",
     "text": [
      "[[88], [15]]\n"
     ]
    }
   ],
   "source": [
    "a = [[88],[15]]\n",
    "if 15 in a[1]:\n",
    "    print(a)"
   ]
  },
  {
   "cell_type": "code",
   "execution_count": null,
   "metadata": {},
   "outputs": [],
   "source": []
  }
 ],
 "metadata": {
  "kernelspec": {
   "display_name": "Python 3",
   "language": "python",
   "name": "python3"
  },
  "language_info": {
   "codemirror_mode": {
    "name": "ipython",
    "version": 3
   },
   "file_extension": ".py",
   "mimetype": "text/x-python",
   "name": "python",
   "nbconvert_exporter": "python",
   "pygments_lexer": "ipython3",
   "version": "3.6.8"
  }
 },
 "nbformat": 4,
 "nbformat_minor": 2
}
