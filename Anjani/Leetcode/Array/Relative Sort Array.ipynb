{
 "cells": [
  {
   "cell_type": "code",
   "execution_count": 8,
   "metadata": {},
   "outputs": [
    {
     "name": "stdout",
     "output_type": "stream",
     "text": [
      "[22, 28, 8, 6, 17, 44]\n"
     ]
    }
   ],
   "source": [
    "def relativeSortArray(arr1, arr2):\n",
    "    j = 0\n",
    "    arr1.sort()\n",
    "    for i in range(len(arr2)):\n",
    "        n = arr1.count(arr2[i])\n",
    "        while arr2[i] in arr1:\n",
    "            arr1.remove(arr2[i])\n",
    "        \n",
    "        for _ in range(n):\n",
    "            arr1.insert(j, arr2[i])\n",
    "            j += 1\n",
    "    return arr1\n",
    "\n",
    "print(relativeSortArray([28,6,22,8,44,17], [22,28,8,6]))"
   ]
  },
  {
   "cell_type": "code",
   "execution_count": null,
   "metadata": {},
   "outputs": [],
   "source": []
  }
 ],
 "metadata": {
  "kernelspec": {
   "display_name": "Python 3",
   "language": "python",
   "name": "python3"
  },
  "language_info": {
   "codemirror_mode": {
    "name": "ipython",
    "version": 3
   },
   "file_extension": ".py",
   "mimetype": "text/x-python",
   "name": "python",
   "nbconvert_exporter": "python",
   "pygments_lexer": "ipython3",
   "version": "3.6.8"
  }
 },
 "nbformat": 4,
 "nbformat_minor": 2
}
