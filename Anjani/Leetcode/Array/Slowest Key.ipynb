{
 "cells": [
  {
   "cell_type": "code",
   "execution_count": 6,
   "metadata": {},
   "outputs": [
    {
     "name": "stdout",
     "output_type": "stream",
     "text": [
      "a\n"
     ]
    }
   ],
   "source": [
    "def slowestKey(releaseTimes, keysPressed):\n",
    "    a = [keysPressed[0]]\n",
    "    max_duration = releaseTimes[0]\n",
    "    for i in range(1, len(releaseTimes)):\n",
    "        duration = releaseTimes[i] - releaseTimes[i - 1]\n",
    "        if duration > max_duration:\n",
    "            max_duration = duration\n",
    "            a = [keysPressed[i]]\n",
    "        elif duration == max_duration:\n",
    "            a.append(keysPressed[i])\n",
    "    return max(a)\n",
    "\n",
    "print(slowestKey([12,23,36,46,62], 'spuda'))"
   ]
  },
  {
   "cell_type": "code",
   "execution_count": null,
   "metadata": {},
   "outputs": [],
   "source": []
  }
 ],
 "metadata": {
  "kernelspec": {
   "display_name": "Python 3",
   "language": "python",
   "name": "python3"
  },
  "language_info": {
   "codemirror_mode": {
    "name": "ipython",
    "version": 3
   },
   "file_extension": ".py",
   "mimetype": "text/x-python",
   "name": "python",
   "nbconvert_exporter": "python",
   "pygments_lexer": "ipython3",
   "version": "3.6.8"
  }
 },
 "nbformat": 4,
 "nbformat_minor": 2
}
