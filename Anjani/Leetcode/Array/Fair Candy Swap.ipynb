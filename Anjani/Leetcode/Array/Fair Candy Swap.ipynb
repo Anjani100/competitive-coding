{
 "cells": [
  {
   "cell_type": "code",
   "execution_count": 2,
   "metadata": {},
   "outputs": [
    {
     "name": "stdout",
     "output_type": "stream",
     "text": [
      "(1, 2)\n"
     ]
    }
   ],
   "source": [
    "# Brute-force approach (Time: O(n^2); Space: O(1))\n",
    "def fairCandySwap(A, B):\n",
    "    for i in range(len(A)):\n",
    "        for j in range(len(B)):\n",
    "            A[i], B[j] = B[j], A[i]\n",
    "            if sum(A) == sum(B):\n",
    "                return B[j], A[i]\n",
    "            A[i], B[j] = B[j], A[i]\n",
    "\n",
    "print(fairCandySwap([1,1], [2,2]))"
   ]
  },
  {
   "cell_type": "code",
   "execution_count": 7,
   "metadata": {},
   "outputs": [
    {
     "name": "stdout",
     "output_type": "stream",
     "text": [
      "(1, 2)\n"
     ]
    }
   ],
   "source": [
    "# Optimized approach (Time: O(n^2); Space: O(n))\n",
    "def fairCandySwap(A, B):\n",
    "    sum_A = sum(A)\n",
    "    sum_B = sum(B)\n",
    "    set_B = set(B)\n",
    "    for x in A:\n",
    "        if (x + (sum_B - sum_A) // 2) in set_B:\n",
    "            return x, x + (sum_B - sum_A) // 2\n",
    "\n",
    "print(fairCandySwap([1,1], [2,2]))"
   ]
  },
  {
   "cell_type": "code",
   "execution_count": null,
   "metadata": {},
   "outputs": [],
   "source": []
  }
 ],
 "metadata": {
  "kernelspec": {
   "display_name": "Python 3",
   "language": "python",
   "name": "python3"
  },
  "language_info": {
   "codemirror_mode": {
    "name": "ipython",
    "version": 3
   },
   "file_extension": ".py",
   "mimetype": "text/x-python",
   "name": "python",
   "nbconvert_exporter": "python",
   "pygments_lexer": "ipython3",
   "version": "3.6.8"
  }
 },
 "nbformat": 4,
 "nbformat_minor": 2
}
