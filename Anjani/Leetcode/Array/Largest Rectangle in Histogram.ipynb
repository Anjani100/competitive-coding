{
 "cells": [
  {
   "cell_type": "code",
   "execution_count": 3,
   "metadata": {},
   "outputs": [
    {
     "name": "stdout",
     "output_type": "stream",
     "text": [
      "2147483647\n"
     ]
    }
   ],
   "source": [
    "# Brute-force approach (Time: O(n^2); Space: O(1))\n",
    "def largestRectangleArea(heights):\n",
    "    max_area = 0\n",
    "    for i in range(len(heights)):\n",
    "        least = pow(2, 31)\n",
    "        for j in range(i, len(heights)):\n",
    "            least = min(least, heights[j])\n",
    "            area = (j - i + 1) * least\n",
    "            max_area = max(max_area, area)\n",
    "    return max_area\n",
    "print(largestRectangleArea([0, 0, 0, 0, 0, 0, 0, 0, 2147483647]))"
   ]
  },
  {
   "cell_type": "code",
   "execution_count": 18,
   "metadata": {},
   "outputs": [
    {
     "name": "stdout",
     "output_type": "stream",
     "text": [
      "10\n"
     ]
    }
   ],
   "source": [
    "def largestRectangleArea(heights):\n",
    "    stack = list()\n",
    "    max_area = 0\n",
    "    i = 0\n",
    "    while i < len(heights):\n",
    "        if len(stack) == 0 or heights[i] >= heights[stack[-1]]:\n",
    "            stack.append(i)\n",
    "            i += 1\n",
    "        else:\n",
    "            top = stack.pop()\n",
    "            area = heights[top] * ((i - stack[-1] - 1) if stack else i)\n",
    "            max_area = max(max_area, area)\n",
    "    \n",
    "    while stack:\n",
    "        top = stack.pop()\n",
    "        area = heights[top] * ((i - stack[-1] - 1) if stack else i)\n",
    "        max_area = max(max_area, area)\n",
    "    \n",
    "    return max_area\n",
    "print(largestRectangleArea([2, 1, 5, 6, 2, 3]))"
   ]
  },
  {
   "cell_type": "code",
   "execution_count": null,
   "metadata": {},
   "outputs": [],
   "source": []
  }
 ],
 "metadata": {
  "kernelspec": {
   "display_name": "Python 3",
   "language": "python",
   "name": "python3"
  },
  "language_info": {
   "codemirror_mode": {
    "name": "ipython",
    "version": 3
   },
   "file_extension": ".py",
   "mimetype": "text/x-python",
   "name": "python",
   "nbconvert_exporter": "python",
   "pygments_lexer": "ipython3",
   "version": "3.6.8"
  }
 },
 "nbformat": 4,
 "nbformat_minor": 2
}
