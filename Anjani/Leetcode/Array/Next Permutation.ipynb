{
 "cells": [
  {
   "cell_type": "code",
   "execution_count": 66,
   "metadata": {},
   "outputs": [
    {
     "name": "stdout",
     "output_type": "stream",
     "text": [
      "[2, 7, 1]\n"
     ]
    }
   ],
   "source": [
    "# Brute-force approach (Time: O(n!); Space: O(n))\n",
    "def nextPermutation(nums):\n",
    "    \"\"\"\n",
    "    Do not return anything, modify nums in-place instead.\n",
    "    \"\"\"\n",
    "    arr = []\n",
    "    def permute(a, l, r):\n",
    "        if l == r:\n",
    "            if ''.join(a) not in arr:\n",
    "                arr.append(''.join(a))\n",
    "        else:\n",
    "            for i in range(l, r + 1):\n",
    "                a[i], a[l] = a[l], a[i]\n",
    "                permute(a, l + 1, r)\n",
    "                a[i], a[l] = a[l], a[i]\n",
    "    \n",
    "    for i in range(len(nums)):\n",
    "        nums[i] = str(nums[i])\n",
    "    l = 0\n",
    "    r = len(nums) - 1\n",
    "    permute(nums, l, r)\n",
    "    num = int(arr[0])\n",
    "    arr.sort()\n",
    "    i = arr.index(str(num))\n",
    "    if i == len(arr) - 1:\n",
    "        nums.sort()\n",
    "        for i in range(len(nums)):\n",
    "            nums[i] = int(nums[i])\n",
    "    else:\n",
    "        nums1 = str(arr[i + 1])\n",
    "        for i in range(len(nums)):\n",
    "            nums[i] = int(nums1[i])\n",
    "nums = [2,1,7]\n",
    "nextPermutation(nums)\n",
    "print(nums)"
   ]
  },
  {
   "cell_type": "code",
   "execution_count": 108,
   "metadata": {},
   "outputs": [
    {
     "name": "stdout",
     "output_type": "stream",
     "text": [
      "2 3 1\n",
      "2 3 1\n",
      "[2, 3, 3, 1, 3]\n"
     ]
    }
   ],
   "source": [
    "# Optimized Approach (Time: O(n^2): One-Pass; Space: O(1))\n",
    "def nextPermutation(nums):\n",
    "    \"\"\"\n",
    "    Do not return anything, modify nums in-place instead.\n",
    "    \"\"\"\n",
    "    flag = 0\n",
    "    for i in range(len(nums) - 1, 0, -1):\n",
    "        if nums[i] > nums[i - 1]:\n",
    "            flag = 1\n",
    "            diff, index = 99999, 0\n",
    "            for j in range(i, len(nums)):\n",
    "                if nums[j] - nums[i - 1] <= diff and nums[j] - nums[i - 1] > 0:\n",
    "                    diff = nums[j] - nums[i - 1]\n",
    "                    index = j\n",
    "            nums[i - 1], nums[index] = nums[index], nums[i - 1]\n",
    "            k = len(nums) - 1\n",
    "            for j in range(i, i + int((len(nums) - i)/2)):\n",
    "                nums[j], nums[k] = nums[k], nums[j]\n",
    "                k -= 1\n",
    "            break\n",
    "    if flag == 0:\n",
    "        nums.reverse()\n",
    "\n",
    "nums = [2,3,1,3,3]\n",
    "nextPermutation(nums)\n",
    "print(nums)"
   ]
  },
  {
   "cell_type": "code",
   "execution_count": 84,
   "metadata": {},
   "outputs": [
    {
     "name": "stdout",
     "output_type": "stream",
     "text": [
      "3\n",
      "4\n",
      "5\n",
      "[1, 2, 3, 9, 7, 5, 3, 6, 4]\n"
     ]
    }
   ],
   "source": [
    "class Solution:\n",
    "    def nextPermutation(self, nums: List[int]) -> None:\n",
    "        \"\"\"\n",
    "        Do not return anything, modify nums in-place instead.\n",
    "        \"\"\"\n",
    "        flag = 0\n",
    "        for i in range(len(nums) - 1, 0, -1):\n",
    "            if nums[i] > nums[i - 1]:\n",
    "                flag = 1\n",
    "                diff, index = 99999, 0\n",
    "                for j in range(i, len(nums)):\n",
    "                    if nums[j] - nums[i - 1] <= diff and nums[j] - nums[i - 1] > 0:\n",
    "                        diff = nums[j] - nums[i - 1]\n",
    "                        index = j\n",
    "                nums[i - 1], nums[index] = nums[index], nums[i - 1]\n",
    "                k = len(nums) - 1\n",
    "                for j in range(i, i + int((len(nums) - i)/2)):\n",
    "                    nums[j], nums[k] = nums[k], nums[j]\n",
    "                    k -= 1\n",
    "                break\n",
    "        if flag == 0:\n",
    "            nums.reverse()"
   ]
  },
  {
   "cell_type": "code",
   "execution_count": null,
   "metadata": {},
   "outputs": [],
   "source": []
  }
 ],
 "metadata": {
  "kernelspec": {
   "display_name": "Python 3",
   "language": "python",
   "name": "python3"
  },
  "language_info": {
   "codemirror_mode": {
    "name": "ipython",
    "version": 3
   },
   "file_extension": ".py",
   "mimetype": "text/x-python",
   "name": "python",
   "nbconvert_exporter": "python",
   "pygments_lexer": "ipython3",
   "version": "3.6.8"
  }
 },
 "nbformat": 4,
 "nbformat_minor": 2
}
