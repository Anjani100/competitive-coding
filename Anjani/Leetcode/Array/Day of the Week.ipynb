{
 "cells": [
  {
   "cell_type": "code",
   "execution_count": 7,
   "metadata": {},
   "outputs": [
    {
     "name": "stdout",
     "output_type": "stream",
     "text": [
      "Friday\n"
     ]
    }
   ],
   "source": [
    "def dayOfTheWeek(day, month, year):\n",
    "    # day to numerics\n",
    "    num_to_day = {0: 'Sunday', 1: 'Monday', 2: 'Tuesday', 3: 'Wednesday', 4: 'Thursday', 5: 'Friday', 6: 'Saturday'}\n",
    "    # array with leading number of days values\n",
    "    t = [0, 3, 2, 5, 0, 3, 5, 1, 4, 6, 2, 4]\n",
    "    \n",
    "    if month < 3:\n",
    "        year -= 1\n",
    "    return num_to_day[(year + year // 4 - year // 100 + year // 400 + t[month - 1] + day) % 7]\n",
    "\n",
    "print(dayOfTheWeek(30, 10, 2020))"
   ]
  },
  {
   "cell_type": "code",
   "execution_count": null,
   "metadata": {},
   "outputs": [],
   "source": []
  }
 ],
 "metadata": {
  "kernelspec": {
   "display_name": "Python 3",
   "language": "python",
   "name": "python3"
  },
  "language_info": {
   "codemirror_mode": {
    "name": "ipython",
    "version": 3
   },
   "file_extension": ".py",
   "mimetype": "text/x-python",
   "name": "python",
   "nbconvert_exporter": "python",
   "pygments_lexer": "ipython3",
   "version": "3.6.8"
  }
 },
 "nbformat": 4,
 "nbformat_minor": 2
}
