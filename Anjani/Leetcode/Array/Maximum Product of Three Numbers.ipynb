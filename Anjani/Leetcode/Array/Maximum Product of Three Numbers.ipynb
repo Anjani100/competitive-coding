{
 "cells": [
  {
   "cell_type": "code",
   "execution_count": 3,
   "metadata": {},
   "outputs": [
    {
     "name": "stdout",
     "output_type": "stream",
     "text": [
      "24\n"
     ]
    }
   ],
   "source": [
    "# Brute-force approach (Time: O(nlogn); Space: O(1))\n",
    "def maximumProduct(nums):\n",
    "    nums.sort()\n",
    "    a = nums[-1] * nums[-2] * nums[-3]\n",
    "    b = nums[0] * nums[1] * nums[-1]\n",
    "    return max(a, b)\n",
    "\n",
    "print(maximumProduct([1, 2, 3, 4]))"
   ]
  },
  {
   "cell_type": "code",
   "execution_count": 6,
   "metadata": {},
   "outputs": [
    {
     "name": "stdout",
     "output_type": "stream",
     "text": [
      "24\n"
     ]
    }
   ],
   "source": [
    "# Optimized approach (Time: O(n); Space: O(1))\n",
    "def maximumProduct(nums):\n",
    "    b = -pow(2, 31)\n",
    "    x = max(nums)\n",
    "    nums.remove(x)\n",
    "    y = max(nums)\n",
    "    nums.remove(y)\n",
    "    z = max(nums)\n",
    "    if len(nums) > 1:\n",
    "        p = min(nums)\n",
    "        nums.remove(p)\n",
    "        q = min(nums)\n",
    "        b = p * q * x\n",
    "    a = x * y * z\n",
    "    return max(a, b)\n",
    "\n",
    "print(maximumProduct([1, 2, 3, 4]))"
   ]
  },
  {
   "cell_type": "code",
   "execution_count": null,
   "metadata": {},
   "outputs": [],
   "source": []
  }
 ],
 "metadata": {
  "kernelspec": {
   "display_name": "Python 3",
   "language": "python",
   "name": "python3"
  },
  "language_info": {
   "codemirror_mode": {
    "name": "ipython",
    "version": 3
   },
   "file_extension": ".py",
   "mimetype": "text/x-python",
   "name": "python",
   "nbconvert_exporter": "python",
   "pygments_lexer": "ipython3",
   "version": "3.6.8"
  }
 },
 "nbformat": 4,
 "nbformat_minor": 2
}
