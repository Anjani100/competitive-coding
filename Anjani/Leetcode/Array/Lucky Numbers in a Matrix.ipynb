{
 "cells": [
  {
   "cell_type": "code",
   "execution_count": 5,
   "metadata": {},
   "outputs": [
    {
     "name": "stdout",
     "output_type": "stream",
     "text": [
      "[8]\n"
     ]
    }
   ],
   "source": [
    "def luckyNumbers(matrix):\n",
    "    n = len(matrix[0])\n",
    "    res = []\n",
    "    for i in range(len(matrix)):\n",
    "        val = min(matrix[i])\n",
    "        index = matrix[i].index(val)\n",
    "        for j in range(len(matrix)):\n",
    "            if matrix[j][index] > val:\n",
    "                break\n",
    "        else:\n",
    "            res.append(val)\n",
    "    return res\n",
    "\n",
    "print(luckyNumbers([[7],[8]]))"
   ]
  },
  {
   "cell_type": "code",
   "execution_count": null,
   "metadata": {},
   "outputs": [],
   "source": []
  }
 ],
 "metadata": {
  "kernelspec": {
   "display_name": "Python 3",
   "language": "python",
   "name": "python3"
  },
  "language_info": {
   "codemirror_mode": {
    "name": "ipython",
    "version": 3
   },
   "file_extension": ".py",
   "mimetype": "text/x-python",
   "name": "python",
   "nbconvert_exporter": "python",
   "pygments_lexer": "ipython3",
   "version": "3.6.8"
  }
 },
 "nbformat": 4,
 "nbformat_minor": 2
}
