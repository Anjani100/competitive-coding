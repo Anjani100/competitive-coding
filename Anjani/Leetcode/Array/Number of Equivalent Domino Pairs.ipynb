{
 "cells": [
  {
   "cell_type": "code",
   "execution_count": 24,
   "metadata": {},
   "outputs": [
    {
     "name": "stdout",
     "output_type": "stream",
     "text": [
      "1\n"
     ]
    }
   ],
   "source": [
    "def numEquivDominoPairs(dominoes):\n",
    "    count = 0\n",
    "    for i in range(len(dominoes)):\n",
    "        s = dominoes[i:].count(dominoes[i]) - 1\n",
    "        p = dominoes[i:].count([dominoes[i][1], dominoes[i][0]])\n",
    "        if s > 0 or p > 0:\n",
    "            count += s + p\n",
    "    return count\n",
    "\n",
    "print(numEquivDominoPairs([[1,2],[2,1],[3,4],[5,6]]))"
   ]
  },
  {
   "cell_type": "code",
   "execution_count": 50,
   "metadata": {},
   "outputs": [
    {
     "name": "stdout",
     "output_type": "stream",
     "text": [
      "7\n"
     ]
    }
   ],
   "source": [
    "def numEquivDominoPairs(dominoes):\n",
    "    count = 0\n",
    "    dom_dict = {}\n",
    "    for i in range(len(dominoes)):\n",
    "        if (dominoes[i][0], dominoes[i][1]) in dom_dict:\n",
    "            count += dom_dict[(dominoes[i][0], dominoes[i][1])] - 1\n",
    "            dom_dict[(dominoes[i][0], dominoes[i][1])] -= 1\n",
    "        elif (dominoes[i][1], dominoes[i][0]) in dom_dict:\n",
    "            count += dom_dict[(dominoes[i][1], dominoes[i][0])] - 1\n",
    "            dom_dict[(dominoes[i][1], dominoes[i][0])] -= 1\n",
    "        else:\n",
    "            s = dominoes.count(dominoes[i]) - 1\n",
    "            if dominoes[i][0] == dominoes[i][1]:\n",
    "                p = 0\n",
    "            else:\n",
    "                p = dominoes.count([dominoes[i][1], dominoes[i][0]])\n",
    "            dom_dict[(dominoes[i][0], dominoes[i][1])] = s + p\n",
    "            count += s + p\n",
    "    return count\n",
    "\n",
    "print(numEquivDominoPairs([[1,2],[2,1],[3,4],[5,6],[4,3],[3,4],[4,4],[4,4],[4,4]]))"
   ]
  },
  {
   "cell_type": "code",
   "execution_count": 49,
   "metadata": {},
   "outputs": [
    {
     "name": "stdout",
     "output_type": "stream",
     "text": [
      "7\n"
     ]
    }
   ],
   "source": [
    "from collections import defaultdict\n",
    "def numEquivDominoPairs(dominoes):\n",
    "    dict2 = defaultdict(int)\n",
    "    count = 0\n",
    "    for i in dominoes :\n",
    "        z = tuple(sorted(i))\n",
    "\n",
    "        if z in dict2:\n",
    "            count += dict2[z]\n",
    "\n",
    "        dict2[z] +=1\n",
    "    return count\n",
    "\n",
    "print(numEquivDominoPairs([[1,2],[2,1],[3,4],[5,6],[4,3],[3,4],[4,4],[4,4],[4,4]]))"
   ]
  },
  {
   "cell_type": "code",
   "execution_count": null,
   "metadata": {},
   "outputs": [],
   "source": []
  }
 ],
 "metadata": {
  "kernelspec": {
   "display_name": "Python 3",
   "language": "python",
   "name": "python3"
  },
  "language_info": {
   "codemirror_mode": {
    "name": "ipython",
    "version": 3
   },
   "file_extension": ".py",
   "mimetype": "text/x-python",
   "name": "python",
   "nbconvert_exporter": "python",
   "pygments_lexer": "ipython3",
   "version": "3.6.8"
  }
 },
 "nbformat": 4,
 "nbformat_minor": 2
}
