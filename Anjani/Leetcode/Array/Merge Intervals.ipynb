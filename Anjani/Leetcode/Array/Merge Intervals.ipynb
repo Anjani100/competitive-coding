{
 "cells": [
  {
   "cell_type": "code",
   "execution_count": 12,
   "metadata": {},
   "outputs": [
    {
     "name": "stdout",
     "output_type": "stream",
     "text": [
      "[[1, 4], [2, 3]]\n",
      "[[1, 4]]\n"
     ]
    }
   ],
   "source": [
    "def merge(intervals):\n",
    "    intervals.sort()\n",
    "    print(intervals)\n",
    "    i = 0\n",
    "    while i < len(intervals) - 1:\n",
    "        if intervals[i][1] >= intervals[i + 1][0]:\n",
    "            intervals[i] = [intervals[i][0], max(intervals[i + 1][1], intervals[i][1])]\n",
    "            intervals.pop(i + 1)\n",
    "            i -= 1\n",
    "        i += 1\n",
    "    return intervals\n",
    "\n",
    "print(merge([[1,4],[2,3]]))"
   ]
  },
  {
   "cell_type": "code",
   "execution_count": null,
   "metadata": {},
   "outputs": [],
   "source": []
  }
 ],
 "metadata": {
  "kernelspec": {
   "display_name": "Python 3",
   "language": "python",
   "name": "python3"
  },
  "language_info": {
   "codemirror_mode": {
    "name": "ipython",
    "version": 3
   },
   "file_extension": ".py",
   "mimetype": "text/x-python",
   "name": "python",
   "nbconvert_exporter": "python",
   "pygments_lexer": "ipython3",
   "version": "3.6.8"
  }
 },
 "nbformat": 4,
 "nbformat_minor": 2
}
