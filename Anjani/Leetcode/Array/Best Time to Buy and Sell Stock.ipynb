{
 "cells": [
  {
   "cell_type": "code",
   "execution_count": 20,
   "metadata": {},
   "outputs": [
    {
     "name": "stdout",
     "output_type": "stream",
     "text": [
      "5\n"
     ]
    }
   ],
   "source": [
    "# Brute-force approach (Time: O(n^2); Space: O(1))\n",
    "def maxProfit(prices):\n",
    "    max_profit = 0\n",
    "    for i in range(len(prices)):\n",
    "        for j in range(i + 1, len(prices)):\n",
    "            profit = prices[j] - prices[i]\n",
    "            max_profit = max(max_profit, profit)\n",
    "    return max_profit\n",
    "\n",
    "print(maxProfit([7, 1, 5, 3, 6, 4]))"
   ]
  },
  {
   "cell_type": "code",
   "execution_count": 2,
   "metadata": {},
   "outputs": [
    {
     "name": "stdout",
     "output_type": "stream",
     "text": [
      "0\n"
     ]
    }
   ],
   "source": [
    "# Optimized Approach (Time: O(n); Space: O(1))\n",
    "def maxProfit(prices):\n",
    "    max_profit = 0\n",
    "    for i in range(len(prices) - 1, 0, -1):\n",
    "        sell = prices[i]\n",
    "        buy = min(prices[:i])\n",
    "        profit = sell - buy\n",
    "        max_profit = max(max_profit, profit)\n",
    "    return max_profit\n",
    "\n",
    "print(maxProfit([7, 5, 4, 3, 1]))"
   ]
  },
  {
   "cell_type": "code",
   "execution_count": 1,
   "metadata": {},
   "outputs": [
    {
     "name": "stdout",
     "output_type": "stream",
     "text": [
      "5\n"
     ]
    }
   ],
   "source": [
    "# Optimized Approach (Time: O(n); Space: O(1))\n",
    "def maxProfit(prices):\n",
    "    profit = 0\n",
    "    min_prices = pow(2, 31)\n",
    "    for i in range(len(prices)):\n",
    "        if prices[i] < min_prices:\n",
    "            min_prices = prices[i]\n",
    "        elif profit < prices[i] - min_prices:\n",
    "            profit = prices[i] - min_prices\n",
    "    return profit\n",
    "\n",
    "print(maxProfit([7, 1, 5, 3, 6, 4]))"
   ]
  },
  {
   "cell_type": "markdown",
   "metadata": {},
   "source": [
    "#### Global Coding Challenge"
   ]
  },
  {
   "cell_type": "code",
   "execution_count": 25,
   "metadata": {},
   "outputs": [
    {
     "name": "stdout",
     "output_type": "stream",
     "text": [
      "4 5,-1\n"
     ]
    }
   ],
   "source": [
    "def find_min_days(prices, profit):\n",
    "    # Participants code will be here\n",
    "    res = [pow(2, 31)] * len(profit)\n",
    "    end = [pow(2, 31)] * len(profit)\n",
    "    days = [\"\"] * len(profit)\n",
    "    for k in range(len(profit)):\n",
    "        for i in range(len(prices)):\n",
    "            for j in range(i + 1, len(prices)):\n",
    "                if prices[j] - prices[i] == profit[k]:\n",
    "                    if j < end[k]:\n",
    "                        end[k] = j\n",
    "                        res[k] = j - i\n",
    "                        days[k] = str(i + 1) + \" \" + str(j + 1)\n",
    "                    elif j == end[k] and j - i < res[k]:\n",
    "                        res[k] = j - i\n",
    "                        days[k] = str(i + 1) + \" \" + str(j + 1)\n",
    "    day = \"\"\n",
    "    for i in range(len(days)):\n",
    "        if days[i] == '':\n",
    "            days[i] = \"-1\"\n",
    "        day += days[i] + \",\"\n",
    "    return day[:-1]\n",
    "\n",
    "print(find_min_days([3, 1, 2, 1, 4, 5], [3, 9]))"
   ]
  },
  {
   "cell_type": "code",
   "execution_count": null,
   "metadata": {},
   "outputs": [],
   "source": []
  }
 ],
 "metadata": {
  "kernelspec": {
   "display_name": "Python 3",
   "language": "python",
   "name": "python3"
  },
  "language_info": {
   "codemirror_mode": {
    "name": "ipython",
    "version": 3
   },
   "file_extension": ".py",
   "mimetype": "text/x-python",
   "name": "python",
   "nbconvert_exporter": "python",
   "pygments_lexer": "ipython3",
   "version": "3.6.8"
  }
 },
 "nbformat": 4,
 "nbformat_minor": 2
}
