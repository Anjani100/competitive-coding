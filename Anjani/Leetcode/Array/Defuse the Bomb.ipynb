{
 "cells": [
  {
   "cell_type": "code",
   "execution_count": 19,
   "metadata": {},
   "outputs": [
    {
     "name": "stdout",
     "output_type": "stream",
     "text": [
      "[12, 5, 6, 13]\n"
     ]
    }
   ],
   "source": [
    "def decrypt(code, k):\n",
    "    if k == 0:\n",
    "        return [0] * len(code)\n",
    "    a = []\n",
    "    if k > 0:\n",
    "        for i in range(len(code)):\n",
    "            l = i + 1\n",
    "            s = 0\n",
    "            for _ in range(1, k + 1):\n",
    "                if l == len(code):\n",
    "                    l = 0\n",
    "                s += code[l]\n",
    "                l += 1\n",
    "            a.append(s)\n",
    "    else:\n",
    "        for i in range(len(code)):\n",
    "            l = i - 1\n",
    "            s = 0\n",
    "            for _ in range(1, 1 - k):\n",
    "                if l == len(code):\n",
    "                    l = 0\n",
    "                s += code[l]\n",
    "                l -= 1\n",
    "            a.append(s)\n",
    "    return a\n",
    "\n",
    "print(decrypt([2,4,9,3], -2))"
   ]
  },
  {
   "cell_type": "code",
   "execution_count": 23,
   "metadata": {},
   "outputs": [
    {
     "name": "stdout",
     "output_type": "stream",
     "text": [
      "[12, 5, 6, 13]\n"
     ]
    }
   ],
   "source": [
    "def decrypt(code, k):\n",
    "    if k == 0:\n",
    "        return [0] * len(code)\n",
    "    a = []\n",
    "    n = len(code)\n",
    "    reverse = False\n",
    "    if k < 0:\n",
    "        reverse = True\n",
    "        k = -k\n",
    "        code.reverse()\n",
    "    code_sum = sum(code[:k])\n",
    "    for i in range(n):\n",
    "        code_sum += code[(i + k) % n] - code[i]\n",
    "        a.append(code_sum)\n",
    "    if reverse:\n",
    "        a.reverse()\n",
    "    return a\n",
    "\n",
    "print(decrypt([2,4,9,3], -2))"
   ]
  },
  {
   "cell_type": "code",
   "execution_count": null,
   "metadata": {},
   "outputs": [],
   "source": [
    "[5,7,1,4], 3\n",
    "[1,2,3,4], 0\n",
    "[2,4,9,3], -2"
   ]
  }
 ],
 "metadata": {
  "kernelspec": {
   "display_name": "Python 3",
   "language": "python",
   "name": "python3"
  },
  "language_info": {
   "codemirror_mode": {
    "name": "ipython",
    "version": 3
   },
   "file_extension": ".py",
   "mimetype": "text/x-python",
   "name": "python",
   "nbconvert_exporter": "python",
   "pygments_lexer": "ipython3",
   "version": "3.6.8"
  }
 },
 "nbformat": 4,
 "nbformat_minor": 2
}
