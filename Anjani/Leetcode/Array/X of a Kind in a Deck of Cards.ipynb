{
 "cells": [
  {
   "cell_type": "code",
   "execution_count": 7,
   "metadata": {},
   "outputs": [
    {
     "name": "stdout",
     "output_type": "stream",
     "text": [
      "dict_values([2, 2, 2, 2])\n",
      "True\n"
     ]
    },
    {
     "name": "stderr",
     "output_type": "stream",
     "text": [
      "c:\\users\\anjani\\appdata\\local\\programs\\python\\python36\\lib\\site-packages\\ipykernel_launcher.py:7: DeprecationWarning: fractions.gcd() is deprecated. Use math.gcd() instead.\n",
      "  import sys\n"
     ]
    }
   ],
   "source": [
    "# Using Python's Library (Time: O(nlog^2(n)); Space: O(n))\n",
    "import collections\n",
    "from functools import reduce\n",
    "from fractions import gcd\n",
    "def hasGroupsSizeX(deck):\n",
    "    vals = collections.Counter(deck).values()\n",
    "    return reduce(gcd, vals) >= 2\n",
    "\n",
    "print(hasGroupsSizeX([1,2,3,4,4,3,2,1]))"
   ]
  },
  {
   "cell_type": "code",
   "execution_count": 20,
   "metadata": {},
   "outputs": [
    {
     "name": "stdout",
     "output_type": "stream",
     "text": [
      "True\n"
     ]
    }
   ],
   "source": [
    "# Optimized Approach (Time: O(nlog^2(n)); Space: O(n))\n",
    "def hasGroupsSizeX(deck):\n",
    "    def gcd(a, b):\n",
    "        if b == 0:\n",
    "            return a\n",
    "        else:\n",
    "            return gcd(b, a % b)\n",
    "    s = set(deck)\n",
    "    a = []\n",
    "    for i in s:\n",
    "        a.append(deck.count(i))\n",
    "    res = a[0]\n",
    "    for i in range(1, len(s)):\n",
    "        res = gcd(res, a[i])\n",
    "    return res >= 2\n",
    "\n",
    "print(hasGroupsSizeX([1,2,3,4,4,3,2,1]))"
   ]
  },
  {
   "cell_type": "code",
   "execution_count": null,
   "metadata": {},
   "outputs": [],
   "source": []
  }
 ],
 "metadata": {
  "kernelspec": {
   "display_name": "Python 3",
   "language": "python",
   "name": "python3"
  },
  "language_info": {
   "codemirror_mode": {
    "name": "ipython",
    "version": 3
   },
   "file_extension": ".py",
   "mimetype": "text/x-python",
   "name": "python",
   "nbconvert_exporter": "python",
   "pygments_lexer": "ipython3",
   "version": "3.6.8"
  }
 },
 "nbformat": 4,
 "nbformat_minor": 2
}
