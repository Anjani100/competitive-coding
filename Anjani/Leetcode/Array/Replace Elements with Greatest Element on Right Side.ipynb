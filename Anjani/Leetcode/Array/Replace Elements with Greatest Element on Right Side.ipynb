{
 "cells": [
  {
   "cell_type": "code",
   "execution_count": 4,
   "metadata": {},
   "outputs": [
    {
     "name": "stdout",
     "output_type": "stream",
     "text": [
      "[18, 6, 6, 6, 1, -1]\n"
     ]
    }
   ],
   "source": [
    "# Brute-force approach (Time: O(n^2); Space: O(1))\n",
    "def replaceElements(arr):\n",
    "    for i in range(len(arr) - 1):\n",
    "        arr[i] = max(arr[i + 1:])\n",
    "    arr[-1] = -1\n",
    "    return arr\n",
    "\n",
    "print(replaceElements([17,18,5,4,6,1]))"
   ]
  },
  {
   "cell_type": "code",
   "execution_count": 21,
   "metadata": {},
   "outputs": [
    {
     "name": "stdout",
     "output_type": "stream",
     "text": [
      "[60499, 60499, 57517, 26961, -1]\n"
     ]
    }
   ],
   "source": [
    "# Optimized approach (Time: O(n); Space: O(n))\n",
    "def replaceElements(arr):\n",
    "    res = [-1 for _ in arr]\n",
    "    max_num = -1\n",
    "    for i in range(len(arr) - 1, 0, -1):\n",
    "        res[i] = max_num\n",
    "        max_num = max(max_num, arr[i])\n",
    "    res[0] = max_num\n",
    "    return res\n",
    "\n",
    "print(replaceElements([56903,18666,60499,57517,26961]))"
   ]
  },
  {
   "cell_type": "code",
   "execution_count": null,
   "metadata": {},
   "outputs": [],
   "source": []
  }
 ],
 "metadata": {
  "kernelspec": {
   "display_name": "Python 3",
   "language": "python",
   "name": "python3"
  },
  "language_info": {
   "codemirror_mode": {
    "name": "ipython",
    "version": 3
   },
   "file_extension": ".py",
   "mimetype": "text/x-python",
   "name": "python",
   "nbconvert_exporter": "python",
   "pygments_lexer": "ipython3",
   "version": "3.6.8"
  }
 },
 "nbformat": 4,
 "nbformat_minor": 2
}
