{
 "cells": [
  {
   "cell_type": "code",
   "execution_count": 15,
   "metadata": {},
   "outputs": [
    {
     "name": "stdout",
     "output_type": "stream",
     "text": [
      "False\n"
     ]
    }
   ],
   "source": [
    "# Brute-force approach (Time: O(n^2); Space: O(n))\n",
    "def checkPossibility(nums):\n",
    "    def isSorted(a):\n",
    "        for i in range(len(a) - 1):\n",
    "            if a[i] > a[i + 1]:\n",
    "                return False\n",
    "        return True\n",
    "    count = 0\n",
    "    for i in range(len(nums)):\n",
    "        a = nums[:i]\n",
    "        for k in range(i + 1, len(nums)):\n",
    "            a.append(nums[k])\n",
    "        if isSorted(a):\n",
    "            return True\n",
    "    return False\n",
    "\n",
    "print(checkPossibility([4,2,1]))"
   ]
  },
  {
   "cell_type": "code",
   "execution_count": 20,
   "metadata": {},
   "outputs": [
    {
     "name": "stdout",
     "output_type": "stream",
     "text": [
      "False\n"
     ]
    }
   ],
   "source": [
    "# Optimized approach (Time: O(n); Space: O(1))\n",
    "def checkPossibility(nums):\n",
    "    done = False\n",
    "    nums.extend([float('inf'), float('-inf')])\n",
    "\n",
    "    for i in range(len(nums) - 2):\n",
    "        if nums[i] > nums[i + 1]:\n",
    "            if not done:\n",
    "                done = True\n",
    "                if nums[i + 2] >= nums[i]:\n",
    "                    nums[i + 1] = nums[i]\n",
    "                elif nums[i - 1] <= nums[i + 1]:\n",
    "                    nums[i] = nums[i + 1]\n",
    "                else:\n",
    "                    return False\n",
    "            else:\n",
    "                return False\n",
    "    return True\n",
    "\n",
    "print(checkPossibility([3,4,2,3]))"
   ]
  },
  {
   "cell_type": "code",
   "execution_count": null,
   "metadata": {},
   "outputs": [],
   "source": []
  }
 ],
 "metadata": {
  "kernelspec": {
   "display_name": "Python 3",
   "language": "python",
   "name": "python3"
  },
  "language_info": {
   "codemirror_mode": {
    "name": "ipython",
    "version": 3
   },
   "file_extension": ".py",
   "mimetype": "text/x-python",
   "name": "python",
   "nbconvert_exporter": "python",
   "pygments_lexer": "ipython3",
   "version": "3.6.8"
  }
 },
 "nbformat": 4,
 "nbformat_minor": 2
}
