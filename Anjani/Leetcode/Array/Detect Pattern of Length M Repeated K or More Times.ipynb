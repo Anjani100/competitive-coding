{
 "cells": [
  {
   "cell_type": "code",
   "execution_count": 1,
   "metadata": {},
   "outputs": [
    {
     "name": "stdout",
     "output_type": "stream",
     "text": [
      "False\n"
     ]
    }
   ],
   "source": [
    "def containsPattern(arr, m, k):\n",
    "    for i in range(m):\n",
    "        dict_set = {}\n",
    "        s = []\n",
    "        l = 0\n",
    "        for j in range(i, len(arr)):\n",
    "            s.append(arr[j])\n",
    "            l += 1\n",
    "            if l == m:\n",
    "                l = 0\n",
    "                s = tuple(s)\n",
    "                if len(dict_set) > 0:\n",
    "                    if s in dict_set:\n",
    "                        dict_set[s] += 1\n",
    "                        if dict_set[s] >= k:\n",
    "                            return True\n",
    "                    else:\n",
    "                        dict_set = {}\n",
    "                        dict_set[s] = 1\n",
    "                else:\n",
    "                    dict_set[s] = 1\n",
    "                s = []\n",
    "    return False\n",
    "\n",
    "print(containsPattern([2,2,2,2], 2, 3))"
   ]
  },
  {
   "cell_type": "code",
   "execution_count": null,
   "metadata": {},
   "outputs": [],
   "source": []
  }
 ],
 "metadata": {
  "kernelspec": {
   "display_name": "Python 3",
   "language": "python",
   "name": "python3"
  },
  "language_info": {
   "codemirror_mode": {
    "name": "ipython",
    "version": 3
   },
   "file_extension": ".py",
   "mimetype": "text/x-python",
   "name": "python",
   "nbconvert_exporter": "python",
   "pygments_lexer": "ipython3",
   "version": "3.6.8"
  }
 },
 "nbformat": 4,
 "nbformat_minor": 2
}
