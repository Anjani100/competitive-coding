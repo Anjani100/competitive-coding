{
 "cells": [
  {
   "cell_type": "code",
   "execution_count": 10,
   "metadata": {},
   "outputs": [
    {
     "name": "stdout",
     "output_type": "stream",
     "text": [
      "4\n"
     ]
    }
   ],
   "source": [
    "# Brute-force approach (Time: O(n^2); Space: O(1))\n",
    "def pivotIndex(nums):\n",
    "    for i in range(len(nums)):\n",
    "        if sum(nums[:i]) == sum(nums[i + 1:]):\n",
    "            return i\n",
    "    return -1\n",
    "\n",
    "print(pivotIndex([1, 7, 3, 6, 5, 6, 11]))"
   ]
  },
  {
   "cell_type": "code",
   "execution_count": 12,
   "metadata": {},
   "outputs": [
    {
     "name": "stdout",
     "output_type": "stream",
     "text": [
      "4\n"
     ]
    }
   ],
   "source": [
    "# Optimized approach (Time: O(n); Space: O(1))\n",
    "def pivotIndex(nums):\n",
    "    l = 0\n",
    "    r = sum(nums)\n",
    "    for i in range(len(nums)):\n",
    "        r -= nums[i]\n",
    "        if l == r:\n",
    "            return i\n",
    "        l += nums[i]\n",
    "    return -1\n",
    "\n",
    "print(pivotIndex([1, 7, 3, 6, 5, 6, 11]))"
   ]
  },
  {
   "cell_type": "code",
   "execution_count": null,
   "metadata": {},
   "outputs": [],
   "source": []
  }
 ],
 "metadata": {
  "kernelspec": {
   "display_name": "Python 3",
   "language": "python",
   "name": "python3"
  },
  "language_info": {
   "codemirror_mode": {
    "name": "ipython",
    "version": 3
   },
   "file_extension": ".py",
   "mimetype": "text/x-python",
   "name": "python",
   "nbconvert_exporter": "python",
   "pygments_lexer": "ipython3",
   "version": "3.6.8"
  }
 },
 "nbformat": 4,
 "nbformat_minor": 2
}
