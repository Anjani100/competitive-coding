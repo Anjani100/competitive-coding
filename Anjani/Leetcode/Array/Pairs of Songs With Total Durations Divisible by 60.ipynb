{
 "cells": [
  {
   "cell_type": "code",
   "execution_count": 3,
   "metadata": {},
   "outputs": [
    {
     "name": "stdout",
     "output_type": "stream",
     "text": [
      "3\n"
     ]
    }
   ],
   "source": [
    "# Brute-force Approach (Time: O(n^2); Space: O(1))\n",
    "def numPairsDivisibleBy60(time):\n",
    "    count = 0\n",
    "    for i in range(len(time)):\n",
    "        for j in range(i + 1, len(time)):\n",
    "            if (time[i] + time[j]) % 60 == 0:\n",
    "                count += 1\n",
    "    return count\n",
    "\n",
    "print(numPairsDivisibleBy60([60,60,60]))"
   ]
  },
  {
   "cell_type": "code",
   "execution_count": 12,
   "metadata": {},
   "outputs": [
    {
     "name": "stdout",
     "output_type": "stream",
     "text": [
      "6\n"
     ]
    }
   ],
   "source": [
    "# Optimized Approach (Time: O(n); Space: O(n))\n",
    "def numPairsDivisibleBy60(time):\n",
    "    dict_time = {}\n",
    "    res = 0\n",
    "    for i in time:\n",
    "        s = i % 60\n",
    "        if s in dict_time:\n",
    "            dict_time[s] += 1\n",
    "        else:\n",
    "            dict_time[s] = 1\n",
    "    \n",
    "    if 30 in dict_time:\n",
    "        s = dict_time[30] - 1\n",
    "        res += (s * (s + 1)) // 2\n",
    "        dict_time[30] = 0\n",
    "    if 0 in dict_time:\n",
    "        s = dict_time[0] - 1\n",
    "        res += (s * (s + 1)) // 2\n",
    "        dict_time[0] = 0\n",
    "    for i in dict_time:\n",
    "        if (60 - i) in dict_time:\n",
    "            res += dict_time[i] * dict_time[60 - i]\n",
    "        dict_time[i] = 0\n",
    "    return res\n",
    "\n",
    "print(numPairsDivisibleBy60([60, 60, 60, 60]))"
   ]
  },
  {
   "cell_type": "code",
   "execution_count": null,
   "metadata": {},
   "outputs": [],
   "source": []
  }
 ],
 "metadata": {
  "kernelspec": {
   "display_name": "Python 3",
   "language": "python",
   "name": "python3"
  },
  "language_info": {
   "codemirror_mode": {
    "name": "ipython",
    "version": 3
   },
   "file_extension": ".py",
   "mimetype": "text/x-python",
   "name": "python",
   "nbconvert_exporter": "python",
   "pygments_lexer": "ipython3",
   "version": "3.6.8"
  }
 },
 "nbformat": 4,
 "nbformat_minor": 2
}
