{
 "cells": [
  {
   "cell_type": "code",
   "execution_count": 8,
   "metadata": {},
   "outputs": [
    {
     "name": "stdout",
     "output_type": "stream",
     "text": [
      "0\n"
     ]
    }
   ],
   "source": [
    "def countCharacters(words, chars):\n",
    "    res = 0\n",
    "    d = {}\n",
    "    for i in chars:\n",
    "        if i in d:\n",
    "            d[i] += 1\n",
    "        else:\n",
    "            d[i] = 1\n",
    "    for word in words:\n",
    "        w = set(word)\n",
    "        flag = True\n",
    "        for i in w:\n",
    "            if i not in chars:\n",
    "                flag = False\n",
    "                break\n",
    "            elif word.count(i) > d[i]:\n",
    "                flag = False\n",
    "                break\n",
    "        if flag:\n",
    "            res += len(word)\n",
    "    return res\n",
    "\n",
    "print(countCharacters([\"leetcode\"], 'welldonehoneyr'))"
   ]
  },
  {
   "cell_type": "code",
   "execution_count": null,
   "metadata": {},
   "outputs": [],
   "source": []
  }
 ],
 "metadata": {
  "kernelspec": {
   "display_name": "Python 3",
   "language": "python",
   "name": "python3"
  },
  "language_info": {
   "codemirror_mode": {
    "name": "ipython",
    "version": 3
   },
   "file_extension": ".py",
   "mimetype": "text/x-python",
   "name": "python",
   "nbconvert_exporter": "python",
   "pygments_lexer": "ipython3",
   "version": "3.6.8"
  }
 },
 "nbformat": 4,
 "nbformat_minor": 2
}
