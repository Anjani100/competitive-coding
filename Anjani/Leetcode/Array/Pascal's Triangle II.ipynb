{
 "cells": [
  {
   "cell_type": "code",
   "execution_count": 55,
   "metadata": {},
   "outputs": [
    {
     "data": {
      "text/plain": [
       "[1, 5, 10, 10, 5, 1]"
      ]
     },
     "execution_count": 55,
     "metadata": {},
     "output_type": "execute_result"
    }
   ],
   "source": [
    "def getRow(rowIndex):\n",
    "    if rowIndex == 0:\n",
    "        return [1]\n",
    "    elif rowIndex == 1:\n",
    "        return [1, 1]\n",
    "    a = [[1], [1, 1]]\n",
    "    for i in range(2, rowIndex + 1):\n",
    "        s = a[i - 1]\n",
    "        arr = [1]\n",
    "        for j in range(len(s) - 1):\n",
    "            sum = s[j] + s[j + 1]\n",
    "            arr.append(sum)\n",
    "        arr.append(1)\n",
    "        a.append(arr)\n",
    "    return a[-1]\n",
    "\n",
    "getRow(5)"
   ]
  },
  {
   "cell_type": "code",
   "execution_count": null,
   "metadata": {},
   "outputs": [],
   "source": []
  }
 ],
 "metadata": {
  "kernelspec": {
   "display_name": "Python 3",
   "language": "python",
   "name": "python3"
  },
  "language_info": {
   "codemirror_mode": {
    "name": "ipython",
    "version": 3
   },
   "file_extension": ".py",
   "mimetype": "text/x-python",
   "name": "python",
   "nbconvert_exporter": "python",
   "pygments_lexer": "ipython3",
   "version": "3.6.8"
  }
 },
 "nbformat": 4,
 "nbformat_minor": 2
}
