{
 "cells": [
  {
   "cell_type": "code",
   "execution_count": 17,
   "metadata": {},
   "outputs": [
    {
     "name": "stdout",
     "output_type": "stream",
     "text": [
      "1\n"
     ]
    }
   ],
   "source": [
    "def countLargestGroup(n):\n",
    "    a = []\n",
    "    dict_a = {}\n",
    "    for i in range(1, n + 1):\n",
    "        a.append(str(i))\n",
    "    for i in a:\n",
    "        sum_i = 0\n",
    "        for k in i:\n",
    "            sum_i += int(k)\n",
    "        if sum_i in dict_a:\n",
    "            dict_a[sum_i] += 1\n",
    "        else:\n",
    "            dict_a[sum_i] = 1\n",
    "    a = list(dict_a.values())\n",
    "    return a.count(max(a))\n",
    "\n",
    "print(countLargestGroup(10))"
   ]
  },
  {
   "cell_type": "code",
   "execution_count": 39,
   "metadata": {},
   "outputs": [
    {
     "name": "stdout",
     "output_type": "stream",
     "text": [
      "5\n"
     ]
    }
   ],
   "source": [
    "def countLargestGroup(n):\n",
    "    a = []\n",
    "    list_a = [0] * (n + 1)\n",
    "    for i in range(1, n + 1):\n",
    "        a.append(str(i))\n",
    "    for i in a:\n",
    "        sum_i = 0\n",
    "        for k in i:\n",
    "            sum_i += int(k)\n",
    "        list_a[sum_i] += 1\n",
    "    \n",
    "    return list_a.count(max(list_a))\n",
    "\n",
    "print(countLargestGroup(24))"
   ]
  },
  {
   "cell_type": "code",
   "execution_count": null,
   "metadata": {},
   "outputs": [],
   "source": []
  }
 ],
 "metadata": {
  "kernelspec": {
   "display_name": "Python 3",
   "language": "python",
   "name": "python3"
  },
  "language_info": {
   "codemirror_mode": {
    "name": "ipython",
    "version": 3
   },
   "file_extension": ".py",
   "mimetype": "text/x-python",
   "name": "python",
   "nbconvert_exporter": "python",
   "pygments_lexer": "ipython3",
   "version": "3.6.8"
  }
 },
 "nbformat": 4,
 "nbformat_minor": 2
}
