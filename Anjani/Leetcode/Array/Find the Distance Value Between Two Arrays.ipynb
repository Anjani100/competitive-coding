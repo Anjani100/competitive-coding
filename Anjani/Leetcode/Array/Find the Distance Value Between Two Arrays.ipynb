{
 "cells": [
  {
   "cell_type": "code",
   "execution_count": 7,
   "metadata": {},
   "outputs": [
    {
     "name": "stdout",
     "output_type": "stream",
     "text": [
      "1\n"
     ]
    }
   ],
   "source": [
    "# Brute-force approach (Time: O(n^2); Space: O(1))\n",
    "def findTheDistanceValue(arr1, arr2, d):\n",
    "    count = 0\n",
    "    for i in range(len(arr1)):\n",
    "        for j in range(len(arr2)):\n",
    "            if abs(arr1[i] - arr2[j]) <= d:\n",
    "                break\n",
    "        else:\n",
    "            count += 1\n",
    "    return count\n",
    "\n",
    "print(findTheDistanceValue([2,1,100,3], [-5,-2,10,-3,7], 6))"
   ]
  },
  {
   "cell_type": "code",
   "execution_count": 15,
   "metadata": {},
   "outputs": [
    {
     "name": "stdout",
     "output_type": "stream",
     "text": [
      "1\n"
     ]
    }
   ],
   "source": [
    "# Optimized approach (Time: O(nlogn); Space: O(1))\n",
    "import bisect\n",
    "def findTheDistanceValue(arr1, arr2, d):\n",
    "    count = 0\n",
    "    n = len(arr2) - 1\n",
    "    arr2.sort()\n",
    "    for i in arr1:\n",
    "        index = bisect.bisect(arr2, i)\n",
    "        for j in range(-1, 2):\n",
    "            k = j + index\n",
    "            if 0 <= k < n and abs(arr2[k] - i) <= d:\n",
    "                break\n",
    "        else:\n",
    "            count += 1\n",
    "    return count\n",
    "\n",
    "print(findTheDistanceValue([2,1,100,3], [-5,-2,10,-3,7], 6))"
   ]
  },
  {
   "cell_type": "code",
   "execution_count": null,
   "metadata": {},
   "outputs": [],
   "source": []
  }
 ],
 "metadata": {
  "kernelspec": {
   "display_name": "Python 3",
   "language": "python",
   "name": "python3"
  },
  "language_info": {
   "codemirror_mode": {
    "name": "ipython",
    "version": 3
   },
   "file_extension": ".py",
   "mimetype": "text/x-python",
   "name": "python",
   "nbconvert_exporter": "python",
   "pygments_lexer": "ipython3",
   "version": "3.6.8"
  }
 },
 "nbformat": 4,
 "nbformat_minor": 2
}
