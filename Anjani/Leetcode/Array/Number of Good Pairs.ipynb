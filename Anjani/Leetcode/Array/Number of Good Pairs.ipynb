{
 "cells": [
  {
   "cell_type": "code",
   "execution_count": 11,
   "metadata": {},
   "outputs": [
    {
     "name": "stdout",
     "output_type": "stream",
     "text": [
      "0\n"
     ]
    }
   ],
   "source": [
    "# Brute-force approach (Time: O(n^2); Space: O(1))\n",
    "def numIdenticalPairs(nums):\n",
    "    count = 0\n",
    "    for i in range(len(nums)):\n",
    "        for j in range(i + 1, len(nums)):\n",
    "            if nums[i] == nums[j]:\n",
    "                count += 1\n",
    "    return count\n",
    "\n",
    "print(numIdenticalPairs([1,2,3]))"
   ]
  },
  {
   "cell_type": "code",
   "execution_count": 12,
   "metadata": {},
   "outputs": [
    {
     "name": "stdout",
     "output_type": "stream",
     "text": [
      "1\n"
     ]
    }
   ],
   "source": [
    "# Optimized approach (Time: O(n^2); Space: O(n))\n",
    "def numIdenticalPairs(nums):\n",
    "    count = 0\n",
    "    s = set(nums)\n",
    "    for i in s:\n",
    "        a = nums.count(i) - 1\n",
    "        count += (a * (a + 1) // 2)\n",
    "    return count\n",
    "\n",
    "print(numIdenticalPairs([5, 5]))"
   ]
  },
  {
   "cell_type": "code",
   "execution_count": null,
   "metadata": {},
   "outputs": [],
   "source": []
  }
 ],
 "metadata": {
  "kernelspec": {
   "display_name": "Python 3",
   "language": "python",
   "name": "python3"
  },
  "language_info": {
   "codemirror_mode": {
    "name": "ipython",
    "version": 3
   },
   "file_extension": ".py",
   "mimetype": "text/x-python",
   "name": "python",
   "nbconvert_exporter": "python",
   "pygments_lexer": "ipython3",
   "version": "3.6.8"
  }
 },
 "nbformat": 4,
 "nbformat_minor": 2
}
