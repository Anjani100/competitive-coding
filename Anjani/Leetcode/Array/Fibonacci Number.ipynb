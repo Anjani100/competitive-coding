{
 "cells": [
  {
   "cell_type": "code",
   "execution_count": 22,
   "metadata": {},
   "outputs": [
    {
     "name": "stdout",
     "output_type": "stream",
     "text": [
      "2\n"
     ]
    }
   ],
   "source": [
    "# Recursive Approach (Time: O(n); Space: O(1))\n",
    "def fib(N):\n",
    "    if N == 0 or N == 1:\n",
    "        return N\n",
    "    else:\n",
    "        return fib(N - 1) + fib(N - 2)\n",
    "\n",
    "print(fib(3))"
   ]
  },
  {
   "cell_type": "code",
   "execution_count": 25,
   "metadata": {},
   "outputs": [
    {
     "name": "stdout",
     "output_type": "stream",
     "text": [
      "8\n"
     ]
    }
   ],
   "source": [
    "# Iterative Approach (Time: O(n); Space: O(1))\n",
    "def fib(N):\n",
    "    if N == 0 or N == 1:\n",
    "        return N\n",
    "    a = 1\n",
    "    b = 0\n",
    "    for i in range(N - 1):\n",
    "        res = a + b\n",
    "        b = a\n",
    "        a = res\n",
    "    return res\n",
    "\n",
    "print(fib(6))"
   ]
  },
  {
   "cell_type": "code",
   "execution_count": null,
   "metadata": {},
   "outputs": [],
   "source": []
  }
 ],
 "metadata": {
  "kernelspec": {
   "display_name": "Python 3",
   "language": "python",
   "name": "python3"
  },
  "language_info": {
   "codemirror_mode": {
    "name": "ipython",
    "version": 3
   },
   "file_extension": ".py",
   "mimetype": "text/x-python",
   "name": "python",
   "nbconvert_exporter": "python",
   "pygments_lexer": "ipython3",
   "version": "3.6.8"
  }
 },
 "nbformat": 4,
 "nbformat_minor": 2
}
