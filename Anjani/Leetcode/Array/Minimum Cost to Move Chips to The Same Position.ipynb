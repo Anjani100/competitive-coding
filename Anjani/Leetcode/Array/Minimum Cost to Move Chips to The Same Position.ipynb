{
 "cells": [
  {
   "cell_type": "code",
   "execution_count": 3,
   "metadata": {},
   "outputs": [
    {
     "name": "stdout",
     "output_type": "stream",
     "text": [
      "1\n"
     ]
    }
   ],
   "source": [
    "def minCostToMoveChips(position):\n",
    "    s = set(position)\n",
    "    a = b = 0\n",
    "    for i in s:\n",
    "        if i % 2 == 0:\n",
    "            a += position.count(i)\n",
    "        else:\n",
    "            b += position.count(i)\n",
    "    \n",
    "    return min(a, b)\n",
    "\n",
    "print(minCostToMoveChips([1,2,3]))"
   ]
  },
  {
   "cell_type": "code",
   "execution_count": null,
   "metadata": {},
   "outputs": [],
   "source": []
  }
 ],
 "metadata": {
  "kernelspec": {
   "display_name": "Python 3",
   "language": "python",
   "name": "python3"
  },
  "language_info": {
   "codemirror_mode": {
    "name": "ipython",
    "version": 3
   },
   "file_extension": ".py",
   "mimetype": "text/x-python",
   "name": "python",
   "nbconvert_exporter": "python",
   "pygments_lexer": "ipython3",
   "version": "3.6.8"
  }
 },
 "nbformat": 4,
 "nbformat_minor": 2
}
