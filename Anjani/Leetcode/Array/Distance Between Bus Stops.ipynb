{
 "cells": [
  {
   "cell_type": "code",
   "execution_count": 8,
   "metadata": {},
   "outputs": [
    {
     "name": "stdout",
     "output_type": "stream",
     "text": [
      "6 4\n",
      "4\n"
     ]
    }
   ],
   "source": [
    "def distanceBetweenBusStops(distance, start, destination):\n",
    "    count = count1 = 0\n",
    "    s = destination - start\n",
    "    for i in range(start, len(distance)):\n",
    "        count += distance[i]\n",
    "        s -= 1\n",
    "        if s == 0:\n",
    "            break\n",
    "    s = len(distance) - destination - start\n",
    "    for i in range(len(distance) - 1, -1, -1):\n",
    "        count1 += distance[i]\n",
    "        s -= 1\n",
    "        if s == 0:\n",
    "            break\n",
    "    print(count, count1)\n",
    "    return min(count, count1)\n",
    "\n",
    "print(distanceBetweenBusStops([1,2,3,4], 0, 3))"
   ]
  },
  {
   "cell_type": "code",
   "execution_count": null,
   "metadata": {},
   "outputs": [],
   "source": []
  }
 ],
 "metadata": {
  "kernelspec": {
   "display_name": "Python 3",
   "language": "python",
   "name": "python3"
  },
  "language_info": {
   "codemirror_mode": {
    "name": "ipython",
    "version": 3
   },
   "file_extension": ".py",
   "mimetype": "text/x-python",
   "name": "python",
   "nbconvert_exporter": "python",
   "pygments_lexer": "ipython3",
   "version": "3.6.8"
  }
 },
 "nbformat": 4,
 "nbformat_minor": 2
}
