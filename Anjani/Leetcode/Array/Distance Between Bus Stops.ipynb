{
 "cells": [
  {
   "cell_type": "code",
   "execution_count": 40,
   "metadata": {},
   "outputs": [
    {
     "name": "stdout",
     "output_type": "stream",
     "text": [
      "-1 0 11\n",
      "-2 5 11\n",
      "-3 14 11\n",
      "-4 11 11\n",
      "30\n"
     ]
    }
   ],
   "source": [
    "def distanceBetweenBusStops(distance, start, destination):\n",
    "    count = count1 = 0\n",
    "    i = start\n",
    "    while True:\n",
    "        count += distance[i]\n",
    "        if i == destination - 1:\n",
    "            break\n",
    "        i += 1\n",
    "        if i == len(distance):\n",
    "            i = 0\n",
    "    i = start - 1\n",
    "    while True:\n",
    "        count1 += distance[i]\n",
    "        print(i, distance[i], distance[destination])\n",
    "        if distance[i] == distance[destination]:\n",
    "            break\n",
    "        i -= 1\n",
    "    return min(count, count1)\n",
    "\n",
    "print(distanceBetweenBusStops([7,10,1,12,11,14,5,0], 0, 4))"
   ]
  },
  {
   "cell_type": "code",
   "execution_count": null,
   "metadata": {},
   "outputs": [],
   "source": []
  }
 ],
 "metadata": {
  "kernelspec": {
   "display_name": "Python 3",
   "language": "python",
   "name": "python3"
  },
  "language_info": {
   "codemirror_mode": {
    "name": "ipython",
    "version": 3
   },
   "file_extension": ".py",
   "mimetype": "text/x-python",
   "name": "python",
   "nbconvert_exporter": "python",
   "pygments_lexer": "ipython3",
   "version": "3.6.8"
  }
 },
 "nbformat": 4,
 "nbformat_minor": 2
}
