{
 "cells": [
  {
   "cell_type": "code",
   "execution_count": null,
   "metadata": {},
   "outputs": [],
   "source": [
    "# Definition for singly-linked list.\n",
    "# class ListNode:\n",
    "#     def __init__(self, val=0, next=None):\n",
    "#         self.val = val\n",
    "#         self.next = next\n",
    "class Solution:\n",
    "    def deleteDuplicates(self, head: ListNode) -> ListNode:\n",
    "        if head is None or head.next is None:\n",
    "            return head\n",
    "        ptr = head\n",
    "        count = 0\n",
    "        while ptr.next:\n",
    "            if ptr.val == ptr.next.val:\n",
    "                count += 1\n",
    "                ptr = ptr.next\n",
    "            else:\n",
    "                if count == 0:\n",
    "                    break\n",
    "                elif ptr.next.next is not None and ptr.next.val == ptr.next.next.val:\n",
    "                    ptr = ptr.next\n",
    "                    count = 0\n",
    "                else:\n",
    "                    break\n",
    "        if count > 0:\n",
    "            ptr = ptr.next\n",
    "        head = ptr\n",
    "        if head is None or head.next is None:\n",
    "            return head\n",
    "        node = ptr.next\n",
    "        count = 0\n",
    "        while node.next:\n",
    "            if node.val == node.next.val:\n",
    "                count += 1\n",
    "                node = node.next\n",
    "            else:\n",
    "                if count == 0:\n",
    "                    ptr = node\n",
    "                    node = node.next\n",
    "                else:\n",
    "                    node = node.next\n",
    "                    ptr.next = node\n",
    "                    if node.next is not None and node.val == node.next.val:\n",
    "                        pass\n",
    "                    else:\n",
    "                        ptr = node\n",
    "                    count = 0\n",
    "        if count > 0:\n",
    "            ptr.next = None\n",
    "        return head"
   ]
  }
 ],
 "metadata": {
  "kernelspec": {
   "display_name": "Python 3",
   "language": "python",
   "name": "python3"
  },
  "language_info": {
   "codemirror_mode": {
    "name": "ipython",
    "version": 3
   },
   "file_extension": ".py",
   "mimetype": "text/x-python",
   "name": "python",
   "nbconvert_exporter": "python",
   "pygments_lexer": "ipython3",
   "version": "3.6.8"
  }
 },
 "nbformat": 4,
 "nbformat_minor": 2
}
