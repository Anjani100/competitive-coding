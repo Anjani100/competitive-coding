{
 "cells": [
  {
   "cell_type": "code",
   "execution_count": 39,
   "metadata": {},
   "outputs": [
    {
     "name": "stdout",
     "output_type": "stream",
     "text": [
      "[0]\n"
     ]
    }
   ],
   "source": [
    "# Brute-force approach (Time: O(n^2 * m); Space: O(1))\n",
    "def peopleIndexes(favoriteCompanies):\n",
    "    res = []\n",
    "    for i in range(len(favoriteCompanies)):\n",
    "        flag = True\n",
    "        for j in range(len(favoriteCompanies)):\n",
    "            if i != j:\n",
    "                count = 0\n",
    "                for k in range(len(favoriteCompanies[i])):\n",
    "                    if favoriteCompanies[i][k] in favoriteCompanies[j]:\n",
    "                        count += 1\n",
    "                    else:\n",
    "                        break\n",
    "                \n",
    "                if count == len(favoriteCompanies[i]):\n",
    "                    flag = False\n",
    "        if flag:\n",
    "            res.append(i)\n",
    "    return res\n",
    "\n",
    "print(peopleIndexes([[\"leetcode\"]]))"
   ]
  },
  {
   "cell_type": "code",
   "execution_count": 5,
   "metadata": {},
   "outputs": [
    {
     "name": "stdout",
     "output_type": "stream",
     "text": [
      "[0, 1, 4]\n"
     ]
    }
   ],
   "source": [
    "# Optimized approach (Time: O(n^2); Space: O(n))\n",
    "def peopleIndexes(favoriteCompanies):\n",
    "    res = []\n",
    "    sets = [set(c) for c in favoriteCompanies]\n",
    "    for i, a in enumerate(sets):\n",
    "        for j, b in enumerate(sets):\n",
    "            if i == j:\n",
    "                continue\n",
    "            if a.issubset(b):\n",
    "                break\n",
    "        else:\n",
    "            res.append(i)\n",
    "    return res\n",
    "\n",
    "print(peopleIndexes([[\"leetcode\",\"google\",\"facebook\"],[\"google\",\"microsoft\"],[\"google\",\"facebook\"],[\"google\",\"leetcode\"],[\"amazon\"]]))"
   ]
  },
  {
   "cell_type": "code",
   "execution_count": null,
   "metadata": {},
   "outputs": [],
   "source": []
  }
 ],
 "metadata": {
  "kernelspec": {
   "display_name": "Python 3",
   "language": "python",
   "name": "python3"
  },
  "language_info": {
   "codemirror_mode": {
    "name": "ipython",
    "version": 3
   },
   "file_extension": ".py",
   "mimetype": "text/x-python",
   "name": "python",
   "nbconvert_exporter": "python",
   "pygments_lexer": "ipython3",
   "version": "3.6.8"
  }
 },
 "nbformat": 4,
 "nbformat_minor": 2
}
