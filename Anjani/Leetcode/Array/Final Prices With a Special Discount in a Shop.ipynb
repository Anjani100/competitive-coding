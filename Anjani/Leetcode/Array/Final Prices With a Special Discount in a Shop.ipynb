{
 "cells": [
  {
   "cell_type": "code",
   "execution_count": 6,
   "metadata": {},
   "outputs": [
    {
     "name": "stdout",
     "output_type": "stream",
     "text": [
      "[9, 0, 1, 6]\n"
     ]
    }
   ],
   "source": [
    "def finalPrices(prices):\n",
    "    for i in range(len(prices)):\n",
    "        for j in range(i + 1, len(prices)):\n",
    "            if prices[j] <= prices[i]:\n",
    "                prices[i] -= prices[j]\n",
    "                break\n",
    "    return prices\n",
    "\n",
    "print(finalPrices([10,1,1,6]))"
   ]
  },
  {
   "cell_type": "code",
   "execution_count": null,
   "metadata": {},
   "outputs": [],
   "source": []
  }
 ],
 "metadata": {
  "kernelspec": {
   "display_name": "Python 3",
   "language": "python",
   "name": "python3"
  },
  "language_info": {
   "codemirror_mode": {
    "name": "ipython",
    "version": 3
   },
   "file_extension": ".py",
   "mimetype": "text/x-python",
   "name": "python",
   "nbconvert_exporter": "python",
   "pygments_lexer": "ipython3",
   "version": "3.6.8"
  }
 },
 "nbformat": 4,
 "nbformat_minor": 2
}
