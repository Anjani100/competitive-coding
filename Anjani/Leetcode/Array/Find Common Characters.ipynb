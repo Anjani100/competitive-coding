{
 "cells": [
  {
   "cell_type": "code",
   "execution_count": 2,
   "metadata": {},
   "outputs": [
    {
     "name": "stdout",
     "output_type": "stream",
     "text": [
      "['o', 'c']\n"
     ]
    }
   ],
   "source": [
    "def commonChars(A):\n",
    "    s = set(A[0])\n",
    "    res = []\n",
    "    for i in s:\n",
    "        flag = 0\n",
    "        min_count = pow(2, 31)\n",
    "        for j in range(1, len(A)):\n",
    "            if i not in A[j]:\n",
    "                flag = 1\n",
    "                break\n",
    "            count = A[j].count(i)\n",
    "            min_count = min(min_count, count)\n",
    "        if flag == 0:\n",
    "            for _ in range(min_count):\n",
    "                res.append(i)\n",
    "    return res\n",
    "\n",
    "print(commonChars([\"cool\",\"lock\",\"cook\"]))"
   ]
  },
  {
   "cell_type": "code",
   "execution_count": null,
   "metadata": {},
   "outputs": [],
   "source": []
  }
 ],
 "metadata": {
  "kernelspec": {
   "display_name": "Python 3",
   "language": "python",
   "name": "python3"
  },
  "language_info": {
   "codemirror_mode": {
    "name": "ipython",
    "version": 3
   },
   "file_extension": ".py",
   "mimetype": "text/x-python",
   "name": "python",
   "nbconvert_exporter": "python",
   "pygments_lexer": "ipython3",
   "version": "3.6.8"
  }
 },
 "nbformat": 4,
 "nbformat_minor": 2
}
