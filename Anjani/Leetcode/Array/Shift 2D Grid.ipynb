{
 "cells": [
  {
   "cell_type": "code",
   "execution_count": 13,
   "metadata": {},
   "outputs": [
    {
     "name": "stdout",
     "output_type": "stream",
     "text": [
      "[[12, 0, 21, 13], [3, 8, 1, 9], [19, 7, 2, 5], [4, 6, 11, 10]]\n"
     ]
    }
   ],
   "source": [
    "def shiftGrid(grid, k):\n",
    "    m = len(grid)\n",
    "    n = len(grid[0])\n",
    "    k %= (m * n)\n",
    "    if k == 0:\n",
    "        return grid\n",
    "    for _ in range(k):\n",
    "        s = grid[m - 1][n - 1]\n",
    "        for i in range(m - 1, -1, -1):\n",
    "            for j in range(n - 1, -1, -1):\n",
    "                if j == 0 and i == 0:\n",
    "                    grid[i][j] = s\n",
    "                elif j == 0:\n",
    "                    grid[i][j] = grid[i - 1][n - 1]\n",
    "                else:\n",
    "                    grid[i][j] = grid[i][j - 1]\n",
    "    return grid\n",
    "\n",
    "print(shiftGrid([[3,8,1,9],[19,7,2,5],[4,6,11,10],[12,0,21,13]], 4))"
   ]
  },
  {
   "cell_type": "code",
   "execution_count": null,
   "metadata": {},
   "outputs": [],
   "source": []
  }
 ],
 "metadata": {
  "kernelspec": {
   "display_name": "Python 3",
   "language": "python",
   "name": "python3"
  },
  "language_info": {
   "codemirror_mode": {
    "name": "ipython",
    "version": 3
   },
   "file_extension": ".py",
   "mimetype": "text/x-python",
   "name": "python",
   "nbconvert_exporter": "python",
   "pygments_lexer": "ipython3",
   "version": "3.6.8"
  }
 },
 "nbformat": 4,
 "nbformat_minor": 2
}
