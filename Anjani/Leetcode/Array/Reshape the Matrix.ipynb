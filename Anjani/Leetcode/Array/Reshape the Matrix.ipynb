{
 "cells": [
  {
   "cell_type": "code",
   "execution_count": 6,
   "metadata": {},
   "outputs": [
    {
     "name": "stdout",
     "output_type": "stream",
     "text": [
      "[[1, 2], [3, 3], [4, 4]]\n"
     ]
    }
   ],
   "source": [
    "def matrixReshape(nums, r, c):\n",
    "    if nums == [] or nums == [[]]:\n",
    "        return nums\n",
    "    m = len(nums)\n",
    "    n = len(nums[0])\n",
    "    if m * n != r * c:\n",
    "        return nums\n",
    "    res = []\n",
    "    s = []\n",
    "    for i in range(m):\n",
    "        for j in range(n):\n",
    "            s.append(nums[i][j])\n",
    "            if len(s) == c:\n",
    "                res.append(s)\n",
    "                s = []\n",
    "    return res\n",
    "\n",
    "print(matrixReshape([[1, 2, 3], [3, 4, 4]], 3, 2))"
   ]
  },
  {
   "cell_type": "code",
   "execution_count": null,
   "metadata": {},
   "outputs": [],
   "source": []
  }
 ],
 "metadata": {
  "kernelspec": {
   "display_name": "Python 3",
   "language": "python",
   "name": "python3"
  },
  "language_info": {
   "codemirror_mode": {
    "name": "ipython",
    "version": 3
   },
   "file_extension": ".py",
   "mimetype": "text/x-python",
   "name": "python",
   "nbconvert_exporter": "python",
   "pygments_lexer": "ipython3",
   "version": "3.6.8"
  }
 },
 "nbformat": 4,
 "nbformat_minor": 2
}
