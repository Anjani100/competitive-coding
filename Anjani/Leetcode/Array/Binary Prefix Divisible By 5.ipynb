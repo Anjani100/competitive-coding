{
 "cells": [
  {
   "cell_type": "code",
   "execution_count": 6,
   "metadata": {},
   "outputs": [
    {
     "name": "stdout",
     "output_type": "stream",
     "text": [
      "0\n",
      "1\n",
      "3\n",
      "7\n",
      "15\n",
      "31\n",
      "[True, False, False, False, True, False]\n"
     ]
    }
   ],
   "source": [
    "# Brute-force approach (Time: O(n^2); Space: O(1))\n",
    "def prefixesDivBy5(A):\n",
    "    def decimal(num):\n",
    "        res = 0\n",
    "        i = 0\n",
    "        while num > 0:\n",
    "            u = num % 10\n",
    "            res += u * pow(2, i)\n",
    "            i += 1\n",
    "            num = num // 10\n",
    "        return res\n",
    "    s = ''\n",
    "    result = []\n",
    "    for i in range(len(A)):\n",
    "        s += str(A[i])\n",
    "        n = int(s)\n",
    "        d = decimal(n)\n",
    "        if d % 5 == 0:\n",
    "            result.append(True)\n",
    "        else:\n",
    "            result.append(False)\n",
    "    return result\n",
    "\n",
    "print(prefixesDivBy5([0,1,1,1,1,1]))"
   ]
  },
  {
   "cell_type": "code",
   "execution_count": 7,
   "metadata": {},
   "outputs": [
    {
     "name": "stdout",
     "output_type": "stream",
     "text": [
      "[True, False, False, False, True, False]\n"
     ]
    }
   ],
   "source": [
    "# Optimized approach: Using Python's int function (Time: O(n); Space: O(1))\n",
    "def prefixesDivBy5(A):\n",
    "    s = ''\n",
    "    result = []\n",
    "    for i in range(len(A)):\n",
    "        s += str(A[i])\n",
    "        n = int(s, 2)\n",
    "        if n % 5 == 0:\n",
    "            result.append(True)\n",
    "        else:\n",
    "            result.append(False)\n",
    "    return result\n",
    "\n",
    "print(prefixesDivBy5([0,1,1,1,1,1]))"
   ]
  },
  {
   "cell_type": "code",
   "execution_count": 8,
   "metadata": {},
   "outputs": [
    {
     "name": "stdout",
     "output_type": "stream",
     "text": [
      "[True, False, False, False, True, False]\n"
     ]
    }
   ],
   "source": [
    "# Optimized approach (Time: O(n); Space: O(1))\n",
    "def prefixesDivBy5(A):\n",
    "    s = ''\n",
    "    result = []\n",
    "    res = 0\n",
    "    for i in A:\n",
    "        res = (res * 2) + i\n",
    "        if res % 5 == 0:\n",
    "            result.append(True)\n",
    "        else:\n",
    "            result.append(False)\n",
    "    return result\n",
    "\n",
    "print(prefixesDivBy5([0,1,1,1,1,1]))"
   ]
  },
  {
   "cell_type": "code",
   "execution_count": null,
   "metadata": {},
   "outputs": [],
   "source": []
  }
 ],
 "metadata": {
  "kernelspec": {
   "display_name": "Python 3",
   "language": "python",
   "name": "python3"
  },
  "language_info": {
   "codemirror_mode": {
    "name": "ipython",
    "version": 3
   },
   "file_extension": ".py",
   "mimetype": "text/x-python",
   "name": "python",
   "nbconvert_exporter": "python",
   "pygments_lexer": "ipython3",
   "version": "3.6.8"
  }
 },
 "nbformat": 4,
 "nbformat_minor": 2
}
