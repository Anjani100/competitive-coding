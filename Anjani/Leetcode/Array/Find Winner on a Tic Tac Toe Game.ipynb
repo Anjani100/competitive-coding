{
 "cells": [
  {
   "cell_type": "code",
   "execution_count": 27,
   "metadata": {},
   "outputs": [
    {
     "name": "stdout",
     "output_type": "stream",
     "text": [
      "Pending\n"
     ]
    }
   ],
   "source": [
    "def tictactoe(moves):\n",
    "    a = [[9, 9, 9], [9, 9, 9], [9, 9, 9]]\n",
    "    for i in range(len(moves)):\n",
    "        if i % 2 == 0:\n",
    "            a[moves[i][0]][moves[i][1]] = 1\n",
    "        else:\n",
    "            a[moves[i][0]][moves[i][1]] = 0\n",
    "    x = 1\n",
    "    if a[0][0] == 1 and a[1][1] == 1 and a[2][2] == 1:\n",
    "        return 'A'\n",
    "    if a[0][0] == 1 and a[1][0] == 1 and a[2][0] == 1:\n",
    "        return 'A'\n",
    "    if a[0][1] == 1 and a[1][1] == 1 and a[2][1] == 1:\n",
    "        return 'A'\n",
    "    if a[0][2] == 1 and a[1][2] == 1 and a[2][2] == 1:\n",
    "        return 'A'\n",
    "    if a[2][0] == 1 and a[1][1] == 1 and a[0][2] == 1:\n",
    "        return 'A'\n",
    "    y = 0\n",
    "    if a[0][0] == 0 and a[1][1] == 0 and a[2][2] == 0:\n",
    "        return 'B'\n",
    "    if a[0][0] == 0 and a[1][0] == 0 and a[2][0] == 0:\n",
    "        return 'B'\n",
    "    if a[0][1] == 0 and a[1][1] == 0 and a[2][1] == 0:\n",
    "        return 'B'\n",
    "    if a[0][2] == 0 and a[1][2] == 0 and a[2][2] == 0:\n",
    "        return 'B'\n",
    "    if a[2][0] == 0 and a[1][1] == 0 and a[0][2] == 0:\n",
    "        return 'B'\n",
    "    \n",
    "    for i in range(len(a)):\n",
    "        x = a[i].count(1)\n",
    "        if x == 3:\n",
    "            return 'A'\n",
    "        y = a[i].count(0)\n",
    "        if y == 3:\n",
    "            return 'B'\n",
    "    if len(moves) < 9:\n",
    "        return 'Pending'\n",
    "    return 'Draw'\n",
    "\n",
    "print(tictactoe([[0,0],[1,1]]))"
   ]
  },
  {
   "cell_type": "code",
   "execution_count": null,
   "metadata": {},
   "outputs": [],
   "source": []
  }
 ],
 "metadata": {
  "kernelspec": {
   "display_name": "Python 3",
   "language": "python",
   "name": "python3"
  },
  "language_info": {
   "codemirror_mode": {
    "name": "ipython",
    "version": 3
   },
   "file_extension": ".py",
   "mimetype": "text/x-python",
   "name": "python",
   "nbconvert_exporter": "python",
   "pygments_lexer": "ipython3",
   "version": "3.6.8"
  }
 },
 "nbformat": 4,
 "nbformat_minor": 2
}
