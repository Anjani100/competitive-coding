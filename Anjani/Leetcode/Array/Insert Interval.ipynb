{
 "cells": [
  {
   "cell_type": "code",
   "execution_count": 144,
   "metadata": {},
   "outputs": [
    {
     "name": "stdout",
     "output_type": "stream",
     "text": [
      "[[0, 6], [9, 12]]\n"
     ]
    }
   ],
   "source": [
    "def insert(intervals, newInterval):\n",
    "    if intervals == []:\n",
    "        return [newInterval]\n",
    "    if len(intervals) == 1:\n",
    "        if newInterval[0] < intervals[0][0] and newInterval[1] < intervals[0][0]:\n",
    "            intervals.insert(0, newInterval)\n",
    "        elif newInterval[0] > intervals[0][1]:\n",
    "            intervals.append(newInterval)\n",
    "        else:\n",
    "            intervals[0][0] = min(intervals[0][0], newInterval[0])\n",
    "            intervals[0][1] = max(intervals[0][1], newInterval[1])\n",
    "        return intervals\n",
    "    \n",
    "    if newInterval[0] > intervals[-1][1]:\n",
    "        intervals.append(newInterval)\n",
    "        return intervals\n",
    "    elif newInterval[0] <= intervals[-1][1] and newInterval[0] > intervals[-1][0] and newInterval[1] > intervals[-1][1]:\n",
    "        intervals[-1][1] = newInterval[1]\n",
    "        return intervals\n",
    "    elif newInterval[0] <= intervals[-1][0] and newInterval[1] > intervals[-1][1] and newInterval[0] > intervals[-2][1]:\n",
    "        intervals[-1][0] = newInterval[0]\n",
    "        intervals[-1][1] = newInterval[1]\n",
    "        return intervals\n",
    "    \n",
    "    large = intervals[-1][1]\n",
    "    for i in range(len(intervals)):\n",
    "        if newInterval[0] <= intervals[i][0] or newInterval[0] <= intervals[i][1]:\n",
    "            small = i\n",
    "            break\n",
    "    \n",
    "    for i in range(len(intervals)):\n",
    "        if newInterval[1] <= intervals[i][0] or newInterval[1] <= intervals[i][1]:\n",
    "            large = i\n",
    "            break\n",
    "    \n",
    "    if small == large:\n",
    "        if newInterval[1] < intervals[small][0]:\n",
    "            intervals.insert(small, newInterval)\n",
    "            return intervals\n",
    "        elif newInterval[0] > intervals[small - 1][1] and newInterval[1] > intervals[large][0]:\n",
    "            intervals[large][0] = min(newInterval[0], intervals[large][0])\n",
    "            intervals[large][1] = max(newInterval[1], intervals[large][1])\n",
    "            return intervals\n",
    "        elif newInterval[0] < intervals[small][0]:\n",
    "            intervals[small][0] = newInterval[0]\n",
    "        return intervals\n",
    "        \n",
    "    i = 0\n",
    "    count = 0\n",
    "    flag = 0\n",
    "    while i < len(intervals) - 1:\n",
    "        if i > small and i < large:\n",
    "            count += 1\n",
    "        i += 1\n",
    "    while count > 0:\n",
    "        flag = 1\n",
    "        intervals.pop(small + 1)\n",
    "        count -= 1\n",
    "    if large - small == 1:\n",
    "        if intervals[small][1] >= newInterval[0] and intervals[large][0] > newInterval[1]:\n",
    "            intervals[small][1] = max(newInterval[1], intervals[small][1])\n",
    "            intervals[small][0] = min(newInterval[0], intervals[small][0])\n",
    "        elif intervals[small][1] >= newInterval[0] and intervals[large][0] <= newInterval[1]:\n",
    "            intervals[small][1] = max(intervals[large][1], newInterval[1])\n",
    "            intervals.pop(large)\n",
    "        \n",
    "    else:\n",
    "        intervals[small][0] = min(newInterval[0], intervals[small][0])\n",
    "        intervals[small][1] = max(newInterval[1], intervals[small + 1][1])\n",
    "        intervals.pop(small + 1)\n",
    "    return intervals\n",
    "\n",
    "print(insert([[1, 5], [9, 12]], [0, 6]))"
   ]
  },
  {
   "cell_type": "code",
   "execution_count": null,
   "metadata": {},
   "outputs": [],
   "source": []
  }
 ],
 "metadata": {
  "kernelspec": {
   "display_name": "Python 3",
   "language": "python",
   "name": "python3"
  },
  "language_info": {
   "codemirror_mode": {
    "name": "ipython",
    "version": 3
   },
   "file_extension": ".py",
   "mimetype": "text/x-python",
   "name": "python",
   "nbconvert_exporter": "python",
   "pygments_lexer": "ipython3",
   "version": "3.6.8"
  }
 },
 "nbformat": 4,
 "nbformat_minor": 2
}
