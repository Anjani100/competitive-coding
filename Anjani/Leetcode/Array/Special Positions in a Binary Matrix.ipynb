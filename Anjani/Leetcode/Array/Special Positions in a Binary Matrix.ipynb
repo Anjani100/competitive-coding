{
 "cells": [
  {
   "cell_type": "code",
   "execution_count": 12,
   "metadata": {},
   "outputs": [
    {
     "name": "stdout",
     "output_type": "stream",
     "text": [
      "3\n"
     ]
    }
   ],
   "source": [
    "def numSpecial(mat):\n",
    "    m = len(mat)\n",
    "    n = len(mat[0])\n",
    "    count = 0\n",
    "    for i in range(m):\n",
    "        flag = True\n",
    "        if mat[i].count(1) == 1:\n",
    "            j = mat[i].index(1)\n",
    "            for k in range(m):\n",
    "                if mat[k][j] == 1 and k != i:\n",
    "                    flag = False\n",
    "            if flag:\n",
    "                count += 1\n",
    "    return count\n",
    "\n",
    "print(numSpecial([[0,0,0,0,0],\n",
    "                  [1,0,0,0,0],\n",
    "                  [0,1,0,0,0],\n",
    "                  [0,0,1,0,0],\n",
    "                  [0,0,0,1,1]]))"
   ]
  },
  {
   "cell_type": "code",
   "execution_count": null,
   "metadata": {},
   "outputs": [],
   "source": []
  }
 ],
 "metadata": {
  "kernelspec": {
   "display_name": "Python 3",
   "language": "python",
   "name": "python3"
  },
  "language_info": {
   "codemirror_mode": {
    "name": "ipython",
    "version": 3
   },
   "file_extension": ".py",
   "mimetype": "text/x-python",
   "name": "python",
   "nbconvert_exporter": "python",
   "pygments_lexer": "ipython3",
   "version": "3.6.8"
  }
 },
 "nbformat": 4,
 "nbformat_minor": 2
}
