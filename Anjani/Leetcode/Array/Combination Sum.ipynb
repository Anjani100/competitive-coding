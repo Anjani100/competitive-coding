{
 "cells": [
  {
   "cell_type": "code",
   "execution_count": null,
   "metadata": {},
   "outputs": [],
   "source": [
    "from itertools import combinations\n",
    "\n",
    "def combinationSum(candidates, target):\n",
    "    a = []\n",
    "    res = []\n",
    "    for candidate in candidates:\n",
    "        s = [candidate] * (target // candidate)\n",
    "        a.extend(s)\n",
    "    for i in range(1, target // min(candidates) + 1):\n",
    "        comb_a = combinations(a, i)\n",
    "        for j in list(comb_a):\n",
    "            if sum(j) == target and list(j) not in res:\n",
    "                res.append(list(j))\n",
    "    return res\n",
    "\n",
    "print(combinationSum([5,10,8,4,3,12,9], 200))"
   ]
  },
  {
   "cell_type": "code",
   "execution_count": null,
   "metadata": {},
   "outputs": [],
   "source": [
    "a = [1, 1, 2]\n",
    "b = [1, 2, 1]\n",
    "s = [a]\n",
    "if b in s:\n",
    "    print(1)"
   ]
  },
  {
   "cell_type": "code",
   "execution_count": null,
   "metadata": {},
   "outputs": [],
   "source": []
  }
 ],
 "metadata": {
  "kernelspec": {
   "display_name": "Python 3",
   "language": "python",
   "name": "python3"
  },
  "language_info": {
   "codemirror_mode": {
    "name": "ipython",
    "version": 3
   },
   "file_extension": ".py",
   "mimetype": "text/x-python",
   "name": "python",
   "nbconvert_exporter": "python",
   "pygments_lexer": "ipython3",
   "version": "3.6.8"
  }
 },
 "nbformat": 4,
 "nbformat_minor": 2
}
