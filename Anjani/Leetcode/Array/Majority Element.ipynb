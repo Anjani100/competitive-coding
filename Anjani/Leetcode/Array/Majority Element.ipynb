{
 "cells": [
  {
   "cell_type": "code",
   "execution_count": 9,
   "metadata": {},
   "outputs": [
    {
     "name": "stdout",
     "output_type": "stream",
     "text": [
      "2\n"
     ]
    }
   ],
   "source": [
    "# Brute-force approach (Time: O(n); Space: O(n)): Using Python's set function\n",
    "def majorityElement(nums):\n",
    "    a = set(nums)\n",
    "    max_count = 0\n",
    "    for i in a:\n",
    "        count = nums.count(i)\n",
    "        if count > max_count:\n",
    "            max_count = count\n",
    "            res = i\n",
    "    return res\n",
    "\n",
    "print(majorityElement([2, 2, 1, 1, 1, 2, 2]))"
   ]
  },
  {
   "cell_type": "code",
   "execution_count": 17,
   "metadata": {},
   "outputs": [
    {
     "name": "stdout",
     "output_type": "stream",
     "text": [
      "3\n"
     ]
    }
   ],
   "source": [
    "# Optimized approach (Time: O(n); Space: O(n))\n",
    "def majorityElement(nums):\n",
    "    dict_nums = {}\n",
    "    res = count = 0\n",
    "    for i in range(len(nums)):\n",
    "        if nums[i] in dict_nums:\n",
    "            dict_nums[nums[i]] += 1\n",
    "        else:\n",
    "            dict_nums[nums[i]] = 1\n",
    "    for i in dict_nums:\n",
    "        if dict_nums[i] > count:\n",
    "            count = dict_nums[i]\n",
    "            res = i\n",
    "    return res\n",
    "\n",
    "print(majorityElement([3, 2, 3]))"
   ]
  },
  {
   "cell_type": "code",
   "execution_count": 18,
   "metadata": {},
   "outputs": [
    {
     "name": "stdout",
     "output_type": "stream",
     "text": [
      "3\n"
     ]
    }
   ],
   "source": [
    "# A better approach (Time: O(nlogn); Space: O(1))\n",
    "def majorityElement(nums):\n",
    "    nums.sort()\n",
    "    return nums[len(nums) // 2]\n",
    "\n",
    "print(majorityElement([3, 2, 3]))"
   ]
  },
  {
   "cell_type": "code",
   "execution_count": null,
   "metadata": {},
   "outputs": [],
   "source": []
  }
 ],
 "metadata": {
  "kernelspec": {
   "display_name": "Python 3",
   "language": "python",
   "name": "python3"
  },
  "language_info": {
   "codemirror_mode": {
    "name": "ipython",
    "version": 3
   },
   "file_extension": ".py",
   "mimetype": "text/x-python",
   "name": "python",
   "nbconvert_exporter": "python",
   "pygments_lexer": "ipython3",
   "version": "3.6.8"
  }
 },
 "nbformat": 4,
 "nbformat_minor": 2
}
