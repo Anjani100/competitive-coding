{
 "cells": [
  {
   "cell_type": "code",
   "execution_count": 13,
   "metadata": {},
   "outputs": [
    {
     "name": "stdout",
     "output_type": "stream",
     "text": [
      "False\n"
     ]
    }
   ],
   "source": [
    "def canThreePartsEqualSum(A):\n",
    "    s = sum(A)\n",
    "    flag = 0\n",
    "    if s % 3 != 0:\n",
    "        return False\n",
    "    r = s // 3\n",
    "    s = i = 0\n",
    "    while i < len(A):\n",
    "        s += A[i]\n",
    "        if s == r:\n",
    "            i += 1\n",
    "            break\n",
    "        i += 1\n",
    "    s = 0\n",
    "    while i < len(A):\n",
    "        s += A[i]\n",
    "        if s == r:\n",
    "            i += 1\n",
    "            break\n",
    "        i += 1\n",
    "    s = 0\n",
    "    while i < len(A):\n",
    "        flag = 1\n",
    "        s += A[i]\n",
    "        i += 1\n",
    "    if flag == 1:\n",
    "        if s == r:\n",
    "            return True\n",
    "    return False\n",
    "\n",
    "print(canThreePartsEqualSum([1,-1,1,-1]))"
   ]
  },
  {
   "cell_type": "code",
   "execution_count": null,
   "metadata": {},
   "outputs": [],
   "source": []
  }
 ],
 "metadata": {
  "kernelspec": {
   "display_name": "Python 3",
   "language": "python",
   "name": "python3"
  },
  "language_info": {
   "codemirror_mode": {
    "name": "ipython",
    "version": 3
   },
   "file_extension": ".py",
   "mimetype": "text/x-python",
   "name": "python",
   "nbconvert_exporter": "python",
   "pygments_lexer": "ipython3",
   "version": "3.6.8"
  }
 },
 "nbformat": 4,
 "nbformat_minor": 2
}
