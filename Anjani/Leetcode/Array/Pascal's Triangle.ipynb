{
 "cells": [
  {
   "cell_type": "code",
   "execution_count": 17,
   "metadata": {},
   "outputs": [
    {
     "data": {
      "text/plain": [
       "[[1]]"
      ]
     },
     "execution_count": 17,
     "metadata": {},
     "output_type": "execute_result"
    }
   ],
   "source": [
    "def generate(numRows):\n",
    "    if numRows <= 0:\n",
    "        return []\n",
    "    elif numRows == 1:\n",
    "        return [[1]]\n",
    "    elif numRows == 2:\n",
    "        return [[1], [1, 1]]\n",
    "    a = [[1], [1, 1]]\n",
    "    for i in range(2, numRows):\n",
    "        s = a[i - 1]\n",
    "        arr = [1]\n",
    "        for j in range(len(s) - 1):\n",
    "            sum = s[j] + s[j + 1]\n",
    "            arr.append(sum)\n",
    "        arr.append(1)\n",
    "        a.append(arr)\n",
    "    return a\n",
    "\n",
    "generate(1)"
   ]
  },
  {
   "cell_type": "code",
   "execution_count": null,
   "metadata": {},
   "outputs": [],
   "source": []
  }
 ],
 "metadata": {
  "kernelspec": {
   "display_name": "Python 3",
   "language": "python",
   "name": "python3"
  },
  "language_info": {
   "codemirror_mode": {
    "name": "ipython",
    "version": 3
   },
   "file_extension": ".py",
   "mimetype": "text/x-python",
   "name": "python",
   "nbconvert_exporter": "python",
   "pygments_lexer": "ipython3",
   "version": "3.6.8"
  }
 },
 "nbformat": 4,
 "nbformat_minor": 2
}
