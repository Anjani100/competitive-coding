{
 "cells": [
  {
   "cell_type": "code",
   "execution_count": 21,
   "metadata": {},
   "outputs": [
    {
     "name": "stdout",
     "output_type": "stream",
     "text": [
      "[5, 6]\n"
     ]
    }
   ],
   "source": [
    "# Brute-force approach (Time: O(n^2); Space: O(1))\n",
    "def findDisappearedNumbers(nums):\n",
    "    if not nums:\n",
    "        return []\n",
    "    s = set(nums)\n",
    "    res = []\n",
    "    for i in range(1, len(nums) + 1):\n",
    "        if i not in s:\n",
    "            res.append(i)\n",
    "    return res\n",
    "print(findDisappearedNumbers([4, 3, 2, 7, 8, 2, 3, 1]))"
   ]
  },
  {
   "cell_type": "code",
   "execution_count": 18,
   "metadata": {},
   "outputs": [
    {
     "name": "stdout",
     "output_type": "stream",
     "text": [
      "[5, 6]\n"
     ]
    }
   ],
   "source": [
    "# Optimized approach (Time: O(nlogn); Space: O(1))\n",
    "def findDisappearedNumbers(nums):\n",
    "    res = []\n",
    "    nums.sort()\n",
    "    for i in range(1, len(nums) + 1):\n",
    "        b = 0\n",
    "        l = len(nums) - 1\n",
    "        flag = 0\n",
    "        while b <= l and i >= nums[b] and i <= nums[l]:\n",
    "            pos = b + int( ((i - nums[b]) * (l - b)) / (nums[l] - nums[b]) )\n",
    "            if nums[pos] == i:\n",
    "                flag = 1\n",
    "                break\n",
    "            elif nums[pos] < i:\n",
    "                b = pos + 1\n",
    "            else:\n",
    "                l = pos - 1\n",
    "        if flag == 0:\n",
    "            res.append(i)\n",
    "    return res\n",
    "        \n",
    "print(findDisappearedNumbers([4, 3, 2, 7, 8, 2, 3, 1]))"
   ]
  },
  {
   "cell_type": "code",
   "execution_count": 20,
   "metadata": {},
   "outputs": [
    {
     "name": "stdout",
     "output_type": "stream",
     "text": [
      "[5, 6]\n"
     ]
    }
   ],
   "source": [
    "# Optimized approach (Time: O(n); Space: O(1))\n",
    "def findDisappearedNumbers(nums):\n",
    "    return list(set([i for i in range(1, len(nums)+1)]) - set(nums))\n",
    "\n",
    "print(findDisappearedNumbers([4, 3, 2, 7, 8, 2, 3, 1]))"
   ]
  },
  {
   "cell_type": "code",
   "execution_count": null,
   "metadata": {},
   "outputs": [],
   "source": []
  }
 ],
 "metadata": {
  "kernelspec": {
   "display_name": "Python 3",
   "language": "python",
   "name": "python3"
  },
  "language_info": {
   "codemirror_mode": {
    "name": "ipython",
    "version": 3
   },
   "file_extension": ".py",
   "mimetype": "text/x-python",
   "name": "python",
   "nbconvert_exporter": "python",
   "pygments_lexer": "ipython3",
   "version": "3.6.8"
  }
 },
 "nbformat": 4,
 "nbformat_minor": 2
}
