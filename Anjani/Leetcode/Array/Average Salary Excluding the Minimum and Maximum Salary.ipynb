{
 "cells": [
  {
   "cell_type": "code",
   "execution_count": 4,
   "metadata": {},
   "outputs": [
    {
     "name": "stdout",
     "output_type": "stream",
     "text": [
      "4750.0\n"
     ]
    }
   ],
   "source": [
    "def average(salary):\n",
    "    salary.remove(max(salary))\n",
    "    salary.remove(min(salary))\n",
    "    return sum(salary) / len(salary)\n",
    "\n",
    "print(average([8000,9000,2000,3000,6000,1000]))"
   ]
  },
  {
   "cell_type": "code",
   "execution_count": 5,
   "metadata": {},
   "outputs": [
    {
     "name": "stdout",
     "output_type": "stream",
     "text": [
      "4750.0\n"
     ]
    }
   ],
   "source": [
    "def average(salary):\n",
    "    salary.sort()\n",
    "    salary.pop()\n",
    "    salary.pop(0)\n",
    "    return sum(salary) / len(salary)\n",
    "\n",
    "print(average([8000,9000,2000,3000,6000,1000]))"
   ]
  },
  {
   "cell_type": "code",
   "execution_count": null,
   "metadata": {},
   "outputs": [],
   "source": []
  }
 ],
 "metadata": {
  "kernelspec": {
   "display_name": "Python 3",
   "language": "python",
   "name": "python3"
  },
  "language_info": {
   "codemirror_mode": {
    "name": "ipython",
    "version": 3
   },
   "file_extension": ".py",
   "mimetype": "text/x-python",
   "name": "python",
   "nbconvert_exporter": "python",
   "pygments_lexer": "ipython3",
   "version": "3.6.8"
  }
 },
 "nbformat": 4,
 "nbformat_minor": 2
}
