{
 "cells": [
  {
   "cell_type": "code",
   "execution_count": 23,
   "metadata": {},
   "outputs": [
    {
     "name": "stdout",
     "output_type": "stream",
     "text": [
      "False\n"
     ]
    }
   ],
   "source": [
    "def searchMatrix(matrix, target):\n",
    "    if matrix == [] or matrix == [[]]:\n",
    "        return False\n",
    "    index = 0\n",
    "    for i in range(len(matrix)):\n",
    "        if matrix[i][-1] >= target:\n",
    "            index = i\n",
    "            break\n",
    "    if target in matrix[index]:\n",
    "        return True\n",
    "    else:\n",
    "        return False\n",
    "\n",
    "print(searchMatrix([[]], 1))"
   ]
  },
  {
   "cell_type": "code",
   "execution_count": null,
   "metadata": {},
   "outputs": [],
   "source": []
  }
 ],
 "metadata": {
  "kernelspec": {
   "display_name": "Python 3",
   "language": "python",
   "name": "python3"
  },
  "language_info": {
   "codemirror_mode": {
    "name": "ipython",
    "version": 3
   },
   "file_extension": ".py",
   "mimetype": "text/x-python",
   "name": "python",
   "nbconvert_exporter": "python",
   "pygments_lexer": "ipython3",
   "version": "3.6.8"
  }
 },
 "nbformat": 4,
 "nbformat_minor": 2
}
