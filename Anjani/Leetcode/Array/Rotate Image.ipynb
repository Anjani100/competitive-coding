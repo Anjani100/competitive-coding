{
 "cells": [
  {
   "cell_type": "code",
   "execution_count": 39,
   "metadata": {},
   "outputs": [
    {
     "name": "stdout",
     "output_type": "stream",
     "text": [
      "[[7, 4, 1], [8, 5, 2], [9, 6, 3]]\n"
     ]
    }
   ],
   "source": [
    "# Brute-force approach (Using extra space) (Time: O(n^2); Space: O(n^2))\n",
    "def rotate(matrix):\n",
    "    res = [[0 for i in range(len(matrix))] for j in range(len(matrix))]\n",
    "    k = len(matrix) - 1\n",
    "    for i in range(len(matrix)):\n",
    "        for j in range(len(matrix)):\n",
    "            res[j][k] = matrix[i][j]\n",
    "        k -= 1\n",
    "    for i in range(len(matrix)):\n",
    "        for j in range(len(matrix)):\n",
    "            matrix[i][j] = res[i][j]\n",
    "\n",
    "matrix = [[1,2,3],[4,5,6],[7,8,9]]\n",
    "rotate(matrix)\n",
    "print(matrix)"
   ]
  },
  {
   "cell_type": "code",
   "execution_count": 40,
   "metadata": {},
   "outputs": [
    {
     "name": "stdout",
     "output_type": "stream",
     "text": [
      "[[7, 4, 1], [8, 5, 2], [9, 6, 3]]\n"
     ]
    }
   ],
   "source": [
    "# Optimized approach (Time: O(n^2); Space: O(1))\n",
    "def rotate(matrix):\n",
    "    for i in range(int(len(matrix) / 2)):\n",
    "        for j in range(i, len(matrix) - i - 1):\n",
    "            temp = matrix[i][j]\n",
    "            matrix[i][j] = matrix[len(matrix) - j - 1][i]\n",
    "            matrix[len(matrix) - j - 1][i] = matrix[len(matrix) - i - 1][len(matrix) - j - 1]\n",
    "            matrix[len(matrix) - i - 1][len(matrix) - j - 1] = matrix[j][len(matrix) - i - 1]\n",
    "            matrix[j][len(matrix) - i - 1] = temp\n",
    "\n",
    "matrix = [[1,2,3],[4,5,6],[7,8,9]]\n",
    "rotate(matrix)\n",
    "print(matrix)"
   ]
  },
  {
   "cell_type": "code",
   "execution_count": null,
   "metadata": {},
   "outputs": [],
   "source": []
  }
 ],
 "metadata": {
  "kernelspec": {
   "display_name": "Python 3",
   "language": "python",
   "name": "python3"
  },
  "language_info": {
   "codemirror_mode": {
    "name": "ipython",
    "version": 3
   },
   "file_extension": ".py",
   "mimetype": "text/x-python",
   "name": "python",
   "nbconvert_exporter": "python",
   "pygments_lexer": "ipython3",
   "version": "3.6.8"
  }
 },
 "nbformat": 4,
 "nbformat_minor": 2
}
