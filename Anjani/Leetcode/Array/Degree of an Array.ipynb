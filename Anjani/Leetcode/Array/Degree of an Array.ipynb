{
 "cells": [
  {
   "cell_type": "code",
   "execution_count": 14,
   "metadata": {},
   "outputs": [
    {
     "name": "stdout",
     "output_type": "stream",
     "text": [
      "6\n"
     ]
    }
   ],
   "source": [
    "# Brute-force approach (Time: O(n^3); Space: O(n))\n",
    "def findShortestSubArray(nums):\n",
    "    def degree(a):\n",
    "        s = set(a)\n",
    "        max_degree = degree = 0\n",
    "        for i in s:\n",
    "            degree = a.count(i)\n",
    "            if degree > max_degree:\n",
    "                max_degree = degree\n",
    "        return max_degree\n",
    "    \n",
    "    degree_nums = degree(nums)\n",
    "    min_degree = pow(2, 31)\n",
    "    for i in range(len(nums)):\n",
    "        for j in range(i + 1, len(nums) + 1):\n",
    "            sub_degree = degree(nums[i:j])\n",
    "            if sub_degree == degree_nums:\n",
    "                min_degree = min(min_degree, j - i)\n",
    "    return min_degree\n",
    "\n",
    "print(findShortestSubArray([1, 2, 2, 3, 1, 4, 2]))"
   ]
  },
  {
   "cell_type": "code",
   "execution_count": 31,
   "metadata": {},
   "outputs": [
    {
     "name": "stdout",
     "output_type": "stream",
     "text": [
      "2\n"
     ]
    }
   ],
   "source": [
    "# Optimized approach (Time: O(n^2); Space: O(n))\n",
    "def findShortestSubArray(nums):\n",
    "    s = set(nums)\n",
    "    max_degree = 0\n",
    "    vals = []\n",
    "    for i in s:\n",
    "        degree = nums.count(i)\n",
    "        if degree > max_degree:\n",
    "            max_degree = degree\n",
    "            vals = [i]\n",
    "        elif degree == max_degree:\n",
    "            vals.append(i)\n",
    "    min_len_sub_array = pow(2, 31)\n",
    "    for val in vals:\n",
    "        start = nums.index(val)\n",
    "        end = len(nums) - nums[::-1].index(val) - 1\n",
    "        len_sub_array = end - start + 1\n",
    "        if len_sub_array < min_len_sub_array:\n",
    "            min_len_sub_array = len_sub_array\n",
    "    return min_len_sub_array\n",
    "    \n",
    "\n",
    "print(findShortestSubArray([1, 2, 2, 3, 1]))"
   ]
  },
  {
   "cell_type": "code",
   "execution_count": null,
   "metadata": {},
   "outputs": [],
   "source": []
  }
 ],
 "metadata": {
  "kernelspec": {
   "display_name": "Python 3",
   "language": "python",
   "name": "python3"
  },
  "language_info": {
   "codemirror_mode": {
    "name": "ipython",
    "version": 3
   },
   "file_extension": ".py",
   "mimetype": "text/x-python",
   "name": "python",
   "nbconvert_exporter": "python",
   "pygments_lexer": "ipython3",
   "version": "3.6.8"
  }
 },
 "nbformat": 4,
 "nbformat_minor": 2
}
