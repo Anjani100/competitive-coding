{
 "cells": [
  {
   "cell_type": "code",
   "execution_count": 29,
   "metadata": {},
   "outputs": [
    {
     "name": "stdout",
     "output_type": "stream",
     "text": [
      "a\n"
     ]
    }
   ],
   "source": [
    "class Solution:\n",
    "    def longestCommonPrefix(self, strs: List[str]) -> str:\n",
    "        if strs == []:\n",
    "            return \"\"\n",
    "        if len(strs) == 1:\n",
    "            return strs[0]\n",
    "        if \"\" in strs:\n",
    "            return \"\"\n",
    "        s = strs[0][0]\n",
    "        min_len = 9999\n",
    "        for i in strs:\n",
    "            min_len = min(len(i), min_len)\n",
    "        r = \"\"\n",
    "        j = 0\n",
    "        i = 0\n",
    "        while j < min_len:\n",
    "            if strs[i][j] != s:\n",
    "                break\n",
    "            s = strs[i][j]\n",
    "            i += 1\n",
    "            if i == len(strs):\n",
    "                i = 0\n",
    "                j += 1\n",
    "                r += s\n",
    "                if j < min_len:\n",
    "                    s = strs[0][j]\n",
    "        return r"
   ]
  },
  {
   "cell_type": "code",
   "execution_count": null,
   "metadata": {},
   "outputs": [],
   "source": []
  }
 ],
 "metadata": {
  "kernelspec": {
   "display_name": "Python 3",
   "language": "python",
   "name": "python3"
  },
  "language_info": {
   "codemirror_mode": {
    "name": "ipython",
    "version": 3
   },
   "file_extension": ".py",
   "mimetype": "text/x-python",
   "name": "python",
   "nbconvert_exporter": "python",
   "pygments_lexer": "ipython3",
   "version": "3.6.8"
  }
 },
 "nbformat": 4,
 "nbformat_minor": 2
}
