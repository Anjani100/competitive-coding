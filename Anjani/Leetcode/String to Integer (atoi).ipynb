{
 "cells": [
  {
   "cell_type": "code",
   "execution_count": 41,
   "metadata": {},
   "outputs": [],
   "source": [
    "class Solution:\n",
    "    def myAtoi(self, str: str) -> int:\n",
    "        if len(str) == 0:\n",
    "            return 0\n",
    "        flag = 0\n",
    "        for i in str:\n",
    "            if i.isdigit():\n",
    "                flag = 1\n",
    "        if not flag:\n",
    "            return 0\n",
    "        s = str.split()\n",
    "        r = \"\"\n",
    "        if s[0][0].isalpha():\n",
    "            return 0\n",
    "        if len(s[0]) == 1 and not s[0][0].isdigit():\n",
    "            return 0\n",
    "        if (not s[0][0].isdigit()) and (not s[0][1].isdigit()):\n",
    "            return 0\n",
    "        if s[0][0].isdigit() or s[0][0] == '-' or s[0][0] == '+':\n",
    "            for j in range(len(s[0])):\n",
    "                if j == 0 and (s[0][0] == '-' or s[0][0] == '+'):\n",
    "                    r += s[0][0]\n",
    "                elif s[0][j].isdigit():\n",
    "                    r += s[0][j]\n",
    "                else:\n",
    "                    break\n",
    "            if int(r) < -2147483648:\n",
    "                r = -2147483648\n",
    "            elif int(r) > 2147483647:\n",
    "                r = 2147483647\n",
    "            return int(r)\n",
    "        else:\n",
    "            return 0"
   ]
  },
  {
   "cell_type": "code",
   "execution_count": null,
   "metadata": {},
   "outputs": [],
   "source": []
  }
 ],
 "metadata": {
  "kernelspec": {
   "display_name": "Python 3",
   "language": "python",
   "name": "python3"
  },
  "language_info": {
   "codemirror_mode": {
    "name": "ipython",
    "version": 3
   },
   "file_extension": ".py",
   "mimetype": "text/x-python",
   "name": "python",
   "nbconvert_exporter": "python",
   "pygments_lexer": "ipython3",
   "version": "3.6.8"
  }
 },
 "nbformat": 4,
 "nbformat_minor": 2
}
