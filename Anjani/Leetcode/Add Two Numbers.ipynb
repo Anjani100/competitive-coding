{
 "cells": [
  {
   "cell_type": "code",
   "execution_count": null,
   "metadata": {},
   "outputs": [],
   "source": [
    "# Definition for singly-linked list.\n",
    "# class ListNode:\n",
    "#     def __init__(self, x):\n",
    "#         self.val = x\n",
    "#         self.next = None\n",
    "\n",
    "class Solution:\n",
    "    def addTwoNumbers(self, l1: ListNode, l2: ListNode) -> ListNode:\n",
    "        first_number = \"\"\n",
    "        while l1 is not None:\n",
    "            first_number += str(l1.val)\n",
    "            l1 = l1.next\n",
    "        second_number = \"\"\n",
    "        while l2 is not None:\n",
    "            second_number += str(l2.val)\n",
    "            l2 = l2.next\n",
    "        first_number = int(first_number[::-1])\n",
    "        second_number = int(second_number[::-1])\n",
    "        result = str(first_number + second_number)\n",
    "        node = None\n",
    "        for i in result:\n",
    "            new_node = ListNode(i)\n",
    "            new_node.next = node\n",
    "            node = new_node\n",
    "        return node"
   ]
  }
 ],
 "metadata": {
  "kernelspec": {
   "display_name": "Python 3",
   "language": "python",
   "name": "python3"
  },
  "language_info": {
   "codemirror_mode": {
    "name": "ipython",
    "version": 3
   },
   "file_extension": ".py",
   "mimetype": "text/x-python",
   "name": "python",
   "nbconvert_exporter": "python",
   "pygments_lexer": "ipython3",
   "version": "3.6.8"
  }
 },
 "nbformat": 4,
 "nbformat_minor": 2
}
