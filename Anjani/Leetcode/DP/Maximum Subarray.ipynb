{
 "cells": [
  {
   "cell_type": "code",
   "execution_count": 1,
   "metadata": {},
   "outputs": [],
   "source": [
    "def max_sub_array(nums):\n",
    "    max_sum = nums[0]\n",
    "    for i in range(1, len(nums)):\n",
    "        if (nums[i - 1] + nums[i]) > nums[i]:\n",
    "            nums[i] = nums[i - 1] + nums[i]\n",
    "        max_sum = max(max_sum, nums[i])\n",
    "    return max_sum"
   ]
  },
  {
   "cell_type": "code",
   "execution_count": null,
   "metadata": {},
   "outputs": [],
   "source": [
    "nums = -2 1 -3 4 -1 2 1 -5 4\n",
    "       -2 1 -2 4  3 5 6  1 5"
   ]
  }
 ],
 "metadata": {
  "kernelspec": {
   "display_name": "Python 3",
   "language": "python",
   "name": "python3"
  },
  "language_info": {
   "codemirror_mode": {
    "name": "ipython",
    "version": 3
   },
   "file_extension": ".py",
   "mimetype": "text/x-python",
   "name": "python",
   "nbconvert_exporter": "python",
   "pygments_lexer": "ipython3",
   "version": "3.6.8"
  }
 },
 "nbformat": 4,
 "nbformat_minor": 2
}
