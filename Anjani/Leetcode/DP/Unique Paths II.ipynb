{
 "cells": [
  {
   "cell_type": "code",
   "execution_count": null,
   "metadata": {},
   "outputs": [],
   "source": [
    "class Solution:\n",
    "    def uniquePathsWithObstacles(self, obstacleGrid: List[List[int]]) -> int:\n",
    "        if obstacleGrid[0][0] == 1:\n",
    "            return 0\n",
    "        if len(obstacleGrid) == 1 and len(obstacleGrid[0]) == 1:\n",
    "            return 1\n",
    "        m = len(obstacleGrid)\n",
    "        n = len(obstacleGrid[0])\n",
    "        check = False\n",
    "        for i in range(1, m):\n",
    "            if obstacleGrid[i][0] == 1:\n",
    "                check = True\n",
    "            if check:\n",
    "                obstacleGrid[i][0] = -1\n",
    "            else:\n",
    "                obstacleGrid[i][0] = 1\n",
    "        check = False\n",
    "        for i in range(1, n):\n",
    "            if obstacleGrid[0][i] == 1:\n",
    "                check = True\n",
    "            if check:\n",
    "                obstacleGrid[0][i] = -1\n",
    "            else:\n",
    "                obstacleGrid[0][i] = 1\n",
    "        for i in range(1, m):\n",
    "            for j in range(1, n):\n",
    "                if obstacleGrid[i][j] == 1:\n",
    "                    obstacleGrid[i][j] = -1\n",
    "        for i in range(m):\n",
    "            print(obstacleGrid[i])\n",
    "        for i in range(1, m):\n",
    "            for j in range(1, n):\n",
    "                if obstacleGrid[i][j] == -1:\n",
    "                    obstacleGrid[i][j] = 0\n",
    "                else:\n",
    "                    if obstacleGrid[i - 1][j] == -1 and obstacleGrid[i][j - 1] == -1:\n",
    "                        obstacleGrid[i][j] = 0\n",
    "                    elif obstacleGrid[i - 1][j] == -1:\n",
    "                        obstacleGrid[i][j] = obstacleGrid[i][j - 1]\n",
    "                    elif obstacleGrid[i][j - 1] == -1:\n",
    "                        obstacleGrid[i][j] = obstacleGrid[i - 1][j]\n",
    "                    else:\n",
    "                        obstacleGrid[i][j] = obstacleGrid[i - 1][j] + obstacleGrid[i][j - 1]\n",
    "        if obstacleGrid[-1][-1] < 0:\n",
    "            return 0\n",
    "        return obstacleGrid[-1][-1]"
   ]
  }
 ],
 "metadata": {
  "kernelspec": {
   "display_name": "Python 3",
   "language": "python",
   "name": "python3"
  },
  "language_info": {
   "codemirror_mode": {
    "name": "ipython",
    "version": 3
   },
   "file_extension": ".py",
   "mimetype": "text/x-python",
   "name": "python",
   "nbconvert_exporter": "python",
   "pygments_lexer": "ipython3",
   "version": "3.6.8"
  }
 },
 "nbformat": 4,
 "nbformat_minor": 2
}
