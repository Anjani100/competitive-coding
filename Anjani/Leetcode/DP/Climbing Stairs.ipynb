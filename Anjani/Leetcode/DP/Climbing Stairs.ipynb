{
 "cells": [
  {
   "cell_type": "code",
   "execution_count": 2,
   "metadata": {},
   "outputs": [
    {
     "name": "stdout",
     "output_type": "stream",
     "text": [
      "63245986\n"
     ]
    }
   ],
   "source": [
    "# Recursive approach\n",
    "def climbing_stairs(n):\n",
    "    def fib(k):\n",
    "        if k == 0 or k == 1:\n",
    "            return k\n",
    "        return fib(k - 1) + fib(k - 2)\n",
    "    return fib(n + 1)\n",
    "\n",
    "print(climbing_stairs(38))"
   ]
  },
  {
   "cell_type": "code",
   "execution_count": 5,
   "metadata": {},
   "outputs": [
    {
     "name": "stdout",
     "output_type": "stream",
     "text": [
      "1836311903\n"
     ]
    }
   ],
   "source": [
    "# Dynamic (DP) approach\n",
    "def climbing_stairs(n):\n",
    "    arr = [0] * (n + 1)\n",
    "    arr[0] = 1\n",
    "    arr[1] = 1\n",
    "    for i in range(2, n + 1):\n",
    "        arr[i] = arr[i - 1] + arr[i - 2]\n",
    "    return arr[-1]\n",
    "\n",
    "print(climbing_stairs(45))"
   ]
  },
  {
   "cell_type": "code",
   "execution_count": null,
   "metadata": {},
   "outputs": [],
   "source": [
    "  0 1 2 3 4 5\n",
    "0 0 0 0 0 0 0\n",
    "1 1 1 1 1 1 1\n",
    "2 1 1 2 3 5 8 # Follows fibonacci"
   ]
  }
 ],
 "metadata": {
  "kernelspec": {
   "display_name": "Python 3",
   "language": "python",
   "name": "python3"
  },
  "language_info": {
   "codemirror_mode": {
    "name": "ipython",
    "version": 3
   },
   "file_extension": ".py",
   "mimetype": "text/x-python",
   "name": "python",
   "nbconvert_exporter": "python",
   "pygments_lexer": "ipython3",
   "version": "3.6.8"
  }
 },
 "nbformat": 4,
 "nbformat_minor": 2
}
