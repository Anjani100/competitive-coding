{
 "cells": [
  {
   "cell_type": "code",
   "execution_count": 19,
   "metadata": {},
   "outputs": [
    {
     "name": "stdout",
     "output_type": "stream",
     "text": [
      "1 3\n",
      "3 5\n",
      "2 -> 1 -> 4 -> 3 -> 5 -> X\n"
     ]
    }
   ],
   "source": [
    "# Definition for singly-linked list.\n",
    "class ListNode:\n",
    "    def __init__(self, val=0, next=None):\n",
    "        self.val = val\n",
    "        self.next = next\n",
    "\n",
    "def swapPairs(head: ListNode) -> ListNode:\n",
    "    if head is None:\n",
    "        return None\n",
    "    if head.next is None:\n",
    "        return head\n",
    "    temp = head\n",
    "    res = head.next\n",
    "    while temp is not None:\n",
    "        if temp.next is None:\n",
    "            rem.next = temp\n",
    "            break\n",
    "        ptr = temp.next\n",
    "        rem_ptr = ptr.next\n",
    "        if ptr.next is None:\n",
    "            temp.next = ptr.next\n",
    "        else:\n",
    "            temp.next = ptr.next.next\n",
    "        ptr.next = temp\n",
    "        rem = temp\n",
    "        temp = rem_ptr\n",
    "    return res\n",
    "\n",
    "head = ListNode(1)\n",
    "head.next = ListNode(2)\n",
    "head.next.next = ListNode(3)\n",
    "head.next.next.next = ListNode(4)\n",
    "head.next.next.next.next = ListNode(5)\n",
    "head = swapPairs(head)\n",
    "while head is not None:\n",
    "    print(head.val, end = \" -> \")\n",
    "    head = head.next\n",
    "print('X')"
   ]
  },
  {
   "cell_type": "code",
   "execution_count": null,
   "metadata": {},
   "outputs": [],
   "source": [
    "# Definition for singly-linked list.\n",
    "# class ListNode:\n",
    "#     def __init__(self, val=0, next=None):\n",
    "#         self.val = val\n",
    "#         self.next = next\n",
    "class Solution:\n",
    "    def swapPairs(self, head: ListNode) -> ListNode:\n",
    "        if head is None:\n",
    "            return None\n",
    "        if head.next is None:\n",
    "            return head\n",
    "        temp = head\n",
    "        res = head.next\n",
    "        while temp is not None:\n",
    "            if temp.next is None:\n",
    "                rem.next = temp\n",
    "                break\n",
    "            ptr = temp.next\n",
    "            rem_ptr = ptr.next\n",
    "            if ptr.next is None:\n",
    "                temp.next = ptr.next\n",
    "            else:\n",
    "                temp.next = ptr.next.next\n",
    "            ptr.next = temp\n",
    "            rem = temp\n",
    "            temp = rem_ptr\n",
    "        return res"
   ]
  }
 ],
 "metadata": {
  "kernelspec": {
   "display_name": "Python 3",
   "language": "python",
   "name": "python3"
  },
  "language_info": {
   "codemirror_mode": {
    "name": "ipython",
    "version": 3
   },
   "file_extension": ".py",
   "mimetype": "text/x-python",
   "name": "python",
   "nbconvert_exporter": "python",
   "pygments_lexer": "ipython3",
   "version": "3.6.8"
  }
 },
 "nbformat": 4,
 "nbformat_minor": 2
}
