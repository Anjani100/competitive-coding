{
 "cells": [
  {
   "cell_type": "code",
   "execution_count": 24,
   "metadata": {},
   "outputs": [
    {
     "name": "stdout",
     "output_type": "stream",
     "text": [
      "False\n"
     ]
    }
   ],
   "source": [
    "class Solution:\n",
    "    def isValid(self, s: str) -> bool:\n",
    "        arr = []\n",
    "        bracket = {')': '(', '}': '{', ']': '['}\n",
    "        def push(arr, val):\n",
    "            arr.append(val)\n",
    "            return arr\n",
    "        def pop(arr, val):\n",
    "            if len(arr) == 0:\n",
    "                return 'false'\n",
    "            s = arr[-1]\n",
    "            if s == bracket[val]:\n",
    "                arr.pop()\n",
    "                return arr\n",
    "            return 'false'\n",
    "        for i in s:\n",
    "            if i == '(' or i == '{' or i == '[':\n",
    "                arr = push(arr, i)\n",
    "            else:\n",
    "                arr = pop(arr, i)\n",
    "                if arr is 'false':\n",
    "                    return False\n",
    "        if len(arr) > 0:\n",
    "            return False\n",
    "        return True"
   ]
  },
  {
   "cell_type": "code",
   "execution_count": null,
   "metadata": {},
   "outputs": [],
   "source": []
  }
 ],
 "metadata": {
  "kernelspec": {
   "display_name": "Python 3",
   "language": "python",
   "name": "python3"
  },
  "language_info": {
   "codemirror_mode": {
    "name": "ipython",
    "version": 3
   },
   "file_extension": ".py",
   "mimetype": "text/x-python",
   "name": "python",
   "nbconvert_exporter": "python",
   "pygments_lexer": "ipython3",
   "version": "3.6.8"
  }
 },
 "nbformat": 4,
 "nbformat_minor": 2
}
