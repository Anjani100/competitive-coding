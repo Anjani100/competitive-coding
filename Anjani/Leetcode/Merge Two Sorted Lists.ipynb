{
 "cells": [
  {
   "cell_type": "code",
   "execution_count": null,
   "metadata": {},
   "outputs": [],
   "source": [
    "# Definition for singly-linked list.\n",
    "# class ListNode:\n",
    "#     def __init__(self, val=0, next=None):\n",
    "#         self.val = val\n",
    "#         self.next = next\n",
    "class Solution:\n",
    "    def mergeTwoLists(self, l1: ListNode, l2: ListNode) -> ListNode:\n",
    "        l3 = ListNode(0)\n",
    "        temp = l3\n",
    "        while l1 or l2:\n",
    "            if l1 is None:\n",
    "                while l2 is not None:\n",
    "                    temp.next = ListNode(l2.val)\n",
    "                    temp = temp.next\n",
    "                    l2 = l2.next\n",
    "                return l3.next\n",
    "            elif l2 is None:\n",
    "                while l1 is not None:\n",
    "                    temp.next = ListNode(l1.val)\n",
    "                    temp = temp.next\n",
    "                    l1 = l1.next\n",
    "                return l3.next\n",
    "            else:\n",
    "                if l1.val < l2.val:\n",
    "                    temp.next = ListNode(l1.val)\n",
    "                    l1 = l1.next\n",
    "                else:\n",
    "                    temp.next = ListNode(l2.val)\n",
    "                    l2 = l2.next\n",
    "                temp = temp.next\n",
    "        return l3.next"
   ]
  }
 ],
 "metadata": {
  "kernelspec": {
   "display_name": "Python 3",
   "language": "python",
   "name": "python3"
  },
  "language_info": {
   "codemirror_mode": {
    "name": "ipython",
    "version": 3
   },
   "file_extension": ".py",
   "mimetype": "text/x-python",
   "name": "python",
   "nbconvert_exporter": "python",
   "pygments_lexer": "ipython3",
   "version": "3.6.8"
  }
 },
 "nbformat": 4,
 "nbformat_minor": 2
}
