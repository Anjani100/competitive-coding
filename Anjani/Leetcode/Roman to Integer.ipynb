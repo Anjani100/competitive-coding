{
 "cells": [
  {
   "cell_type": "code",
   "execution_count": 16,
   "metadata": {},
   "outputs": [
    {
     "name": "stdout",
     "output_type": "stream",
     "text": [
      "1994\n"
     ]
    }
   ],
   "source": [
    "class Solution:\n",
    "    def romanToInt(self, s: str) -> int:\n",
    "        r = 0\n",
    "        i = 0\n",
    "        while i < len(s):\n",
    "            if s[i] == 'M':\n",
    "                r += 1000\n",
    "            elif s[i] == 'C' and (i + 1 < len(s)) and s[i + 1] == 'M':\n",
    "                r += 900\n",
    "                i += 1\n",
    "            elif s[i] == 'D':\n",
    "                r += 500\n",
    "            elif s[i] == 'C' and (i + 1 < len(s)) and s[i + 1] == 'D':\n",
    "                r += 400\n",
    "                i += 1\n",
    "            elif s[i] == 'C':\n",
    "                r += 100\n",
    "            elif s[i] == 'X' and (i + 1 < len(s)) and s[i + 1] == 'C':\n",
    "                r += 90\n",
    "                i += 1\n",
    "            elif s[i] == 'L':\n",
    "                r += 50\n",
    "            elif s[i] == 'X' and (i + 1 < len(s)) and s[i + 1] == 'L':\n",
    "                r += 40\n",
    "                i += 1\n",
    "            elif s[i] == 'X':\n",
    "                r += 10\n",
    "            elif s[i] == 'I' and (i + 1 < len(s)) and s[i + 1] == 'X':\n",
    "                r += 9\n",
    "                i += 1\n",
    "            elif s[i] == 'V':\n",
    "                r += 5\n",
    "            elif s[i] == 'I' and (i + 1 < len(s)) and s[i + 1] == 'V':\n",
    "                r += 4\n",
    "                i += 1\n",
    "            else:\n",
    "                r += 1\n",
    "            i += 1\n",
    "        return r"
   ]
  },
  {
   "cell_type": "code",
   "execution_count": null,
   "metadata": {},
   "outputs": [],
   "source": [
    "IV IX\n",
    "XL XC\n",
    "CD CM"
   ]
  }
 ],
 "metadata": {
  "kernelspec": {
   "display_name": "Python 3",
   "language": "python",
   "name": "python3"
  },
  "language_info": {
   "codemirror_mode": {
    "name": "ipython",
    "version": 3
   },
   "file_extension": ".py",
   "mimetype": "text/x-python",
   "name": "python",
   "nbconvert_exporter": "python",
   "pygments_lexer": "ipython3",
   "version": "3.6.8"
  }
 },
 "nbformat": 4,
 "nbformat_minor": 2
}
