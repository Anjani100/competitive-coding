{
 "cells": [
  {
   "cell_type": "code",
   "execution_count": null,
   "metadata": {},
   "outputs": [],
   "source": [
    "# Definition for singly-linked list.\n",
    "# class ListNode:\n",
    "#     def __init__(self, val=0, next=None):\n",
    "#         self.val = val\n",
    "#         self.next = next\n",
    "class Solution:\n",
    "    def partition(self, head: ListNode, x: int) -> ListNode:\n",
    "        if not head or not head.next:\n",
    "            return head\n",
    "        temp = slow = head\n",
    "        fast = head.next\n",
    "        while slow.next:\n",
    "            if slow.val < x and slow.next.val < x:\n",
    "                temp = slow = fast\n",
    "                fast = fast.next\n",
    "            else:\n",
    "                break\n",
    "        while slow and fast:\n",
    "            if fast.val >= x:\n",
    "                temp = fast\n",
    "                fast = fast.next\n",
    "            else:\n",
    "                temp.next = fast.next\n",
    "                if slow == head and slow.val >= x:\n",
    "                    fast.next = slow\n",
    "                    head = fast\n",
    "                else:\n",
    "                    fast.next = slow.next\n",
    "                    slow.next = fast\n",
    "                slow = fast\n",
    "                fast = temp.next\n",
    "        return head"
   ]
  },
  {
   "cell_type": "code",
   "execution_count": null,
   "metadata": {},
   "outputs": [],
   "source": []
  }
 ],
 "metadata": {
  "kernelspec": {
   "display_name": "Python 3",
   "language": "python",
   "name": "python3"
  },
  "language_info": {
   "codemirror_mode": {
    "name": "ipython",
    "version": 3
   },
   "file_extension": ".py",
   "mimetype": "text/x-python",
   "name": "python",
   "nbconvert_exporter": "python",
   "pygments_lexer": "ipython3",
   "version": "3.6.8"
  }
 },
 "nbformat": 4,
 "nbformat_minor": 2
}
