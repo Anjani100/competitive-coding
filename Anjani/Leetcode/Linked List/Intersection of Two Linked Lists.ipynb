{
 "cells": [
  {
   "cell_type": "code",
   "execution_count": null,
   "metadata": {},
   "outputs": [],
   "source": [
    "## Brute-force Approach (Time: O(n^2); Space: O(1))\n",
    "\n",
    "# Definition for singly-linked list.\n",
    "# class ListNode:\n",
    "#     def __init__(self, x):\n",
    "#         self.val = x\n",
    "#         self.next = None\n",
    "\n",
    "class Solution:\n",
    "    def getIntersectionNode(self, headA: ListNode, headB: ListNode) -> ListNode:\n",
    "        ptrA = headA\n",
    "        while ptrA:\n",
    "            ptrB = headB\n",
    "            while ptrB:\n",
    "                if ptrA == ptrB:\n",
    "                    return ptrA\n",
    "                ptrB = ptrB.next\n",
    "            ptrA = ptrA.next\n",
    "        return None"
   ]
  },
  {
   "cell_type": "code",
   "execution_count": null,
   "metadata": {},
   "outputs": [],
   "source": [
    "## Optimized Approach (Time: O(n); Space: O(1))\n",
    "\n",
    "# Definition for singly-linked list.\n",
    "# class ListNode:\n",
    "#     def __init__(self, x):\n",
    "#         self.val = x\n",
    "#         self.next = None\n",
    "\n",
    "class Solution:\n",
    "    def getIntersectionNode(self, headA: ListNode, headB: ListNode) -> ListNode:\n",
    "        ptrA = headA\n",
    "        ptrB = headB\n",
    "        a = b = 0\n",
    "        while ptrA:\n",
    "            ptrA = ptrA.next\n",
    "            a += 1\n",
    "        while ptrB:\n",
    "            ptrB = ptrB.next\n",
    "            b += 1\n",
    "        if a > b:\n",
    "            diff = a - b\n",
    "            ptrA = headA\n",
    "            while diff > 0:\n",
    "                ptrA = ptrA.next\n",
    "                diff -= 1\n",
    "            ptrB = headB\n",
    "        else:\n",
    "            diff = b - a\n",
    "            ptrB = headB\n",
    "            while diff > 0:\n",
    "                ptrB = ptrB.next\n",
    "                diff -= 1\n",
    "            ptrA = headA\n",
    "        while ptrA != ptrB:\n",
    "            ptrA = ptrA.next\n",
    "            ptrB = ptrB.next\n",
    "        return ptrA"
   ]
  },
  {
   "cell_type": "code",
   "execution_count": null,
   "metadata": {},
   "outputs": [],
   "source": [
    "## Further-Optimized Approach (Time: O(n); Space: O(1))\n",
    "\n",
    "# Definition for singly-linked list.\n",
    "# class ListNode:\n",
    "#     def __init__(self, x):\n",
    "#         self.val = x\n",
    "#         self.next = None\n",
    "\n",
    "class Solution:\n",
    "    def getIntersectionNode(self, headA: ListNode, headB: ListNode) -> ListNode:\n",
    "        ptrA = headA\n",
    "        ptrB = headB\n",
    "        while ptrA is not ptrB:\n",
    "            if not ptrA:\n",
    "                ptrA = headB\n",
    "            else:\n",
    "                ptrA = ptrA.next\n",
    "            if not ptrB:\n",
    "                ptrB = headA\n",
    "            else:\n",
    "                ptrB = ptrB.next\n",
    "        return ptrA"
   ]
  }
 ],
 "metadata": {
  "kernelspec": {
   "display_name": "Python 3",
   "language": "python",
   "name": "python3"
  },
  "language_info": {
   "codemirror_mode": {
    "name": "ipython",
    "version": 3
   },
   "file_extension": ".py",
   "mimetype": "text/x-python",
   "name": "python",
   "nbconvert_exporter": "python",
   "pygments_lexer": "ipython3",
   "version": "3.6.8"
  }
 },
 "nbformat": 4,
 "nbformat_minor": 2
}
