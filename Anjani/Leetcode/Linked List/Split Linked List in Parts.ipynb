{
 "cells": [
  {
   "cell_type": "code",
   "execution_count": null,
   "metadata": {},
   "outputs": [],
   "source": [
    "# Definition for singly-linked list.\n",
    "# class ListNode:\n",
    "#     def __init__(self, val=0, next=None):\n",
    "#         self.val = val\n",
    "#         self.next = next\n",
    "class Solution:\n",
    "    def splitListToParts(self, head: ListNode, k: int) -> List[ListNode]:\n",
    "        arr = []\n",
    "        n = 0\n",
    "        ptr = head\n",
    "        while ptr:\n",
    "            n += 1\n",
    "            ptr = ptr.next\n",
    "        each_ll = n // k + 1\n",
    "        if n % k == 0:\n",
    "            each_ll -= 1\n",
    "        ptr = head\n",
    "        i = 1\n",
    "        while k > 0:\n",
    "            if each_ll == 0:\n",
    "                head = None\n",
    "                arr.append(head)\n",
    "                k -= 1\n",
    "            else:\n",
    "                if i == each_ll:\n",
    "                    temp = ptr\n",
    "                    ptr = ptr.next\n",
    "                    temp.next = None\n",
    "                    arr.append(head)\n",
    "                    head = ptr\n",
    "                    i = 1\n",
    "                    k -= 1\n",
    "                    n -= each_ll\n",
    "                    if k > 0:\n",
    "                        each_ll = n // k + 1\n",
    "                        if n % k == 0:\n",
    "                            each_ll -= 1\n",
    "                else:\n",
    "                    i += 1\n",
    "                    ptr = ptr.next\n",
    "        return arr"
   ]
  }
 ],
 "metadata": {
  "kernelspec": {
   "display_name": "Python 3",
   "language": "python",
   "name": "python3"
  },
  "language_info": {
   "codemirror_mode": {
    "name": "ipython",
    "version": 3
   },
   "file_extension": ".py",
   "mimetype": "text/x-python",
   "name": "python",
   "nbconvert_exporter": "python",
   "pygments_lexer": "ipython3",
   "version": "3.6.8"
  }
 },
 "nbformat": 4,
 "nbformat_minor": 2
}
