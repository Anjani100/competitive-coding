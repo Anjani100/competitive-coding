{
 "cells": [
  {
   "cell_type": "code",
   "execution_count": 34,
   "metadata": {},
   "outputs": [
    {
     "name": "stdout",
     "output_type": "stream",
     "text": [
      "[[1, 4], [4, 2, 1], [1], [4, 2, 1], [2], [4, 2, 1], [1, 4], [1, 4, 2, 6], [6], [1, 4, 2, 6], [2, 8, 1], [1], [2, 8, 1], [8, 3], [3], [8, 3], [2, 8, 1], [1, 4, 2, 6], [4], [1, 4, 2, 6]]\n"
     ]
    }
   ],
   "source": [
    "## Just an idea\n",
    "# Definition for singly-linked list.\n",
    "class ListNode:\n",
    "    def __init__(self, val=0, next=None):\n",
    "        self.val = val\n",
    "        self.next = next\n",
    "# Definition for a binary tree node.\n",
    "class TreeNode:\n",
    "    def __init__(self, val=0, left=None, right=None):\n",
    "        self.val = val\n",
    "        self.left = left\n",
    "        self.right = right\n",
    "\n",
    "def isSubPath(head: ListNode, root: TreeNode) -> bool:\n",
    "    def preorder(root, arr = [], temp = []):\n",
    "        if root:\n",
    "            temp.append(root.val)\n",
    "            preorder(root.left, arr, temp)\n",
    "            arr.append(temp)\n",
    "            temp = []\n",
    "            temp.append(root.val)\n",
    "            preorder(root.right, arr, temp)\n",
    "            arr.append(temp)\n",
    "    arr = []\n",
    "    left = []\n",
    "    preorder(root, arr, left)\n",
    "    print(arr)\n",
    "\n",
    "if __name__=='__main__':\n",
    "    head = ListNode(4)\n",
    "    head.next = ListNode(2)\n",
    "    head.next.next = ListNode(8)\n",
    "    root = TreeNode(1)\n",
    "    root.left = TreeNode(4)\n",
    "    root.right = TreeNode(4)\n",
    "    root.left = TreeNode(4)\n",
    "    root.left.right = TreeNode(2)\n",
    "    root.left.right.left = TreeNode(1)\n",
    "    root.right.left = TreeNode(2)\n",
    "    root.right.left.left = TreeNode(6)\n",
    "    root.right.left.right = TreeNode(8)\n",
    "    root.right.left.right.left = TreeNode(1)\n",
    "    root.right.left.right.right = TreeNode(3)\n",
    "    isSubPath(head, root)"
   ]
  },
  {
   "cell_type": "code",
   "execution_count": 36,
   "metadata": {},
   "outputs": [
    {
     "name": "stdout",
     "output_type": "stream",
     "text": [
      "True\n"
     ]
    }
   ],
   "source": [
    "# Definition for singly-linked list.\n",
    "class ListNode:\n",
    "    def __init__(self, val=0, next=None):\n",
    "        self.val = val\n",
    "        self.next = next\n",
    "# Definition for a binary tree node.\n",
    "class TreeNode:\n",
    "    def __init__(self, val=0, left=None, right=None):\n",
    "        self.val = val\n",
    "        self.left = left\n",
    "        self.right = right\n",
    "\n",
    "def isSubPath(head: ListNode, root: TreeNode) -> bool:\n",
    "    def downward_strict(head, root):\n",
    "        if not head:\n",
    "            return True\n",
    "        if not root:\n",
    "            return False\n",
    "        if root.val != head.val:\n",
    "            return False\n",
    "        return downward_strict(head.next, root.left) or downward_strict(head.next, root.right)\n",
    "    def downward(root):\n",
    "        if not root:\n",
    "            return False\n",
    "        return downward_strict(head, root) or downward(root.left) or downward(root.right)\n",
    "    return downward(root)\n",
    "\n",
    "if __name__=='__main__':\n",
    "    head = ListNode(4)\n",
    "    head.next = ListNode(2)\n",
    "    head.next.next = ListNode(8)\n",
    "    root = TreeNode(1)\n",
    "    root.left = TreeNode(4)\n",
    "    root.right = TreeNode(4)\n",
    "    root.left = TreeNode(4)\n",
    "    root.left.right = TreeNode(2)\n",
    "    root.left.right.left = TreeNode(1)\n",
    "    root.right.left = TreeNode(2)\n",
    "    root.right.left.left = TreeNode(6)\n",
    "    root.right.left.right = TreeNode(8)\n",
    "    root.right.left.right.left = TreeNode(1)\n",
    "    root.right.left.right.right = TreeNode(3)\n",
    "    print(isSubPath(head, root))"
   ]
  },
  {
   "cell_type": "code",
   "execution_count": null,
   "metadata": {},
   "outputs": [],
   "source": [
    "# Definition for singly-linked list.\n",
    "# class ListNode:\n",
    "#     def __init__(self, val=0, next=None):\n",
    "#         self.val = val\n",
    "#         self.next = next\n",
    "# Definition for a binary tree node.\n",
    "# class TreeNode:\n",
    "#     def __init__(self, val=0, left=None, right=None):\n",
    "#         self.val = val\n",
    "#         self.left = left\n",
    "#         self.right = right\n",
    "class Solution:\n",
    "    def isSubPath(self, head: ListNode, root: TreeNode) -> bool:\n",
    "        def downward_strict(head, root):\n",
    "            if not head:\n",
    "                return True\n",
    "            if not root:\n",
    "                return False\n",
    "            if root.val != head.val:\n",
    "                return False\n",
    "            return downward_strict(head.next, root.left) or downward_strict(head.next, root.right)\n",
    "        def downward(root):\n",
    "            if not root:\n",
    "                return False\n",
    "            return downward_strict(head, root) or downward(root.left) or downward(root.right)\n",
    "        return downward(root)"
   ]
  }
 ],
 "metadata": {
  "kernelspec": {
   "display_name": "Python 3",
   "language": "python",
   "name": "python3"
  },
  "language_info": {
   "codemirror_mode": {
    "name": "ipython",
    "version": 3
   },
   "file_extension": ".py",
   "mimetype": "text/x-python",
   "name": "python",
   "nbconvert_exporter": "python",
   "pygments_lexer": "ipython3",
   "version": "3.6.8"
  }
 },
 "nbformat": 4,
 "nbformat_minor": 2
}
