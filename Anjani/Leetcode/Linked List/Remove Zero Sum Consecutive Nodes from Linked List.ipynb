{
 "cells": [
  {
   "cell_type": "code",
   "execution_count": null,
   "metadata": {},
   "outputs": [],
   "source": [
    "# Definition for singly-linked list.\n",
    "# class ListNode:\n",
    "#     def __init__(self, val=0, next=None):\n",
    "#         self.val = val\n",
    "#         self.next = next\n",
    "class Solution:\n",
    "    def removeZeroSumSublists(self, head: ListNode) -> ListNode:\n",
    "        start = ptr = pre = head\n",
    "        while ptr and ptr.val == 0:\n",
    "            pre = ptr\n",
    "            ptr = ptr.next\n",
    "        head = start = ptr\n",
    "        temp = head\n",
    "        while temp:\n",
    "            if temp.val == 0:\n",
    "                pre.next = temp.next\n",
    "            else:\n",
    "                pre = temp\n",
    "            temp = temp.next\n",
    "        if not ptr:\n",
    "            return None\n",
    "        while ptr:\n",
    "            temp = ptr\n",
    "            s = 0\n",
    "            while temp:\n",
    "                flag = False\n",
    "                s += temp.val\n",
    "                if s == 0:\n",
    "                    if ptr == head:\n",
    "                        ptr = temp\n",
    "                        head = temp.next\n",
    "                        start = head\n",
    "                    else:\n",
    "                        start.next = temp.next\n",
    "                        ptr = temp\n",
    "                    flag = True\n",
    "                    break\n",
    "                temp = temp.next\n",
    "            if not flag:\n",
    "                start = ptr\n",
    "            if ptr:\n",
    "                ptr = ptr.next\n",
    "        return head"
   ]
  }
 ],
 "metadata": {
  "kernelspec": {
   "display_name": "Python 3",
   "language": "python",
   "name": "python3"
  },
  "language_info": {
   "codemirror_mode": {
    "name": "ipython",
    "version": 3
   },
   "file_extension": ".py",
   "mimetype": "text/x-python",
   "name": "python",
   "nbconvert_exporter": "python",
   "pygments_lexer": "ipython3",
   "version": "3.6.8"
  }
 },
 "nbformat": 4,
 "nbformat_minor": 2
}
