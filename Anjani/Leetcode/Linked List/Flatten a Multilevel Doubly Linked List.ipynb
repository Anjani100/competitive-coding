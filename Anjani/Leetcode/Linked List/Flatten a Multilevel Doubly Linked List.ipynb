{
 "cells": [
  {
   "cell_type": "code",
   "execution_count": null,
   "metadata": {},
   "outputs": [],
   "source": [
    "\"\"\"\n",
    "# Definition for a Node.\n",
    "class Node:\n",
    "    def __init__(self, val, prev, next, child):\n",
    "        self.val = val\n",
    "        self.prev = prev\n",
    "        self.next = next\n",
    "        self.child = child\n",
    "\"\"\"\n",
    "\n",
    "class Solution:\n",
    "    def flatten(self, head: 'Node') -> 'Node':\n",
    "        if not head:\n",
    "            return head\n",
    "        ptr = head\n",
    "        post = head.next\n",
    "        while ptr:\n",
    "            if ptr.child:\n",
    "                ptr.next = ptr.child\n",
    "                ptr.child.prev = ptr\n",
    "                temp = ptr\n",
    "                while temp.next:\n",
    "                    temp = temp.next\n",
    "                temp.next = post\n",
    "                if post:\n",
    "                    post.prev = temp\n",
    "                ptr.child = None\n",
    "            ptr = ptr.next\n",
    "            if ptr:\n",
    "                post = ptr.next\n",
    "        return head"
   ]
  }
 ],
 "metadata": {
  "kernelspec": {
   "display_name": "Python 3",
   "language": "python",
   "name": "python3"
  },
  "language_info": {
   "codemirror_mode": {
    "name": "ipython",
    "version": 3
   },
   "file_extension": ".py",
   "mimetype": "text/x-python",
   "name": "python",
   "nbconvert_exporter": "python",
   "pygments_lexer": "ipython3",
   "version": "3.6.8"
  }
 },
 "nbformat": 4,
 "nbformat_minor": 2
}
