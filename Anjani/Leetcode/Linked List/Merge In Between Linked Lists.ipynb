{
 "cells": [
  {
   "cell_type": "code",
   "execution_count": null,
   "metadata": {},
   "outputs": [],
   "source": [
    "# Definition for singly-linked list.\n",
    "# class ListNode:\n",
    "#     def __init__(self, val=0, next=None):\n",
    "#         self.val = val\n",
    "#         self.next = next\n",
    "class Solution:\n",
    "    def mergeInBetween(self, list1: ListNode, a: int, b: int, list2: ListNode) -> ListNode:\n",
    "        ptr = list1\n",
    "        i = 0\n",
    "        while ptr and i < a - 1:\n",
    "            i += 1\n",
    "            ptr = ptr.next\n",
    "        post = ptr.next\n",
    "        ptr.next = list2\n",
    "        while ptr.next:\n",
    "            ptr = ptr.next\n",
    "        while i < b - 1:\n",
    "            post = post.next\n",
    "            i += 1\n",
    "        ptr.next = post.next\n",
    "        return list1"
   ]
  }
 ],
 "metadata": {
  "kernelspec": {
   "display_name": "Python 3",
   "language": "python",
   "name": "python3"
  },
  "language_info": {
   "codemirror_mode": {
    "name": "ipython",
    "version": 3
   },
   "file_extension": ".py",
   "mimetype": "text/x-python",
   "name": "python",
   "nbconvert_exporter": "python",
   "pygments_lexer": "ipython3",
   "version": "3.6.8"
  }
 },
 "nbformat": 4,
 "nbformat_minor": 2
}
