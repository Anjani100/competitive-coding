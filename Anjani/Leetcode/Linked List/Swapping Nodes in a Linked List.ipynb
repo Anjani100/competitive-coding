{
 "cells": [
  {
   "cell_type": "code",
   "execution_count": null,
   "metadata": {},
   "outputs": [],
   "source": [
    "# Definition for singly-linked list.\n",
    "# class ListNode:\n",
    "#     def __init__(self, val=0, next=None):\n",
    "#         self.val = val\n",
    "#         self.next = next\n",
    "class Solution:\n",
    "    def swapNodes(self, head: ListNode, k: int) -> ListNode:\n",
    "        if not head.next:\n",
    "            return head\n",
    "        n = 0\n",
    "        ptr = head\n",
    "        while ptr:\n",
    "            n += 1\n",
    "            ptr = ptr.next\n",
    "        if k == 1 or k == n:\n",
    "            ptr = head\n",
    "            if not ptr.next.next:\n",
    "                ptr.next.next = ptr\n",
    "                head = ptr.next\n",
    "                ptr.next = None\n",
    "                return head\n",
    "            while ptr.next.next:\n",
    "                ptr = ptr.next\n",
    "            second = ptr.next\n",
    "            second.next = head.next\n",
    "            ptr.next = head\n",
    "            head = second\n",
    "            ptr.next.next = None\n",
    "            return head\n",
    "        ptr = head\n",
    "        i = 1\n",
    "        while ptr:\n",
    "            if i == k - 1:\n",
    "                pre = ptr\n",
    "            if i == n - k:\n",
    "                post = ptr\n",
    "            i += 1\n",
    "            ptr = ptr.next\n",
    "        first = pre.next\n",
    "        second = post.next\n",
    "        pre.next = second\n",
    "        post.next = first\n",
    "        temp = first.next\n",
    "        first.next = second.next\n",
    "        second.next = temp\n",
    "        return head"
   ]
  }
 ],
 "metadata": {
  "kernelspec": {
   "display_name": "Python 3",
   "language": "python",
   "name": "python3"
  },
  "language_info": {
   "codemirror_mode": {
    "name": "ipython",
    "version": 3
   },
   "file_extension": ".py",
   "mimetype": "text/x-python",
   "name": "python",
   "nbconvert_exporter": "python",
   "pygments_lexer": "ipython3",
   "version": "3.6.8"
  }
 },
 "nbformat": 4,
 "nbformat_minor": 2
}
