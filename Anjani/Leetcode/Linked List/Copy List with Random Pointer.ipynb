{
 "cells": [
  {
   "cell_type": "code",
   "execution_count": null,
   "metadata": {},
   "outputs": [],
   "source": [
    "\"\"\"\n",
    "# Definition for a Node.\n",
    "class Node:\n",
    "    def __init__(self, x: int, next: 'Node' = None, random: 'Node' = None):\n",
    "        self.val = int(x)\n",
    "        self.next = next\n",
    "        self.random = random\n",
    "\"\"\"\n",
    "\n",
    "class Solution:\n",
    "    def copyRandomList(self, head: 'Node') -> 'Node':\n",
    "        if not head:\n",
    "            return None\n",
    "        copy_head = Node(head.val)\n",
    "        copy_ptr = copy_head\n",
    "        ptr = head.next\n",
    "        while ptr:\n",
    "            node = Node(ptr.val)\n",
    "            copy_ptr.next = node\n",
    "            copy_ptr = copy_ptr.next\n",
    "            ptr = ptr.next\n",
    "        ptr = head\n",
    "        copy_ptr = copy_head\n",
    "        while ptr:\n",
    "            if not ptr.random:\n",
    "                copy_ptr.random = None\n",
    "                copy_ptr = copy_ptr.next\n",
    "                ptr = ptr.next\n",
    "            else:\n",
    "                rand = ptr.random\n",
    "                temp = head\n",
    "                copy_temp = copy_head\n",
    "                while temp != rand:\n",
    "                    temp = temp.next\n",
    "                    copy_temp = copy_temp.next\n",
    "                copy_ptr.random = copy_temp\n",
    "                copy_ptr = copy_ptr.next\n",
    "                ptr = ptr.next\n",
    "        return copy_head"
   ]
  }
 ],
 "metadata": {
  "kernelspec": {
   "display_name": "Python 3",
   "language": "python",
   "name": "python3"
  },
  "language_info": {
   "codemirror_mode": {
    "name": "ipython",
    "version": 3
   },
   "file_extension": ".py",
   "mimetype": "text/x-python",
   "name": "python",
   "nbconvert_exporter": "python",
   "pygments_lexer": "ipython3",
   "version": "3.6.8"
  }
 },
 "nbformat": 4,
 "nbformat_minor": 2
}
