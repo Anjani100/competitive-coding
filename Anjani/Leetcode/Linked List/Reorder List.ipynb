{
 "cells": [
  {
   "cell_type": "code",
   "execution_count": null,
   "metadata": {},
   "outputs": [],
   "source": [
    "# Definition for singly-linked list.\n",
    "# class ListNode:\n",
    "#     def __init__(self, val=0, next=None):\n",
    "#         self.val = val\n",
    "#         self.next = next\n",
    "class Solution:\n",
    "    def reorderList(self, head: ListNode) -> None:\n",
    "        \"\"\"\n",
    "        Do not return anything, modify head in-place instead.\n",
    "        \"\"\"\n",
    "        if not head or not head.next or not head.next.next:\n",
    "            return head\n",
    "        slow = fast = temp = head\n",
    "        while fast and fast.next:\n",
    "            temp = slow\n",
    "            slow = slow.next\n",
    "            fast = fast.next.next\n",
    "        if slow.next == fast:\n",
    "            head.next = fast\n",
    "            fast.next = slow\n",
    "            slow.next = None\n",
    "            return head\n",
    "        if fast:\n",
    "            pre = slow.next\n",
    "            slow.next = None\n",
    "        else:\n",
    "            temp.next = None\n",
    "            pre = slow\n",
    "        ptr = pre.next\n",
    "        pre.next = None\n",
    "        post = ptr.next\n",
    "        while post:\n",
    "            ptr.next = pre\n",
    "            pre = ptr\n",
    "            ptr = post\n",
    "            post = post.next\n",
    "        ptr.next = pre\n",
    "        post = ptr.next\n",
    "        beg_ptr = head\n",
    "        beg_post = head.next\n",
    "        while ptr:\n",
    "            beg_ptr.next = ptr\n",
    "            ptr.next = beg_post\n",
    "            beg_ptr = beg_post\n",
    "            if beg_post:\n",
    "                beg_post = beg_post.next\n",
    "            ptr = post\n",
    "            if post:\n",
    "                post = post.next\n",
    "        return head"
   ]
  }
 ],
 "metadata": {
  "kernelspec": {
   "display_name": "Python 3",
   "language": "python",
   "name": "python3"
  },
  "language_info": {
   "codemirror_mode": {
    "name": "ipython",
    "version": 3
   },
   "file_extension": ".py",
   "mimetype": "text/x-python",
   "name": "python",
   "nbconvert_exporter": "python",
   "pygments_lexer": "ipython3",
   "version": "3.6.8"
  }
 },
 "nbformat": 4,
 "nbformat_minor": 2
}
