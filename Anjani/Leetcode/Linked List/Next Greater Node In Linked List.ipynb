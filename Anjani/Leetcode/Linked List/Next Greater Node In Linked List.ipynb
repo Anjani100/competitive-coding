{
 "cells": [
  {
   "cell_type": "code",
   "execution_count": null,
   "metadata": {},
   "outputs": [],
   "source": [
    "# Definition for singly-linked list.\n",
    "# class ListNode:\n",
    "#     def __init__(self, val=0, next=None):\n",
    "#         self.val = val\n",
    "#         self.next = next\n",
    "class Solution:\n",
    "    def nextLargerNodes(self, head: ListNode) -> List[int]:\n",
    "        ptr = head\n",
    "        post = head.next\n",
    "        arr = []\n",
    "        while ptr:\n",
    "            val = 0\n",
    "            while post:\n",
    "                if post.val > ptr.val:\n",
    "                    val = post.val\n",
    "                    break\n",
    "                post = post.next\n",
    "            arr.append(val)\n",
    "            ptr = ptr.next\n",
    "            if ptr:\n",
    "                post = ptr.next\n",
    "        return arr"
   ]
  }
 ],
 "metadata": {
  "kernelspec": {
   "display_name": "Python 3",
   "language": "python",
   "name": "python3"
  },
  "language_info": {
   "codemirror_mode": {
    "name": "ipython",
    "version": 3
   },
   "file_extension": ".py",
   "mimetype": "text/x-python",
   "name": "python",
   "nbconvert_exporter": "python",
   "pygments_lexer": "ipython3",
   "version": "3.6.8"
  }
 },
 "nbformat": 4,
 "nbformat_minor": 2
}
