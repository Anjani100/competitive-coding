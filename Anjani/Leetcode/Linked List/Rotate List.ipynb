{
 "cells": [
  {
   "cell_type": "code",
   "execution_count": null,
   "metadata": {},
   "outputs": [],
   "source": [
    "# Brute-force approach (Time: O(n^2))\n",
    "# Definition for singly-linked list.\n",
    "# class ListNode:\n",
    "#     def __init__(self, val=0, next=None):\n",
    "#         self.val = val\n",
    "#         self.next = next\n",
    "class Solution:\n",
    "    def rotateRight(self, head: ListNode, k: int) -> ListNode:\n",
    "        if not head:\n",
    "            return head\n",
    "        n = 0\n",
    "        temp = head\n",
    "        while temp:\n",
    "            temp = temp.next\n",
    "            n += 1\n",
    "        k = k % n\n",
    "        i = 0\n",
    "        while i < k:\n",
    "            i += 1\n",
    "            temp = head\n",
    "            while temp.next.next:\n",
    "                temp = temp.next\n",
    "            ptr = temp.next\n",
    "            temp.next = None\n",
    "            ptr.next = head\n",
    "            head = ptr\n",
    "        return head"
   ]
  }
 ],
 "metadata": {
  "kernelspec": {
   "display_name": "Python 3",
   "language": "python",
   "name": "python3"
  },
  "language_info": {
   "codemirror_mode": {
    "name": "ipython",
    "version": 3
   },
   "file_extension": ".py",
   "mimetype": "text/x-python",
   "name": "python",
   "nbconvert_exporter": "python",
   "pygments_lexer": "ipython3",
   "version": "3.6.8"
  }
 },
 "nbformat": 4,
 "nbformat_minor": 2
}
