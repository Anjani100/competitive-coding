{
 "cells": [
  {
   "cell_type": "code",
   "execution_count": null,
   "metadata": {},
   "outputs": [],
   "source": [
    "# Definition for singly-linked list.\n",
    "# class ListNode:\n",
    "#     def __init__(self, val=0, next=None):\n",
    "#         self.val = val\n",
    "#         self.next = next\n",
    "class Solution:\n",
    "    def reverseBetween(self, head: ListNode, m: int, n: int) -> ListNode:\n",
    "        if not head or not head.next:\n",
    "            return head\n",
    "        if m == n:\n",
    "            return head\n",
    "        i = 1\n",
    "        temp = pre = head\n",
    "        while i < m:\n",
    "            temp = pre\n",
    "            pre = pre.next\n",
    "            i += 1\n",
    "        temp1 = pre\n",
    "        ptr = pre.next\n",
    "        post = ptr.next\n",
    "        while i < n:\n",
    "            ptr.next = pre\n",
    "            pre = ptr\n",
    "            ptr = post\n",
    "            if post:\n",
    "                post = post.next\n",
    "            i += 1\n",
    "        if m == 1:\n",
    "            head = pre\n",
    "        else:\n",
    "            temp.next = pre\n",
    "        temp1.next = ptr\n",
    "        return head"
   ]
  }
 ],
 "metadata": {
  "kernelspec": {
   "display_name": "Python 3",
   "language": "python",
   "name": "python3"
  },
  "language_info": {
   "codemirror_mode": {
    "name": "ipython",
    "version": 3
   },
   "file_extension": ".py",
   "mimetype": "text/x-python",
   "name": "python",
   "nbconvert_exporter": "python",
   "pygments_lexer": "ipython3",
   "version": "3.6.8"
  }
 },
 "nbformat": 4,
 "nbformat_minor": 2
}
